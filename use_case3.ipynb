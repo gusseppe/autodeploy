{
 "cells": [
  {
   "cell_type": "markdown",
   "metadata": {},
   "source": [
    "# Use case 3: \n"
   ]
  },
  {
   "cell_type": "markdown",
   "metadata": {},
   "source": [
    "\n",
    "## Dataset: Breast cancer\n",
    "## Goal:  Preprocess raw data to make predictions."
   ]
  },
  {
   "cell_type": "markdown",
   "metadata": {
    "pycharm": {
     "name": "#%% md\n"
    }
   },
   "source": [
    "### Input:\n",
    "\n",
    "Two ML steps, dataset, and a list of requirements libraries.\n",
    "\n",
    "- gathering.py, preprocessing.py.\n",
    "\n",
    "- breast-cancer.csv\n",
    "\n",
    "- requirements.txt\n",
    "\n",
    "    #### [gathering] -> [preprocessing]\n",
    "\n",
    "### Output:\n",
    "\n",
    "- 1 docker image. It contains the desired pipeline (two stages).\n",
    "- 1 docker container. Dashboard with the workflow metrics and results.\n",
    "\n",
    "    #### [image] - [container]"
   ]
  },
  {
   "cell_type": "markdown",
   "metadata": {},
   "source": [
    "# Autodeploy\n"
   ]
  },
  {
   "cell_type": "markdown",
   "metadata": {},
   "source": [
    "## Setup\n",
    "\n",
    "**Input**:\n",
    " \n",
    "- Folder with the python files, data set and requirements.\n",
    "\n",
    "**Output**: \n",
    "\n",
    "- Pipeline.\n",
    "- Dashboard at  http://localhost:8001/#/\n"
   ]
  },
  {
   "cell_type": "code",
   "execution_count": 3,
   "metadata": {
    "pycharm": {
     "is_executing": false,
     "name": "#%%\n"
    }
   },
   "outputs": [
    {
     "name": "stderr",
     "output_type": "stream",
     "text": [
      "27-Oct-19 21:05:20 -  INFO - Building platform, type: single.\n",
      "27-Oct-19 21:05:20 -  INFO - Dockerfile was found.\n",
      "27-Oct-19 21:05:20 -  WARNING - Image: app_single already exists.\n",
      "27-Oct-19 21:05:20 -  INFO - Running platform, type: single.\n",
      "27-Oct-19 21:05:20 -  ERROR - 409 Client Error: Conflict (\"Conflict. The container name \"/app_single\" is already in use by container \"8c597ef99360f1251126bfe6aa5b19ed08e9cf8891d71830c3e5a0ab28a565b8\". You have to remove (or rename) that container to be able to reuse that name.\")\n",
      "27-Oct-19 21:05:20 -  ERROR - Container creation failed.\n"
     ]
    },
    {
     "data": {
      "text/plain": [
       "<autodeploy.setup.setup.Setup at 0x7fab19e0af98>"
      ]
     },
     "execution_count": 3,
     "metadata": {},
     "output_type": "execute_result"
    }
   ],
   "source": [
    "from autodeploy.setup import setup\n",
    "\n",
    "\n",
    "app_dir = '/home/guess/Desktop/autodeploy/examples/leaf2'\n",
    "workflow = {'gathering': 'gathering.py',\n",
    "            'preprocessing': 'preprocessing.py',\n",
    "            'main': 'main.py'}\n",
    "\n",
    "platform = setup.Setup(app_dir, workflow)\n",
    "\n",
    "platform.build()\n",
    "platform.run()\n",
    "\n",
    "platform\n"
   ]
  },
  {
   "cell_type": "code",
   "execution_count": 5,
   "metadata": {},
   "outputs": [
    {
     "name": "stdout",
     "output_type": "stream",
     "text": [
      "CONTAINER ID        IMAGE               COMMAND             CREATED             STATUS              PORTS               NAMES\n"
     ]
    }
   ],
   "source": [
    "!docker ps"
   ]
  }
 ],
 "metadata": {
  "kernelspec": {
   "display_name": "Python 3",
   "language": "python",
   "name": "python3"
  },
  "language_info": {
   "codemirror_mode": {
    "name": "ipython",
    "version": 3
   },
   "file_extension": ".py",
   "mimetype": "text/x-python",
   "name": "python",
   "nbconvert_exporter": "python",
   "pygments_lexer": "ipython3",
   "version": "3.6.5"
  },
  "pycharm": {
   "stem_cell": {
    "cell_type": "raw",
    "metadata": {
     "collapsed": false
    },
    "source": []
   }
  }
 },
 "nbformat": 4,
 "nbformat_minor": 2
}
