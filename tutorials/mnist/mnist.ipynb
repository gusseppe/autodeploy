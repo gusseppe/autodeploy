{
 "cells": [
  {
   "cell_type": "markdown",
   "metadata": {},
   "source": [
    "## **Installation** \n",
    "\n",
    "- Install Docker and Conda.\n",
    "- sudo usermod -aG docker \"$USER\" (on Linux)\n",
    "- conda create -n scanflow python=3.6\n",
    "- source activate scanflow\n",
    "- git clone https://github.com/gusseppe/scanflow\n",
    "- cd scanflow\n",
    "- pip install -r requirements.txt\n",
    "\n",
    "**In the future**\n",
    "\n",
    "> Install Docker and Conda.\n",
    "\n",
    "> pip install scanflow"
   ]
  },
  {
   "cell_type": "markdown",
   "metadata": {},
   "source": [
    "## **Run scanflow server** \n",
    "\n",
    "It starts the **Scanflow UI** (dashboard) and **Scanflow API** (REST):\n",
    "\n",
    "- python cli.py server\n",
    "\n",
    "Then go to:\n",
    "\n",
    "- http://localhost:8050\n",
    "\n",
    "Note: By default server_port = 8050.\n",
    "\n",
    "Use python cli.py --help for more information."
   ]
  },
  {
   "cell_type": "markdown",
   "metadata": {
    "slideshow": {
     "slide_type": "slide"
    },
    "tags": []
   },
   "source": [
    "## **Steps**\n",
    "\n",
    "- **Training**: Define the training executor using Pytorch and the MNIST data.\n",
    "- **Inference**: Define an inference executor (batch) and a Predictor (online) to make predictions using a trained model.\n",
    "    - Aditionally, we can define the **Agents**: Supervisor, Checker, Improver and Planner agent (more explanation about it below).\n",
    "- **Detector training**: Define a detector training executor that will be trained on x_train. Built-in Scanflow executor (from submitted paper).\n",
    "- **Detector Inference**: Define a detector inference executor for both anomaly detection and anomaly picker. It will be used by the Checker agent. Built-in Scanflow executor (from submitted paper).(https://colab.research.google.com/drive/1t0EgpPk5_mEMNb_AvN7yJ_Tz88bqgS9A). \n",
    "- **Retraining**: Define a retraining executor to retrain the model using x_train + x_chosen. It will be used by the Improver agent.\n",
    "- **Labeling**: Define a labeling executor to label the x_chosen artifact (Future work). \n",
    "- **Custom app**: Call the inference executor from a web application."
   ]
  },
  {
   "cell_type": "markdown",
   "metadata": {},
   "source": [
    "# **Definition and Deployment** 📑\n",
    "\n",
    "Here we start the definition of each step, it consists of setting the images, requirements, python scripts and parameters. This definition is set just once and the behaviour of each step can be changed by its parameters. In a production system, this notebook should be run once in order to start the network, tracker, executors and agents as containers. Then, these containers can be executed or reached on demand by using Scanflow API (e.g. call the Predictor or execute the inference batch)."
   ]
  },
  {
   "cell_type": "markdown",
   "metadata": {
    "slideshow": {
     "slide_type": "slide"
    },
    "tags": []
   },
   "source": [
    "## Model (training)\n",
    "\n",
    "Let's get some MNIST data to train a CNN-based model."
   ]
  },
  {
   "cell_type": "code",
   "execution_count": 1,
   "metadata": {
    "slideshow": {
     "slide_type": "slide"
    },
    "tags": []
   },
   "outputs": [
    {
     "data": {
      "text/plain": [
       "(1000, 28, 28)"
      ]
     },
     "execution_count": 1,
     "metadata": {},
     "output_type": "execute_result"
    }
   ],
   "source": [
    "import utils\n",
    "x_train_sample, y_train_sample = utils.sample_train_mnist()\n",
    "x_train_sample.shape"
   ]
  },
  {
   "cell_type": "markdown",
   "metadata": {},
   "source": [
    "We load only 1k instances (from the original 60k) to make the training faster hence the accuracy will be lower as well."
   ]
  },
  {
   "cell_type": "code",
   "execution_count": 2,
   "metadata": {
    "slideshow": {
     "slide_type": "slide"
    },
    "tags": []
   },
   "outputs": [
    {
     "data": {
      "image/png": "[encoded data removed]",
      "text/plain": [
       "<Figure size 360x360 with 9 Axes>"
      ]
     },
     "metadata": {},
     "output_type": "display_data"
    }
   ],
   "source": [
    "utils.show_numbers(x_train_sample, y_train_sample, title=f\"MNIST sample\")"
   ]
  },
  {
   "cell_type": "markdown",
   "metadata": {},
   "source": [
    "Here we start the training executor definition. We need the following things:\n",
    "\n",
    "**Input**\n",
    "- Python script: `training.py`\n",
    "- Parameters for the script: `model_name`, `x_train_path`, `y_train_path`, etc.\n",
    "- requirements: `req_training.txt`, the required libraries to build the training image.\n",
    "\n",
    "**Output**\n",
    "- The input dataset for both training and testing (x_train, x_test, ...) will be saved in Tracker Repository (MLflow) to have a data version control.\n",
    "- Model (mnist_cnn) and version (1,2,3 and on) will be saved and registered in the Tracker Repository. It will save the artifacts (serialized model) and register the model in the Model Registry.\n",
    "\n",
    "Eventually, the data scientist will select a model version (from the Model Registry) and tag it as a \"Production\" Model. So that, this model will be use in the Inference stage."
   ]
  },
  {
   "cell_type": "code",
   "execution_count": 13,
   "metadata": {
    "slideshow": {
     "slide_type": "slide"
    },
    "tags": []
   },
   "outputs": [
    {
     "name": "stderr",
     "output_type": "stream",
     "text": [
      "10-May-21 10:36:51 -  INFO - [Tracker] Port 8002 is in use by Tracker.\n"
     ]
    },
    {
     "data": {
      "text/plain": [
       "\n",
       "Setup = (\n",
       "    Workflows: ['training-mnist']\n",
       ")"
      ]
     },
     "execution_count": 13,
     "metadata": {},
     "output_type": "execute_result"
    }
   ],
   "source": [
    "import matplotlib.pyplot as plt\n",
    "import os\n",
    "import sys\n",
    "\n",
    "sys.path.insert(1,'../..')\n",
    "from scanflow.setup import Setup, Executor, Workflow\n",
    "from scanflow.special import Tracker, Predictor\n",
    "from scanflow.special import Supervisor, Checker, Improver, Planner \n",
    "from scanflow.deploy import Deploy\n",
    "\n",
    "# workflow folder that contains all the scripts\n",
    "base_path = os.path.dirname(os.path.dirname(os.getcwd()))\n",
    "app_dir = os.path.join(base_path, \"examples/demo_mnist/\")\n",
    "\n",
    "# We can define a list of executors. \n",
    "# In this case, we only have one executor.\n",
    "executors = [Executor(name='training', \n",
    "                      file='training.py',\n",
    "                      parameters={'model_name': 'mnist_cnn',\n",
    "                                  'epochs':6,\n",
    "                                  'x_train_path': './mnist_sample/train_images.npy', \n",
    "                                  'y_train_path': './mnist_sample/train_labels.npy',\n",
    "                                  \n",
    "                                  'x_test_path': './mnist/test_images.npy',\n",
    "                                  'y_test_path': './mnist/test_labels.npy'},\n",
    "                      requirements='req_training.txt')           \n",
    "            ]\n",
    "\n",
    "# A workflow contains a list of executors and also special nodes. \n",
    "# In this case, we have only one special node: Tracker MLflow.\n",
    "workflow1 = Workflow(name='training-mnist', \n",
    "                     executors=executors,\n",
    "                     tracker=Tracker()) # No agents involved\n",
    "    \n",
    "setup = Setup(app_dir, workflows=[workflow1],\n",
    "                             verbose=True)\n",
    "\n",
    "setup"
   ]
  },
  {
   "cell_type": "markdown",
   "metadata": {},
   "source": [
    "All the experiments will be saved at MLflow UI: http://localhost:8002 (Tracker repository). It contains also the Model registry (where all the model versions are registered)."
   ]
  },
  {
   "cell_type": "markdown",
   "metadata": {},
   "source": [
    "Once we have defined the training executor we can then build the corresponding images and start the workflow."
   ]
  },
  {
   "cell_type": "code",
   "execution_count": 14,
   "metadata": {},
   "outputs": [
    {
     "name": "stderr",
     "output_type": "stream",
     "text": [
      "10-May-21 10:36:53 -  WARNING - [+] Network: [network_scanflow] is already running.\n",
      "10-May-21 10:36:53 -  INFO - [+] Compose file [/home/guess/Desktop/scanflow/examples/demo_mnist/stuff/meta/compose-repository/docker-compose.yml] was created successfully.\n",
      "10-May-21 10:36:53 -  INFO - [+] Main file [/home/guess/Desktop/scanflow/examples/demo_mnist/stuff/meta/compose-repository/main.py] was created successfully.\n",
      "10-May-21 10:36:53 -  INFO - [+] Compose file [/home/guess/Desktop/scanflow/examples/demo_mnist/stuff/meta/compose-verbose/docker-compose.yml] was created successfully.\n",
      "10-May-21 10:36:53 -  INFO - [+] Main file [/home/guess/Desktop/scanflow/examples/demo_mnist/stuff/meta/compose-verbose/main.py] was created successfully.\n",
      "10-May-21 10:36:53 -  INFO - [+] Compose file [/home/guess/Desktop/scanflow/examples/demo_mnist/stuff/meta/compose-swarm/docker-compose.yml] was created successfully.\n",
      "10-May-21 10:36:53 -  INFO - [+] Main file [/home/guess/Desktop/scanflow/examples/demo_mnist/stuff/meta/compose-swarm/main.py] was created successfully.\n",
      "10-May-21 10:36:53 -  INFO - [+] Compose file [/home/guess/Desktop/scanflow/examples/demo_mnist/stuff/meta/compose-kubernetes/docker-compose.yml] was created successfully.\n",
      "10-May-21 10:36:53 -  INFO - [+] Main file [/home/guess/Desktop/scanflow/examples/demo_mnist/stuff/meta/compose-kubernetes/main.py] was created successfully.\n",
      "10-May-21 10:36:53 -  INFO - [++] Building workflow: [training-mnist].\n",
      "10-May-21 10:36:53 -  INFO - [+] Building image: [training-mnist:training].\n",
      "10-May-21 10:36:53 -  INFO - [+] Dockerfile: [Dockerfile_training] was created successfully.\n",
      "10-May-21 10:36:53 -  WARNING - [+] Image [training-mnist-training] already exists.\n",
      "10-May-21 10:36:53 -  INFO - [+] Image [training-mnist-training] was loaded successfully.\n",
      "10-May-21 10:36:53 -  INFO - [+] Dockerfile: [Dockerfile_tracker] was created successfully.\n",
      "10-May-21 10:36:53 -  WARNING - [+] Image [tracker-mlflow] already exists.\n",
      "10-May-21 10:36:53 -  INFO - [+] Image [tracker-mlflow] was loaded successfully.\n",
      "10-May-21 10:36:53 -  INFO - [+] Workflow: [training-mnist] was built successfully.\n",
      "  0%|          | 0/1 [00:00<?, ?it/s]10-May-21 10:36:53 -  INFO - [++] Starting workflow: [training-mnist].\n",
      "10-May-21 10:36:53 -  INFO - [+] Starting image: [training-mnist:training].\n",
      "10-May-21 10:36:53 -  WARNING - [+] Environment: [training-mnist-training] is already running.\n",
      "10-May-21 10:36:53 -  INFO - [+] Starting image: [tracker-mlflow.\n",
      "10-May-21 10:36:53 -  WARNING - [+] Environment: [tracker-mlflow] is already running.\n",
      "10-May-21 10:36:53 -  INFO - [Tracker]  'Scanflow' experiment loaded.\n",
      "10-May-21 10:36:53 -  INFO - [+] [containers_alive.json] was loaded successfully.\n",
      "10-May-21 10:36:53 -  INFO - [Tracker]  'Scanflow' experiment loaded.\n",
      "10-May-21 10:36:53 -  INFO - [+] Workflow: [training-mnist] was started successfully.\n",
      "100%|██████████| 1/1 [00:00<00:00,  2.93it/s]\n"
     ]
    }
   ],
   "source": [
    "deployer = Deploy(setup)\n",
    "\n",
    "deployer.build_workflows(True) # verbose=True\n",
    "deployer.start_workflows(True) # verbose=True"
   ]
  },
  {
   "cell_type": "markdown",
   "metadata": {},
   "source": [
    "Now we have a Docker container of name: {workflow-name}-{executor-name} running on the computer.\n",
    "\n",
    "Then, we run the workflow to execute the script (in our case, training.py) inside the new created container. It performs the model training and then save a model version in the Model Registry (http://localhost:8002/#/models).\n"
   ]
  },
  {
   "cell_type": "code",
   "execution_count": 3,
   "metadata": {},
   "outputs": [
    {
     "name": "stderr",
     "output_type": "stream",
     "text": [
      "  0%|          | 0/1 [00:00<?, ?it/s]10-May-21 09:58:01 -  INFO - [++] Running workflow: [training-mnist].\n",
      "10-May-21 09:58:01 -  INFO - [+] Running image: [training-mnist:training].\n",
      "10-May-21 09:58:07 -  INFO - [+] Running (training.py). \n",
      "10-May-21 09:58:07 -  INFO - [+] Output:  /opt/conda/lib/python3.7/site-packages/pl_bolts/utils/warnings.py:32: UserWarning: You want to use `wandb` which is not installed yet, install it with `pip install wandb`.\n",
      "  f' install it with `pip install {pypi_name}`.' + extra_text\n",
      "/opt/conda/lib/python3.7/site-packages/pl_bolts/utils/warnings.py:32: UserWarning: You want to use `matplotlib` which is not installed yet, install it with `pip install matplotlib`.\n",
      "  f' install it with `pip install {pypi_name}`.' + extra_text\n",
      "/opt/conda/lib/python3.7/site-packages/pl_bolts/utils/warnings.py:32: UserWarning: You want to use `gym` which is not installed yet, install it with `pip install gym`.\n",
      "  f' install it with `pip install {pypi_name}`.' + extra_text\n",
      "Global seed set to 42\n",
      "GPU available: False, used: False\n",
      "TPU available: False, using: 0 TPU cores\n",
      "\n",
      "  | Name  | Type       | Params\n",
      "-------------------------------------\n",
      "0 | model | Sequential | 55.1 K\n",
      "-------------------------------------\n",
      "55.1 K    Trainable params\n",
      "0         Non-trainable params\n",
      "55.1 K    Total params\n",
      "0.220     Total estimated model params size (MB)\n",
      "Validation sanity check:   0%|          | 0/2 [00:00<?, ?it/s]val_acc=0.0\n",
      "val_acc=0.1875\n",
      "Epoch 0:  95%|█████████▌| 60/63 [00:00<00:00, 209.36it/s, loss=3.49]\n",
      "Validating: 0it [00:00, ?it/s]\u001b[A\n",
      "Validating:   0%|          | 0/13 [00:00<?, ?it/s]\u001b[Aval_acc=0.5625\n",
      "val_acc=0.375\n",
      "val_acc=0.375\n",
      "val_acc=0.5625\n",
      "val_acc=0.625\n",
      "val_acc=0.625\n",
      "val_acc=0.25\n",
      "val_acc=0.375\n",
      "val_acc=0.5625\n",
      "val_acc=0.6875\n",
      "val_acc=0.5625\n",
      "val_acc=0.5\n",
      "val_acc=0.25\n",
      "Epoch 0: 100%|██████████| 63/63 [00:00<00:00, 167.08it/s, loss=2.81]\n",
      "Epoch 1:  63%|██████▎   | 40/63 [00:00<00:00, 207.77it/s, loss=1.86]\n",
      "Validating: 0it [00:00, ?it/s]\u001b[A\n",
      "Validating:   0%|          | 0/13 [00:00<?, ?it/s]\u001b[Aval_acc=0.75\n",
      "val_acc=0.5625\n",
      "val_acc=0.5\n",
      "val_acc=0.75\n",
      "val_acc=0.6875\n",
      "val_acc=0.75\n",
      "val_acc=0.375\n",
      "val_acc=0.5\n",
      "val_acc=0.5625\n",
      "val_acc=0.6875\n",
      "val_acc=0.5625\n",
      "val_acc=0.5625\n",
      "val_acc=0.25\n",
      "Epoch 1: 100%|██████████| 63/63 [00:00<00:00, 181.42it/s, loss=1.65]\n",
      "Epoch 2:  63%|██████▎   | 40/63 [00:00<00:00, 168.44it/s, loss=1.21]\n",
      "Validating: 0it [00:00, ?it/s]\u001b[A\n",
      "Validating:   0%|          | 0/13 [00:00<?, ?it/s]\u001b[Aval_acc=0.8125\n",
      "val_acc=0.75\n",
      "val_acc=0.4375\n",
      "val_acc=0.875\n",
      "val_acc=0.75\n",
      "val_acc=0.75\n",
      "val_acc=0.5\n",
      "val_acc=0.625\n",
      "val_acc=0.75\n",
      "val_acc=0.6875\n",
      "val_acc=0.75\n",
      "val_acc=0.6875\n",
      "val_acc=0.375\n",
      "Epoch 2: 100%|██████████| 63/63 [00:00<00:00, 158.67it/s, loss=1.26]\n",
      "Epoch 3:  63%|██████▎   | 40/63 [00:00<00:00, 187.33it/s, loss=1.05]\n",
      "Validating: 0it [00:00, ?it/s]\u001b[A\n",
      "Validating:   0%|          | 0/13 [00:00<?, ?it/s]\u001b[Aval_acc=0.75\n",
      "val_acc=0.75\n",
      "val_acc=0.5625\n",
      "val_acc=0.875\n",
      "val_acc=0.75\n",
      "val_acc=0.75\n",
      "val_acc=0.5625\n",
      "val_acc=0.6875\n",
      "val_acc=0.6875\n",
      "val_acc=0.8125\n",
      "val_acc=0.75\n",
      "val_acc=0.625\n",
      "val_acc=0.375\n",
      "Epoch 3: 100%|██████████| 63/63 [00:00<00:00, 181.53it/s, loss=1.09]\n",
      "Epoch 4:  63%|██████▎   | 40/63 [00:00<00:00, 180.23it/s, loss=0.747]\n",
      "Validating: 0it [00:00, ?it/s]\u001b[A\n",
      "Validating:   0%|          | 0/13 [00:00<?, ?it/s]\u001b[Aval_acc=0.75\n",
      "val_acc=0.75\n",
      "val_acc=0.625\n",
      "val_acc=0.875\n",
      "val_acc=0.875\n",
      "val_acc=0.8125\n",
      "val_acc=0.75\n",
      "val_acc=0.6875\n",
      "val_acc=0.625\n",
      "val_acc=0.8125\n",
      "val_acc=0.6875\n",
      "val_acc=0.75\n",
      "val_acc=0.75\n",
      "Epoch 4: 100%|██████████| 63/63 [00:00<00:00, 163.54it/s, loss=0.724]\n",
      "Epoch 5:  63%|██████▎   | 40/63 [00:00<00:00, 168.20it/s, loss=0.628]\n",
      "Validating: 0it [00:00, ?it/s]\u001b[A\n",
      "Validating:   0%|          | 0/13 [00:00<?, ?it/s]\u001b[Aval_acc=0.75\n",
      "val_acc=0.8125\n",
      "val_acc=0.5\n",
      "val_acc=0.875\n",
      "val_acc=0.875\n",
      "val_acc=0.8125\n",
      "val_acc=0.5\n",
      "val_acc=0.75\n",
      "val_acc=0.75\n",
      "val_acc=0.75\n",
      "val_acc=0.875\n",
      "val_acc=0.75\n",
      "val_acc=0.625\n",
      "Epoch 5: 100%|██████████| 63/63 [00:00<00:00, 170.60it/s, loss=0.594]\n",
      "Epoch 5: 100%|██████████| 63/63 [00:00<00:00, 170.17it/s, loss=0.594]Registered model 'mnist_cnn' already exists. Creating a new version of this model...\n",
      "2021/05/10 07:58:06 INFO mlflow.tracking._model_registry.client: Waiting up to 300 seconds for model version to finish creation.                     Model name: mnist_cnn, version 5\n",
      "\n",
      "Created version '5' of model 'mnist_cnn'.\n",
      " \n",
      "10-May-21 09:58:07 -  INFO - [+] Environment (training-mnist-training) finished successfully. \n",
      "10-May-21 09:58:07 -  INFO - [+] Workflow: [training-mnist] was run successfully.\n",
      "100%|██████████| 1/1 [00:06<00:00,  6.22s/it]\n",
      "10-May-21 09:58:07 -  INFO - [+] Elapsed time: 6.22 seconds\n"
     ]
    }
   ],
   "source": [
    "deployer.run_workflows(verbose=True)"
   ]
  },
  {
   "cell_type": "code",
   "execution_count": 3,
   "metadata": {},
   "outputs": [
    {
     "name": "stderr",
     "output_type": "stream",
     "text": [
      "07-May-21 11:06:31 -  INFO - [+] Environment: [training-mnist-training] was stopped successfully.\n",
      "07-May-21 11:06:31 -  INFO - [+] Tracker: [tracker-mlflow] is not running in local.\n",
      "07-May-21 11:06:31 -  INFO - [+] Stopped containers were pruned.\n",
      "07-May-21 11:06:31 -  INFO - [+] Network: [network_training-mnist] is not running in local.\n"
     ]
    }
   ],
   "source": [
    "# Of course you can stop the workflows, \n",
    "# it will stop and prune all the created containers.\n",
    "# deployer.stop_workflows()"
   ]
  },
  {
   "cell_type": "markdown",
   "metadata": {},
   "source": [
    "## Model (inference)\n",
    "\n"
   ]
  },
  {
   "cell_type": "markdown",
   "metadata": {},
   "source": [
    "### Batch and Online"
   ]
  },
  {
   "cell_type": "markdown",
   "metadata": {},
   "source": [
    "Similar to the training part, we define the inference executor (**batch**). We need the following:\n",
    "\n",
    "- Python script: `inference-batch.py`\n",
    "- Parameters for the script: `x_inference_path`, `model_name` and `model_version`.\n",
    "- requirements: `req_inference_batch.txt`, the required libraries to build the inference image."
   ]
  },
  {
   "cell_type": "markdown",
   "metadata": {},
   "source": [
    "Apart from the inference executor we also define a Predictor and the special agents:\n",
    "\n",
    "- **Predictor**: this node creates both the UI and API for the **online** inference. It requires the `predictor.py` that is similar to the `inference-batch.py`. Located at `stuff/predictor/predictor.py`\n",
    "- **Supervisor**: the one in charge of linking the multi agent system to the outside. For instance, it can get the x_inference and feed it to the Checker agent. Located at `stuff/supervisor/agent/supervisor_agent.py`\n",
    "- **Checker**: this agent calls the detector to get the anomalies and the chosen instances to be considered for the retraining. The Checker's output is the feedback. `stuff/supervisor/agent/checker_agent.py`\n",
    "- **Improver**: it decides what to do with the feedback. For instance, if n_anomalies > threshold, then perform a retraining with x_train + x_chosen. `stuff/supervisor/agent/improver_agent.py`\n",
    "- **Planner**: this agent receives the order from the Improver to make some changes in the original workflow. For instance, change the current \"Production\" model by the new created model from the Improver. `stuff/supervisor/agent/planner_agent.py`"
   ]
  },
  {
   "cell_type": "code",
   "execution_count": 15,
   "metadata": {},
   "outputs": [
    {
     "name": "stderr",
     "output_type": "stream",
     "text": [
      "10-May-21 10:37:10 -  INFO - [Predictor] Port 8010 is in use by Predictor.\n",
      "10-May-21 10:37:10 -  INFO - [Tracker] Port 8002 is in use by Tracker.\n",
      "10-May-21 10:37:10 -  INFO - [Supervisor] Port 8003 is in use by Supervisor.\n",
      "10-May-21 10:37:10 -  INFO - [Checker] Port 8004 is in use by Checker.\n",
      "10-May-21 10:37:10 -  INFO - [Improver] Port 8005 is in use by Improver.\n",
      "10-May-21 10:37:10 -  INFO - [Planner] Port 8006 is in use by Planner.\n"
     ]
    },
    {
     "data": {
      "text/plain": [
       "\n",
       "Setup = (\n",
       "    Workflows: ['inference-mnist']\n",
       ")"
      ]
     },
     "execution_count": 15,
     "metadata": {},
     "output_type": "execute_result"
    }
   ],
   "source": [
    "# This executor can receive any mnist model name and version (from Model Registry).\n",
    "# This inference is of type \"batch\", meaning that the inference \n",
    "# is done by a python script (predict) and not deployed as an API (REST).\n",
    "\n",
    "executors = [Executor(name='inference', \n",
    "                      file='inference-batch.py',\n",
    "                      parameters={'model_name':'mnist_cnn',\n",
    "                                  'model_version':'1',\n",
    "#                                   'model_stage':'Production',\n",
    "                                  },\n",
    "                      image='training-mnist-training')           \n",
    "            ]\n",
    "\n",
    "\n",
    "# Almost with the same inference-batch.py code you can get an online predictor.\n",
    "# This predictor has both an UI (localhost:8010) and API (localhost:8011)\n",
    "\n",
    "predictor = Predictor(file ='predictor.py', # located at stuff/predictor\n",
    "                      image='training-mnist-training', #reuse the training image\n",
    "                      port = 8010,\n",
    "                      function = 'main') # function inside predictor.py that has the I/O.\n",
    "\n",
    "workflow1 = Workflow(name='inference-mnist', \n",
    "                     executors=executors,\n",
    "                     tracker=Tracker(), #mlflow\n",
    "                     predictor=predictor,\n",
    "                     \n",
    "                     supervisor=Supervisor(),\n",
    "                     checker=Checker(),\n",
    "                     improver=Improver(),\n",
    "                     planner=Planner())\n",
    "    \n",
    "setup = Setup(app_dir, workflows=[workflow1],\n",
    "                             verbose=True)\n",
    "\n",
    "setup"
   ]
  },
  {
   "cell_type": "code",
   "execution_count": 16,
   "metadata": {},
   "outputs": [
    {
     "name": "stderr",
     "output_type": "stream",
     "text": [
      "100%|██████████| 1/1 [00:00<00:00,  1.16it/s]\n"
     ]
    }
   ],
   "source": [
    "deployer = Deploy(setup)\n",
    "\n",
    "deployer.build_workflows()\n",
    "deployer.start_workflows()\n",
    "# deployer.pipeline() # Build, Start and Run all together"
   ]
  },
  {
   "cell_type": "code",
   "execution_count": 3,
   "metadata": {},
   "outputs": [],
   "source": [
    "# deployer.run_workflows(True)"
   ]
  },
  {
   "cell_type": "code",
   "execution_count": 5,
   "metadata": {},
   "outputs": [],
   "source": [
    "# deployer.stop_workflows()"
   ]
  },
  {
   "cell_type": "markdown",
   "metadata": {},
   "source": [
    "## Detector (training)\n",
    "\n",
    "This executor trains the drift detector using the **x_train**. It learns the original distribution patterns to then detect if the **x_inference** follows a similar one."
   ]
  },
  {
   "cell_type": "code",
   "execution_count": 17,
   "metadata": {},
   "outputs": [
    {
     "data": {
      "text/plain": [
       "\n",
       "Setup = (\n",
       "    Workflows: ['detector-training-mnist']\n",
       ")"
      ]
     },
     "execution_count": 17,
     "metadata": {},
     "output_type": "execute_result"
    }
   ],
   "source": [
    "# This detector-batch comprises an anomaly detector and a picker\n",
    "executors = [Executor(name='detector-training', \n",
    "                      file='detector-training.py',\n",
    "                      parameters={'name': 'detector_mnist',\n",
    "                                  'x_train_path': './mnist_sample/train_images.npy',\n",
    "                                  },\n",
    "                      requirements='req_detector.txt')           \n",
    "            ]\n",
    "\n",
    "\n",
    "workflow1 = Workflow(name='detector-training-mnist', \n",
    "                     executors=executors,\n",
    "                     tracker=Tracker())\n",
    "    \n",
    "setup = Setup(app_dir, workflows=[workflow1],\n",
    "                             verbose=True)\n",
    "\n",
    "setup"
   ]
  },
  {
   "cell_type": "code",
   "execution_count": 18,
   "metadata": {},
   "outputs": [
    {
     "name": "stderr",
     "output_type": "stream",
     "text": [
      "  0%|          | 0/1 [00:00<?, ?it/s]10-May-21 10:37:23 -  INFO - [++] Starting workflow: [detector-training-mnist].\n",
      "10-May-21 10:37:23 -  INFO - [+] Starting image: [detector-training-mnist:detector-training].\n",
      "10-May-21 10:37:23 -  WARNING - [+] Environment: [detector-training-mnist-detector-training] is already running.\n",
      "10-May-21 10:37:23 -  INFO - [+] Starting image: [tracker-mlflow.\n",
      "10-May-21 10:37:23 -  WARNING - [+] Environment: [tracker-mlflow] is already running.\n",
      "10-May-21 10:37:23 -  INFO - [Tracker]  'Scanflow' experiment loaded.\n",
      "10-May-21 10:37:23 -  INFO - [+] [containers_alive.json] was loaded successfully.\n",
      "10-May-21 10:37:23 -  INFO - [Tracker]  'Scanflow' experiment loaded.\n",
      "10-May-21 10:37:23 -  INFO - [+] Workflow: [detector-training-mnist] was started successfully.\n",
      "100%|██████████| 1/1 [00:00<00:00,  2.94it/s]\n"
     ]
    }
   ],
   "source": [
    "deployer = Deploy(setup)\n",
    "\n",
    "deployer.build_workflows()\n",
    "deployer.start_workflows(True)\n",
    "# deployer.pipeline() # Build, Start and Run"
   ]
  },
  {
   "cell_type": "code",
   "execution_count": 8,
   "metadata": {},
   "outputs": [
    {
     "name": "stderr",
     "output_type": "stream",
     "text": [
      "  0%|          | 0/1 [00:00<?, ?it/s]10-May-21 10:24:58 -  INFO - [++] Running workflow: [detector-training-mnist].\n",
      "10-May-21 10:24:58 -  INFO - [+] Running image: [detector-training-mnist:detector-training].\n",
      "10-May-21 10:25:05 -  INFO - [+] Running (detector-training.py). \n",
      "10-May-21 10:25:05 -  INFO - [+] Output:  2021-05-10 08:24:59.664977: W tensorflow/stream_executor/platform/default/dso_loader.cc:60] Could not load dynamic library 'libcudart.so.11.0'; dlerror: libcudart.so.11.0: cannot open shared object file: No such file or directory\n",
      "2021-05-10 08:24:59.665020: I tensorflow/stream_executor/cuda/cudart_stub.cc:29] Ignore above cudart dlerror if you do not have a GPU set up on your machine.\n",
      "2021-05-10 08:25:01.764991: I tensorflow/compiler/jit/xla_cpu_device.cc:41] Not creating XLA devices, tf_xla_enable_xla_devices not set\n",
      "2021-05-10 08:25:01.765798: W tensorflow/stream_executor/platform/default/dso_loader.cc:60] Could not load dynamic library 'libcuda.so.1'; dlerror: libcuda.so.1: cannot open shared object file: No such file or directory\n",
      "2021-05-10 08:25:01.765825: W tensorflow/stream_executor/cuda/cuda_driver.cc:326] failed call to cuInit: UNKNOWN ERROR (303)\n",
      "2021-05-10 08:25:01.765849: I tensorflow/stream_executor/cuda/cuda_diagnostics.cc:156] kernel driver does not appear to be running on this host (05ade5e5b4a1): /proc/driver/nvidia/version does not exist\n",
      "2021-05-10 08:25:01.766283: I tensorflow/core/platform/cpu_feature_guard.cc:142] This TensorFlow binary is optimized with oneAPI Deep Neural Network Library (oneDNN) to use the following CPU instructions in performance-critical operations:  AVX2 FMA\n",
      "To enable them in other operations, rebuild TensorFlow with the appropriate compiler flags.\n",
      "2021-05-10 08:25:01.766491: I tensorflow/compiler/jit/xla_gpu_device.cc:99] Not creating XLA devices, tf_xla_enable_xla_devices not set\n",
      "2021-05-10 08:25:01.893420: I tensorflow/compiler/mlir/mlir_graph_optimization_pass.cc:116] None of the MLIR optimization passes are enabled (registered 2)\n",
      "2021-05-10 08:25:01.916405: I tensorflow/core/platform/profile_utils/cpu_utils.cc:112] CPU Frequency: 2899885000 Hz\n",
      "2021-05-10 08:25:02.561297: W tensorflow/core/framework/cpu_allocator_impl.cc:80] Allocation of 31610880 exceeds 10% of free system memory.\n",
      "2021-05-10 08:25:02.564376: W tensorflow/core/framework/cpu_allocator_impl.cc:80] Allocation of 31610880 exceeds 10% of free system memory.\n",
      "2021-05-10 08:25:02.637946: W tensorflow/core/framework/cpu_allocator_impl.cc:80] Allocation of 24159744 exceeds 10% of free system memory.\n",
      "2021-05-10 08:25:02.638275: W tensorflow/core/framework/cpu_allocator_impl.cc:80] Allocation of 24159744 exceeds 10% of free system memory.\n",
      "2021-05-10 08:25:02.647790: W tensorflow/core/framework/cpu_allocator_impl.cc:80] Allocation of 25454592 exceeds 10% of free system memory.\n",
      "[+] Training Checker\n",
      "8/8 [==============================] - 2s 145ms/step - loss: 0.2288 - val_loss: 0.2296\n",
      "2021-05-10 08:25:04.051277: W tensorflow/python/util/util.cc:348] Sets are not currently considered sequences, but this may change in the future, so consider avoiding using them.\n",
      "Registered model 'detector_mnist' already exists. Creating a new version of this model...\n",
      "2021/05/10 08:25:05 INFO mlflow.tracking._model_registry.client: Waiting up to 300 seconds for model version to finish creation.                     Model name: detector_mnist, version 2\n",
      "Created version '2' of model 'detector_mnist'.\n",
      " \n",
      "10-May-21 10:25:05 -  INFO - [+] Environment (detector-training-mnist-detector-training) finished successfully. \n",
      "10-May-21 10:25:05 -  INFO - [+] Workflow: [detector-training-mnist] was run successfully.\n",
      "100%|██████████| 1/1 [00:07<00:00,  7.30s/it]\n",
      "10-May-21 10:25:05 -  INFO - [+] Elapsed time: 7.3 seconds\n"
     ]
    }
   ],
   "source": [
    "deployer.run_workflows(verbose=True)"
   ]
  },
  {
   "cell_type": "code",
   "execution_count": 30,
   "metadata": {},
   "outputs": [],
   "source": [
    "# deployer.stop_workflows()"
   ]
  },
  {
   "cell_type": "markdown",
   "metadata": {},
   "source": [
    "## Detector (inference)\n",
    "\n",
    "This executor contains the detector (for inference) and the picker. This detector will be used by the Checker agent."
   ]
  },
  {
   "cell_type": "code",
   "execution_count": 19,
   "metadata": {},
   "outputs": [
    {
     "name": "stderr",
     "output_type": "stream",
     "text": [
      "10-May-21 10:37:30 -  INFO - [Tracker] Port 8002 is in use by Tracker.\n"
     ]
    },
    {
     "data": {
      "text/plain": [
       "\n",
       "Setup = (\n",
       "    Workflows: ['detector-inference-mnist']\n",
       ")"
      ]
     },
     "execution_count": 19,
     "metadata": {},
     "output_type": "execute_result"
    }
   ],
   "source": [
    "# This detector-batch comprises an anomaly detector and a picker\n",
    "# It requires the inference run_id from where to get the artifacts.\n",
    "# Apart from the run_id it requires the artifact paths. \n",
    "# Both run_id and artifact paths can be changed dynamically.\n",
    "\n",
    "executors = [Executor(name='detector-batch', \n",
    "                      file='detector-batch.py',\n",
    "                      parameters={'run_id': 'inference_run_id', \n",
    "                                  'x_inference_artifact': 'x_inference.npy',\n",
    "                                  'y_inference_artifact': 'y_inference.npy'\n",
    "                                 },\n",
    "                      requirements='req_detector.txt')           \n",
    "            ]\n",
    "\n",
    "workflow1 = Workflow(name='detector-inference-mnist', \n",
    "                     executors=executors,\n",
    "                     tracker=Tracker())\n",
    "    \n",
    "setup = Setup(app_dir, workflows=[workflow1],\n",
    "                             verbose=True)\n",
    "\n",
    "setup"
   ]
  },
  {
   "cell_type": "code",
   "execution_count": 10,
   "metadata": {},
   "outputs": [
    {
     "name": "stderr",
     "output_type": "stream",
     "text": [
      "  0%|          | 0/1 [00:00<?, ?it/s]10-May-21 10:25:31 -  INFO - [++] Starting workflow: [detector-inference-mnist].\n",
      "10-May-21 10:25:31 -  INFO - [+] Starting image: [detector-inference-mnist:detector-batch].\n",
      "10-May-21 10:25:31 -  WARNING - [+] Environment: [detector-inference-mnist-detector-batch] is already running.\n",
      "10-May-21 10:25:31 -  INFO - [+] Starting image: [tracker-mlflow.\n",
      "10-May-21 10:25:31 -  WARNING - [+] Environment: [tracker-mlflow] is already running.\n",
      "10-May-21 10:25:31 -  INFO - [Tracker]  'Scanflow' experiment loaded.\n",
      "10-May-21 10:25:31 -  INFO - [+] [containers_alive.json] was loaded successfully.\n",
      "10-May-21 10:25:31 -  INFO - [Tracker]  'Scanflow' experiment loaded.\n",
      "10-May-21 10:25:32 -  INFO - [+] Workflow: [detector-inference-mnist] was started successfully.\n",
      "100%|██████████| 1/1 [00:00<00:00,  2.63it/s]\n"
     ]
    }
   ],
   "source": [
    "deployer = Deploy(setup)\n",
    "\n",
    "deployer.build_workflows()\n",
    "deployer.start_workflows(True)\n",
    "# deployer.pipeline() # Build, Start and Run"
   ]
  },
  {
   "cell_type": "code",
   "execution_count": 33,
   "metadata": {},
   "outputs": [
    {
     "name": "stderr",
     "output_type": "stream",
     "text": [
      "06-May-21 20:31:30 -  INFO - [+] Environment: [detector-inference-mnist-detector-batch] was stopped successfully.\n",
      "06-May-21 20:31:30 -  INFO - [+] Tracker: [tracker-mlflow] is not running in local.\n",
      "06-May-21 20:31:30 -  INFO - [+] Stopped containers were pruned.\n",
      "06-May-21 20:31:30 -  INFO - [+] Network: [network_detector-inference-mnist] is not running in local.\n"
     ]
    }
   ],
   "source": [
    "# deployer.stop_workflows()"
   ]
  },
  {
   "cell_type": "code",
   "execution_count": 58,
   "metadata": {},
   "outputs": [],
   "source": [
    "# deployer.run_workflows(verbose=True)"
   ]
  },
  {
   "cell_type": "markdown",
   "metadata": {},
   "source": [
    "## Retraining\n",
    "\n",
    "This executor will be used by the Improver agent to retrain the model. So that, the new training dataset will be as follows:\n",
    "\n",
    "**Without human intervention**\n",
    "\n",
    "> x_new_train = x_train + x_chosen.\n",
    "\n",
    "> y_new_train = y_train + y_predicted.\n",
    "\n",
    "**With human intervention**\n",
    "\n",
    "> x_new_train = x_train + x_chosen.\n",
    "\n",
    "> y_new_train = y_train + y_human_labeled."
   ]
  },
  {
   "cell_type": "code",
   "execution_count": 20,
   "metadata": {},
   "outputs": [
    {
     "name": "stderr",
     "output_type": "stream",
     "text": [
      "10-May-21 10:37:39 -  INFO - [Tracker] Port 8002 is in use by Tracker.\n"
     ]
    },
    {
     "data": {
      "text/plain": [
       "\n",
       "Setup = (\n",
       "    Workflows: ['retraining-mnist']\n",
       ")"
      ]
     },
     "execution_count": 20,
     "metadata": {},
     "output_type": "execute_result"
    }
   ],
   "source": [
    "executors = [Executor(name='retraining', \n",
    "                      file='retraining.py',\n",
    "                      parameters={'model_name': 'mnist_cnn_retrained',\n",
    "                                  'run_id': 'inference_run_id',\n",
    "                                  'x_new_train_artifact': 'x_inference.npy', \n",
    "                                  'y_new_train_artifact': 'y_inference.npy',\n",
    "                                  \n",
    "                                  'x_test_path': './mnist/test_images.npy',\n",
    "                                  'y_test_path': './mnist/test_labels.npy'},\n",
    "                      image='training-mnist-training') #reuse the training image         \n",
    "            ]\n",
    "\n",
    "\n",
    "workflow1 = Workflow(name='retraining-mnist', \n",
    "                     executors=executors,\n",
    "                     tracker=Tracker())\n",
    "    \n",
    "setup = Setup(app_dir, workflows=[workflow1],\n",
    "                             verbose=True)\n",
    "\n",
    "setup"
   ]
  },
  {
   "cell_type": "code",
   "execution_count": 21,
   "metadata": {},
   "outputs": [
    {
     "name": "stderr",
     "output_type": "stream",
     "text": [
      "  0%|          | 0/1 [00:00<?, ?it/s]10-May-21 10:37:41 -  INFO - [++] Starting workflow: [retraining-mnist].\n",
      "10-May-21 10:37:41 -  INFO - [+] Starting image: [retraining-mnist:retraining].\n",
      "10-May-21 10:37:41 -  WARNING - [+] Environment: [retraining-mnist-retraining] is already running.\n",
      "10-May-21 10:37:41 -  INFO - [+] Starting image: [tracker-mlflow.\n",
      "10-May-21 10:37:41 -  WARNING - [+] Environment: [tracker-mlflow] is already running.\n",
      "10-May-21 10:37:41 -  INFO - [Tracker]  'Scanflow' experiment loaded.\n",
      "10-May-21 10:37:41 -  INFO - [+] [containers_alive.json] was loaded successfully.\n",
      "10-May-21 10:37:41 -  INFO - [Tracker]  'Scanflow' experiment loaded.\n",
      "10-May-21 10:37:41 -  INFO - [+] Workflow: [retraining-mnist] was started successfully.\n",
      "100%|██████████| 1/1 [00:00<00:00,  2.33it/s]\n"
     ]
    }
   ],
   "source": [
    "deployer = Deploy(setup)\n",
    "\n",
    "deployer.build_workflows()\n",
    "deployer.start_workflows(True)"
   ]
  },
  {
   "cell_type": "code",
   "execution_count": 59,
   "metadata": {},
   "outputs": [],
   "source": [
    "# deployer.run_workflows(verbose=True)"
   ]
  },
  {
   "cell_type": "code",
   "execution_count": 16,
   "metadata": {},
   "outputs": [],
   "source": [
    "# deployer.stop_workflows()"
   ]
  },
  {
   "cell_type": "markdown",
   "metadata": {},
   "source": [
    "## Labeling (Human agent)\n",
    "\n",
    "It contains the Active learning step. Available soon"
   ]
  },
  {
   "cell_type": "code",
   "execution_count": null,
   "metadata": {},
   "outputs": [],
   "source": []
  },
  {
   "cell_type": "markdown",
   "metadata": {},
   "source": [
    "# **Productionizing** 🖥️"
   ]
  },
  {
   "cell_type": "markdown",
   "metadata": {},
   "source": [
    "## Custom App\n",
    "\n",
    "Scanflow provides a ready-to-use app when creating a `Predictor` node (http://localhost:8010/), of course, you can also create custom apps for any executor.\n",
    "\n",
    "You can embed scanflow executors into your web apps. For this example we provide two apps using `gradio` to create custom UIs:\n",
    "\n",
    "- `pip install gradio`\n",
    "- `python app1.py mnist_cnn 1`\n",
    "- `python app2.py mnist_cnn 1`\n",
    "\n",
    "Where `mnist_cnn` is the model's name and `1` is its version. You can find them at http://localhost:8002/#/models"
   ]
  },
  {
   "cell_type": "markdown",
   "metadata": {},
   "source": [
    "## Agent Explanation\n",
    "\n",
    "It provides the explanation of each agent decision."
   ]
  },
  {
   "cell_type": "markdown",
   "metadata": {},
   "source": [
    "Please go to http://localhost:8050/agents"
   ]
  },
  {
   "cell_type": "markdown",
   "metadata": {},
   "source": [
    "# Remove all the metadata\n",
    "\n",
    "It will remove artifacts, metrics, params and also registered models."
   ]
  },
  {
   "cell_type": "code",
   "execution_count": 1,
   "metadata": {},
   "outputs": [],
   "source": [
    "import pandas as pd\n",
    "import os\n",
    "import sys\n",
    "sys.path.insert(0,'../..')\n",
    "\n",
    "from scanflow import track\n",
    "\n",
    "base_path = os.path.dirname(os.path.dirname(os.getcwd()))\n",
    "app_dir = os.path.join(base_path, \"examples/demo_mnist/\")\n",
    "tracker = track.Tracker(app_dir)\n",
    "# last_artifacts = tracker.list_artifacts(workflow_name='mnist')\n",
    "# print(last_artifacts.keys())\n"
   ]
  },
  {
   "cell_type": "code",
   "execution_count": 9,
   "metadata": {},
   "outputs": [],
   "source": [
    "# tracker.delete_tracked_data()"
   ]
  }
 ],
 "metadata": {
  "kernelspec": {
   "display_name": "Python 3",
   "language": "python",
   "name": "python3"
  },
  "language_info": {
   "codemirror_mode": {
    "name": "ipython",
    "version": 3
   },
   "file_extension": ".py",
   "mimetype": "text/x-python",
   "name": "python",
   "nbconvert_exporter": "python",
   "pygments_lexer": "ipython3",
   "version": "3.7.5"
  },
  "toc-autonumbering": true,
  "toc-showcode": false,
  "toc-showmarkdowntxt": false,
  "toc-showtags": false
 },
 "nbformat": 4,
 "nbformat_minor": 4
}
