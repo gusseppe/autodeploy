{
 "cells": [
  {
   "cell_type": "markdown",
   "metadata": {},
   "source": [
    "# Use case 2: \n"
   ]
  },
  {
   "cell_type": "markdown",
   "metadata": {},
   "source": [
    "\n",
    "## Dataset: Breast cancer\n",
    "## Goal: Deploy a Machine Learning model."
   ]
  },
  {
   "cell_type": "markdown",
   "metadata": {},
   "source": [
    "![](examples/leaf_draft/workflow/usecase2.png)"
   ]
  },
  {
   "cell_type": "markdown",
   "metadata": {
    "pycharm": {
     "name": "#%% md\n"
    }
   },
   "source": [
    "### Input:\n",
    "\n",
    "Three ML steps, dataset, and a list of requirements libraries.\n",
    "\n",
    "- gathering.py, preprocessing.py, modeling.py\n",
    "\n",
    "- breast-cancer.csv\n",
    "\n",
    "- requirements.txt\n",
    "\n",
    "    #### [gathering] -> [preprocessing] -> [modeling] -> [API]\n",
    "\n",
    "### Output:\n",
    "\n",
    "- 1 docker image. It contains the workflow's platform.\n",
    "- 1 docker container. Based on the previous image, start up a dashboard with the workflow metrics.\n",
    "\n",
    "- 1 docker image. It contains the API image.\n",
    "- 1 docker container. API where predictions are made.\n",
    "\n",
    "    #### [image] - [container]\n",
    "    #### [image] - [container]"
   ]
  },
  {
   "cell_type": "markdown",
   "metadata": {},
   "source": [
    "# Autodeploy\n"
   ]
  },
  {
   "cell_type": "markdown",
   "metadata": {},
   "source": [
    "## Setup\n",
    "\n",
    "- Input: Folder with the python files, data set and requirements.\n",
    "- Output: Platform and server to see the workflow metrics at  http://localhost:8002/#/\n"
   ]
  },
  {
   "cell_type": "code",
   "execution_count": 1,
   "metadata": {
    "pycharm": {
     "is_executing": false
    }
   },
   "outputs": [
    {
     "name": "stderr",
     "output_type": "stream",
     "text": [
      "28-Oct-19 11:46:16 -  INFO - Building platform, type: single.\n",
      "28-Oct-19 11:46:16 -  INFO - Dockerfile was found.\n",
      "28-Oct-19 11:46:16 -  INFO - MLproject was found.\n",
      "28-Oct-19 11:46:16 -  WARNING - Image: app_single already exists.\n",
      "28-Oct-19 11:46:16 -  INFO - Running platform, type: single.\n",
      "28-Oct-19 11:46:17 -  INFO - Image app_single is running as api_single2 container.\n",
      "28-Oct-19 11:46:17 -  INFO - MLflow server is running at 0.0.0.0:8002\n"
     ]
    },
    {
     "data": {
      "text/plain": [
       "\n",
       "Platform = (\n",
       "    image: app_single,\n",
       "    container: api_single2,\n",
       "    type=single),\n",
       "    server=0.0.0.0:8002),"
      ]
     },
     "execution_count": 1,
     "metadata": {},
     "output_type": "execute_result"
    }
   ],
   "source": [
    "from autodeploy.setup import setup\n",
    "\n",
    "# App folder\n",
    "app_dir = '/home/guess/Desktop/autodeploy/examples/leaf2'\n",
    "\n",
    "# Workflow\n",
    "workflow = {'gathering': 'gathering.py',\n",
    "            'preprocessing': 'preprocessing.py',\n",
    "            'modeling': 'modeling.py',\n",
    "            'main': 'main.py'}\n",
    "\n",
    "platform = setup.Setup(app_dir, workflow)\n",
    "\n",
    "platform.build()\n",
    "platform.run(dash_ctn_name='api_single2', port=8002)\n",
    "\n",
    "platform"
   ]
  },
  {
   "cell_type": "code",
   "execution_count": 6,
   "metadata": {},
   "outputs": [],
   "source": [
    "# platform.stop()"
   ]
  },
  {
   "cell_type": "markdown",
   "metadata": {},
   "source": [
    "# Deploy\n",
    "\n",
    "Run the steps and deploy the trained model."
   ]
  },
  {
   "cell_type": "markdown",
   "metadata": {},
   "source": [
    "**Input**: \n",
    "- Platform.\n",
    "\n",
    "**Output**: \n",
    "\n",
    "- Dashboard at http://localhost:8002 for metrics. \n",
    "- API model at http://localhost:5001 for predictions."
   ]
  },
  {
   "cell_type": "code",
   "execution_count": 3,
   "metadata": {
    "pycharm": {
     "is_executing": false
    }
   },
   "outputs": [
    {
     "name": "stderr",
     "output_type": "stream",
     "text": [
      "28-Oct-19 11:47:13 -  INFO - Running workflow: type=single .\n",
      "28-Oct-19 11:47:13 -  INFO - Using platform container.\n",
      "28-Oct-19 11:47:18 -  INFO -  Main file (main.py) output:  Run matched, but is not FINISHED, so skipping (run_id=62adbd69ad794b2e9732ab97532ae6f6, status=FINISHED)\n",
      "Run matched, but is not FINISHED, so skipping (run_id=c33eb74cd90a401787bde2f2c8a523f6, status=FINISHED)\n",
      "Run matched, but is not FINISHED, so skipping (run_id=2e0328461d664a80b8c5e97201558e1e, status=FINISHED)\n",
      "No matching run has been found.\n",
      "2019/10/28 10:47:14 INFO mlflow.projects: === Created directory /tmp/tmps4sb1wq_ for downloading remote URIs passed to arguments of type 'path' ===\n",
      "2019/10/28 10:47:14 INFO mlflow.projects: === Running command 'python gathering.py' in run with ID '3de16efc671c48bf90e226c519b81963' === \n",
      "   species  specimen_number  eccentricity  ...  third_moment  uniformity  entropy\n",
      "0        1                1       0.72694  ...      0.005232    0.000275  1.17560\n",
      "1        1                2       0.74173  ...      0.002708    0.000075  0.69659\n",
      "2        1                3       0.76722  ...      0.000921    0.000038  0.44348\n",
      "3        1                4       0.73797  ...      0.001154    0.000066  0.58785\n",
      "4        1                5       0.82301  ...      0.000560    0.000024  0.34214\n",
      "\n",
      "[5 rows x 16 columns]\n",
      "2019/10/28 10:47:15 INFO mlflow.projects: === Run (ID '3de16efc671c48bf90e226c519b81963') succeeded ===\n",
      "Run matched, but is not FINISHED, so skipping (run_id=33b78eb636274c63a541303df20de724, status=FINISHED)\n",
      "Run matched, but is not FINISHED, so skipping (run_id=59b28fdaae794e67a76310065d0e0699, status=FINISHED)\n",
      "Run matched, but is not FINISHED, so skipping (run_id=1c1fa58fac374305afbdfd8b79598014, status=FINISHED)\n",
      "No matching run has been found.\n",
      "2019/10/28 10:47:15 INFO mlflow.projects: === Created directory /tmp/tmpk0xm6znt for downloading remote URIs passed to arguments of type 'path' ===\n",
      "2019/10/28 10:47:15 INFO mlflow.projects: === Running command 'python preprocessing.py' in run with ID 'c7688189d62e40b69b81d37dab6626c7' === \n",
      "/opt/conda/lib/python3.7/site-packages/pandas/core/frame.py:3509: SettingWithCopyWarning: \n",
      "A value is trying to be set on a copy of a slice from a DataFrame.\n",
      "Try using .loc[row_indexer,col_indexer] = value instead\n",
      "\n",
      "See the caveats in the documentation: http://pandas.pydata.org/pandas-docs/stable/user_guide/indexing.html#returning-a-view-versus-a-copy\n",
      "  self[k1] = value[k2]\n",
      "preprocessing.py:25: SettingWithCopyWarning: \n",
      "A value is trying to be set on a copy of a slice from a DataFrame.\n",
      "Try using .loc[row_indexer,col_indexer] = value instead\n",
      "\n",
      "See the caveats in the documentation: http://pandas.pydata.org/pandas-docs/stable/user_guide/indexing.html#returning-a-view-versus-a-copy\n",
      "  df_cleaned['species'] = df_cleaned['species'].astype(int)\n",
      "2019/10/28 10:47:16 INFO mlflow.projects: === Run (ID 'c7688189d62e40b69b81d37dab6626c7') succeeded ===\n",
      "Run matched, but is not FINISHED, so skipping (run_id=7ad8d64fe13649448c6181c08ecba6b8, status=FINISHED)\n",
      "Run matched, but is not FINISHED, so skipping (run_id=3d01daf2fbc84cf1806067987ccd11b4, status=FINISHED)\n",
      "Run matched, but is not FINISHED, so skipping (run_id=368b467d7cfa4b6485f34a15cf50d888, status=FINISHED)\n",
      "No matching run has been found.\n",
      "2019/10/28 10:47:17 INFO mlflow.projects: === Created directory /tmp/tmpxln5tgfr for downloading remote URIs passed to arguments of type 'path' ===\n",
      "2019/10/28 10:47:17 INFO mlflow.projects: === Running command 'python modeling.py' in run with ID 'c84e505f111d41c1903aefbf0536f783' === \n",
      "modeling.py:61: FutureWarning: The signature of `Series.to_csv` was aligned to that of `DataFrame.to_csv`, and argument 'header' will change its default value from False to True: please pass an explicit value to suppress this warning.\n",
      "  y_train.to_csv('y_train.csv', index=False)\n",
      "modeling.py:64: FutureWarning: The signature of `Series.to_csv` was aligned to that of `DataFrame.to_csv`, and argument 'header' will change its default value from False to True: please pass an explicit value to suppress this warning.\n",
      "  y_test.to_csv('y_test.csv', index=False)\n",
      "Accuracy: 0.765\n",
      "2019/10/28 10:47:18 INFO mlflow.projects: === Run (ID 'c84e505f111d41c1903aefbf0536f783') succeeded ===\n",
      "Launching new run for entrypoint=gathering and parameters={}\n",
      "Launching new run for entrypoint=preprocessing and parameters={}\n",
      "Launching new run for entrypoint=modeling and parameters={}\n",
      " \n",
      "28-Oct-19 11:47:18 -  INFO -  Workflow finished successfully. \n",
      "28-Oct-19 11:47:18 -  INFO - Deploying model as API: type=single .\n",
      "28-Oct-19 11:47:18 -  INFO -  Building image: app_single_api. Please wait... \n",
      "28-Oct-19 11:47:18 -  WARNING - Image: app_single_api already exists.\n",
      "28-Oct-19 11:47:18 -  INFO - Creating container: app_single_api. \n",
      "28-Oct-19 11:47:19 -  INFO - API model is running as app_single_api container.\n",
      "28-Oct-19 11:47:19 -  INFO - Container: app_single_api was created successfully. \n",
      "28-Oct-19 11:47:19 -  INFO - API at: htpp://localhost:5001. \n"
     ]
    },
    {
     "data": {
      "text/plain": [
       "\n",
       "Platform = (\n",
       "    server=0.0.0.0:8001),\n",
       "    API=0.0.0.0:5001),"
      ]
     },
     "execution_count": 3,
     "metadata": {},
     "output_type": "execute_result"
    }
   ],
   "source": [
    "from autodeploy.deploy import deploy\n",
    "\n",
    "# Read the platform\n",
    "deployer = deploy.Deploy(platform)\n",
    "\n",
    "# Run the workflow\n",
    "deployer.run_workflow(plat_container_name='app_single2')\n",
    "\n",
    "# Deploy the API\n",
    "deployer.deploy()\n",
    "\n",
    "deployer"
   ]
  },
  {
   "cell_type": "markdown",
   "metadata": {},
   "source": [
    "## Track\n",
    "\n",
    "Compare if there is a draft distribution."
   ]
  },
  {
   "cell_type": "markdown",
   "metadata": {},
   "source": [
    "- Input: Values to predict.\n",
    "- Output: Predictions and tracking."
   ]
  },
  {
   "cell_type": "code",
   "execution_count": 4,
   "metadata": {
    "pycharm": {
     "is_executing": false,
     "name": "#%%\n"
    }
   },
   "outputs": [
    {
     "name": "stderr",
     "output_type": "stream",
     "text": [
      "28-Oct-19 11:48:50 -  INFO - Predicting from port: 5001\n",
      "28-Oct-19 11:48:50 -  INFO - Time elapsed: 0.05139350891113281\n",
      "28-Oct-19 11:48:50 -  INFO - Input and predictions were saved at: /home/guess/Desktop/autodeploy/examples/leaf/predictions.csv\n"
     ]
    },
    {
     "data": {
      "text/html": [
       "<div>\n",
       "<style scoped>\n",
       "    .dataframe tbody tr th:only-of-type {\n",
       "        vertical-align: middle;\n",
       "    }\n",
       "\n",
       "    .dataframe tbody tr th {\n",
       "        vertical-align: top;\n",
       "    }\n",
       "\n",
       "    .dataframe thead th {\n",
       "        text-align: right;\n",
       "    }\n",
       "</style>\n",
       "<table border=\"1\" class=\"dataframe\">\n",
       "  <thead>\n",
       "    <tr style=\"text-align: right;\">\n",
       "      <th></th>\n",
       "      <th>eccentricity</th>\n",
       "      <th>aspect_ratio</th>\n",
       "      <th>elongation</th>\n",
       "      <th>solidity</th>\n",
       "      <th>stochastic_convexity</th>\n",
       "      <th>isoperimetric_factor</th>\n",
       "      <th>maximal_indentation_depth</th>\n",
       "      <th>lobedness</th>\n",
       "      <th>average_intensity</th>\n",
       "      <th>average_contrast</th>\n",
       "      <th>smoothness</th>\n",
       "      <th>third_moment</th>\n",
       "      <th>uniformity</th>\n",
       "      <th>entropy</th>\n",
       "      <th>pred</th>\n",
       "    </tr>\n",
       "  </thead>\n",
       "  <tbody>\n",
       "    <tr>\n",
       "      <th>0</th>\n",
       "      <td>0.655225</td>\n",
       "      <td>1.934731</td>\n",
       "      <td>0.586077</td>\n",
       "      <td>1.010833</td>\n",
       "      <td>0.984026</td>\n",
       "      <td>0.610475</td>\n",
       "      <td>-0.026888</td>\n",
       "      <td>0.144807</td>\n",
       "      <td>0.136019</td>\n",
       "      <td>0.137213</td>\n",
       "      <td>0.079813</td>\n",
       "      <td>-0.130415</td>\n",
       "      <td>0.053408</td>\n",
       "      <td>1.323580</td>\n",
       "      <td>33</td>\n",
       "    </tr>\n",
       "    <tr>\n",
       "      <th>1</th>\n",
       "      <td>0.469597</td>\n",
       "      <td>1.131185</td>\n",
       "      <td>0.861889</td>\n",
       "      <td>0.564598</td>\n",
       "      <td>0.765409</td>\n",
       "      <td>0.134974</td>\n",
       "      <td>0.106949</td>\n",
       "      <td>3.663944</td>\n",
       "      <td>0.121207</td>\n",
       "      <td>0.113170</td>\n",
       "      <td>-0.202377</td>\n",
       "      <td>-0.110621</td>\n",
       "      <td>0.026807</td>\n",
       "      <td>1.012879</td>\n",
       "      <td>11</td>\n",
       "    </tr>\n",
       "    <tr>\n",
       "      <th>2</th>\n",
       "      <td>0.882691</td>\n",
       "      <td>1.576171</td>\n",
       "      <td>0.401084</td>\n",
       "      <td>0.793408</td>\n",
       "      <td>1.039356</td>\n",
       "      <td>0.787505</td>\n",
       "      <td>0.113528</td>\n",
       "      <td>0.025585</td>\n",
       "      <td>-0.162791</td>\n",
       "      <td>0.235718</td>\n",
       "      <td>-0.015448</td>\n",
       "      <td>-0.061214</td>\n",
       "      <td>-0.138233</td>\n",
       "      <td>0.897966</td>\n",
       "      <td>11</td>\n",
       "    </tr>\n",
       "    <tr>\n",
       "      <th>3</th>\n",
       "      <td>0.624243</td>\n",
       "      <td>1.563670</td>\n",
       "      <td>0.402648</td>\n",
       "      <td>0.813027</td>\n",
       "      <td>1.143593</td>\n",
       "      <td>0.780575</td>\n",
       "      <td>0.186582</td>\n",
       "      <td>-0.030689</td>\n",
       "      <td>0.075124</td>\n",
       "      <td>0.205680</td>\n",
       "      <td>-0.078336</td>\n",
       "      <td>-0.071330</td>\n",
       "      <td>0.205909</td>\n",
       "      <td>1.379796</td>\n",
       "      <td>11</td>\n",
       "    </tr>\n",
       "    <tr>\n",
       "      <th>4</th>\n",
       "      <td>0.716740</td>\n",
       "      <td>3.019119</td>\n",
       "      <td>0.501621</td>\n",
       "      <td>1.095502</td>\n",
       "      <td>0.992194</td>\n",
       "      <td>0.401134</td>\n",
       "      <td>0.087250</td>\n",
       "      <td>-0.090854</td>\n",
       "      <td>-0.018977</td>\n",
       "      <td>-0.075679</td>\n",
       "      <td>0.071259</td>\n",
       "      <td>-0.103419</td>\n",
       "      <td>-0.171958</td>\n",
       "      <td>1.793335</td>\n",
       "      <td>4</td>\n",
       "    </tr>\n",
       "  </tbody>\n",
       "</table>\n",
       "</div>"
      ],
      "text/plain": [
       "   eccentricity  aspect_ratio  elongation  solidity  stochastic_convexity  \\\n",
       "0      0.655225      1.934731    0.586077  1.010833              0.984026   \n",
       "1      0.469597      1.131185    0.861889  0.564598              0.765409   \n",
       "2      0.882691      1.576171    0.401084  0.793408              1.039356   \n",
       "3      0.624243      1.563670    0.402648  0.813027              1.143593   \n",
       "4      0.716740      3.019119    0.501621  1.095502              0.992194   \n",
       "\n",
       "   isoperimetric_factor  maximal_indentation_depth  lobedness  \\\n",
       "0              0.610475                  -0.026888   0.144807   \n",
       "1              0.134974                   0.106949   3.663944   \n",
       "2              0.787505                   0.113528   0.025585   \n",
       "3              0.780575                   0.186582  -0.030689   \n",
       "4              0.401134                   0.087250  -0.090854   \n",
       "\n",
       "   average_intensity  average_contrast  smoothness  third_moment  uniformity  \\\n",
       "0           0.136019          0.137213    0.079813     -0.130415    0.053408   \n",
       "1           0.121207          0.113170   -0.202377     -0.110621    0.026807   \n",
       "2          -0.162791          0.235718   -0.015448     -0.061214   -0.138233   \n",
       "3           0.075124          0.205680   -0.078336     -0.071330    0.205909   \n",
       "4          -0.018977         -0.075679    0.071259     -0.103419   -0.171958   \n",
       "\n",
       "    entropy  pred  \n",
       "0  1.323580    33  \n",
       "1  1.012879    11  \n",
       "2  0.897966    11  \n",
       "3  1.379796    11  \n",
       "4  1.793335     4  "
      ]
     },
     "execution_count": 4,
     "metadata": {},
     "output_type": "execute_result"
    }
   ],
   "source": [
    "import pandas as pd\n",
    "import os\n",
    "\n",
    "from autodeploy.track import track\n",
    "from autodeploy.track import tools\n",
    "\n",
    "tracker = track.Track(port=5001)\n",
    "\n",
    "path = '/home/guess/Desktop/autodeploy/examples/leaf'\n",
    "df_input = pd.read_csv(os.path.join(path, 'workflow', 'X_train.csv'))\n",
    "df_noise = tools.add_noise(df_input, sigma=0.11)\n",
    "\n",
    "\n",
    "predictions = tracker.predict(df_noise, to_save=True, path_pred=path)\n",
    "# tracker.save_prediction(path)\n",
    "\n",
    "predictions.head()\n",
    "# print(f'Predictions: \\n {predictions}')\n"
   ]
  },
  {
   "cell_type": "code",
   "execution_count": 6,
   "metadata": {
    "collapsed": false,
    "pycharm": {
     "is_executing": false,
     "name": "#%%\n"
    }
   },
   "outputs": [
    {
     "name": "stdout",
     "output_type": "stream",
     "text": [
      "########## Comparing two numerical dataframes ##########\n",
      "\n",
      "######## Kolmogorov-Smirnov test ########\n"
     ]
    },
    {
     "data": {
      "image/png": "[encoded data removed]",
      "text/plain": [
       "<Figure size 504x504 with 2 Axes>"
      ]
     },
     "metadata": {
      "needs_background": "light"
     },
     "output_type": "display_data"
    },
    {
     "name": "stdout",
     "output_type": "stream",
     "text": [
      "               eccentricity        aspect_ratio\n",
      "p_value             0.12911            0.229173\n",
      "explain  Slightly different  Slightly different\n"
     ]
    }
   ],
   "source": [
    "X_old = pd.read_csv(os.path.join(app_dir, 'workflow', 'X_train.csv'))\n",
    "X_new = predictions.loc[:, predictions.columns != 'pred']\n",
    "\n",
    "tools.overall_test(X_old.sample(len(X_new)), X_new, \n",
    "                   verbose=True, n_cols=2)\n",
    "\n"
   ]
  }
 ],
 "metadata": {
  "kernelspec": {
   "display_name": "Python 3",
   "language": "python",
   "name": "python3"
  },
  "language_info": {
   "codemirror_mode": {
    "name": "ipython",
    "version": 3
   },
   "file_extension": ".py",
   "mimetype": "text/x-python",
   "name": "python",
   "nbconvert_exporter": "python",
   "pygments_lexer": "ipython3",
   "version": "3.7.3"
  },
  "pycharm": {
   "stem_cell": {
    "cell_type": "raw",
    "metadata": {
     "collapsed": false
    },
    "source": []
   }
  }
 },
 "nbformat": 4,
 "nbformat_minor": 2
}
