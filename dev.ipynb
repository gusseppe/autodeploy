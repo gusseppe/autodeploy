{
 "cells": [
  {
   "cell_type": "markdown",
   "metadata": {
    "collapsed": true,
    "pycharm": {
     "name": "#%% md\n"
    }
   },
   "source": [
    "# Development new ideas\n",
    "\n"
   ]
  },
  {
   "cell_type": "code",
   "execution_count": 19,
   "outputs": [
    {
     "name": "stdout",
     "text": [
      "CPU times: user 3.76 s, sys: 499 ms, total: 4.26 s\nWall time: 3.69 s\n"
     ],
     "output_type": "stream"
    }
   ],
   "source": [
    "%%time\n",
    "\n",
    "import numpy as np\n",
    "import pandas as pd\n",
    "from pandas_profiling.config import config as config\n",
    "from pandas_profiling.model import describe\n",
    "import pandas_profiling\n",
    "\n",
    "df = pd.DataFrame(\n",
    "    np.random.rand(100, 5),\n",
    "    columns=['a', 'b', 'c', 'd', 'e']\n",
    ")\n",
    "\n",
    "#profile = df.profile_report()\n",
    "\n",
    "# config.config['pool_size'] = 4\n",
    "# config.config['check_correlation_pearson'] = False\n",
    "# print(list(config.config.items()))\n",
    "# desc_df = pandas_profiling.describe_df(df)\n",
    "\n"
   ],
   "metadata": {
    "collapsed": false,
    "pycharm": {
     "name": "#%%\n",
     "is_executing": false
    }
   }
  },
  {
   "cell_type": "code",
   "execution_count": 4,
   "outputs": [
    {
     "data": {
      "text/plain": "{'pearson':           a         b         c         d         e\n a  1.000000 -0.209623  0.027904 -0.159071  0.167123\n b -0.209623  1.000000  0.050510 -0.030962  0.035198\n c  0.027904  0.050510  1.000000 -0.190184  0.023870\n d -0.159071 -0.030962 -0.190184  1.000000 -0.140414\n e  0.167123  0.035198  0.023870 -0.140414  1.000000,\n 'spearman':           a         b         c         d         e\n a  1.000000 -0.209781  0.015770 -0.158224  0.183102\n b -0.209781  1.000000  0.050117 -0.036280  0.040216\n c  0.015770  0.050117  1.000000 -0.173513  0.021338\n d -0.158224 -0.036280 -0.173513  1.000000 -0.123684\n e  0.183102  0.040216  0.021338 -0.123684  1.000000,\n 'kendall':           a         b         c         d         e\n a  1.000000 -0.135354  0.018182 -0.102626  0.119596\n b -0.135354  1.000000  0.025455 -0.026667  0.030707\n c  0.018182  0.025455  1.000000 -0.121212  0.019394\n d -0.102626 -0.026667 -0.121212  1.000000 -0.106263\n e  0.119596  0.030707  0.019394 -0.106263  1.000000,\n 'phi_k': var2         a         b         c         d        e\n var1                                                 \n a     1.000000  0.362056  0.000000  0.047395  0.00000\n b     0.362056  1.000000  0.000000  0.000000  0.00000\n c     0.000000  0.000000  1.000000  0.443129  0.00000\n d     0.047395  0.000000  0.443129  1.000000  0.59253\n e     0.000000  0.000000  0.000000  0.592530  1.00000}"
     },
     "metadata": {},
     "output_type": "execute_result",
     "execution_count": 4
    }
   ],
   "source": [
    "# desc_df['table']\n",
    "# desc_df['variables'].keys()\n",
    "# desc_df['correlations']\n",
    "# list(desc_df.keys())"
   ],
   "metadata": {
    "collapsed": false,
    "pycharm": {
     "name": "#%%\n",
     "is_executing": false
    }
   }
  }
 ],
 "metadata": {
  "kernelspec": {
   "display_name": "Python 3",
   "language": "python",
   "name": "python3"
  },
  "language_info": {
   "codemirror_mode": {
    "name": "ipython",
    "version": 2
   },
   "file_extension": ".py",
   "mimetype": "text/x-python",
   "name": "python",
   "nbconvert_exporter": "python",
   "pygments_lexer": "ipython2",
   "version": "2.7.6"
  },
  "pycharm": {
   "stem_cell": {
    "cell_type": "raw",
    "source": [],
    "metadata": {
     "collapsed": false
    }
   }
  }
 },
 "nbformat": 4,
 "nbformat_minor": 0
}
