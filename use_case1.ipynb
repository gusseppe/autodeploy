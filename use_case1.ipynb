{
 "cells": [
  {
   "cell_type": "markdown",
   "metadata": {},
   "source": [
    "# Use case 1: \n"
   ]
  },
  {
   "cell_type": "markdown",
   "metadata": {},
   "source": [
    "\n",
    "## Dataset: Breast cancer\n",
    "## Goal: Automatically containerize a reproducible Machine Learning pipeline with the aim of being run on any platform."
   ]
  },
  {
   "cell_type": "markdown",
   "metadata": {
    "pycharm": {
     "name": "#%% md\n"
    }
   },
   "source": [
    "### Input:\n",
    "\n",
    "Three ML steps, dataset, and a list of requirements libraries.\n",
    "\n",
    "- gathering.py, preprocessing.py, modeling.py\n",
    "\n",
    "- breast-cancer.csv\n",
    "\n",
    "- requirements.txt\n",
    "\n",
    "    #### [gathering] -> [preprocessing] -> [modeling]\n",
    "\n",
    "### Output:\n",
    "\n",
    "- 1 docker image. It contains the platform where the workflow runs.\n",
    "- 1 docker container. Based on the previous image, start up a dashboard with the workflow metrics.\n",
    "\n",
    "    #### [image] - [container]"
   ]
  },
  {
   "cell_type": "markdown",
   "metadata": {},
   "source": [
    "# Autodeploy\n"
   ]
  },
  {
   "cell_type": "markdown",
   "metadata": {},
   "source": [
    "## Setup\n",
    "\n",
    "**Input**: \n",
    "\n",
    "- Folder with the python files, data set and requirements.\n",
    "\n",
    "**Output**: \n",
    "\n",
    "- Platform.\n",
    "- Dashboard at http://localhost:8001 for metrics. "
   ]
  },
  {
   "cell_type": "code",
   "execution_count": 3,
   "metadata": {
    "pycharm": {
     "is_executing": false
    }
   },
   "outputs": [
    {
     "name": "stderr",
     "output_type": "stream",
     "text": [
      "27-Oct-19 21:05:20 -  INFO - Building platform, type: single.\n",
      "27-Oct-19 21:05:20 -  INFO - Dockerfile was found.\n",
      "27-Oct-19 21:05:20 -  WARNING - Image: app_single already exists.\n",
      "27-Oct-19 21:05:20 -  INFO - Running platform, type: single.\n",
      "27-Oct-19 21:05:20 -  ERROR - 409 Client Error: Conflict (\"Conflict. The container name \"/app_single\" is already in use by container \"8c597ef99360f1251126bfe6aa5b19ed08e9cf8891d71830c3e5a0ab28a565b8\". You have to remove (or rename) that container to be able to reuse that name.\")\n",
      "27-Oct-19 21:05:20 -  ERROR - Container creation failed.\n"
     ]
    },
    {
     "data": {
      "text/plain": [
       "<autodeploy.setup.setup.Setup at 0x7fab19e0af98>"
      ]
     },
     "execution_count": 3,
     "metadata": {},
     "output_type": "execute_result"
    }
   ],
   "source": [
    "from autodeploy.setup import setup\n",
    "\n",
    "\n",
    "app_dir = '/home/guess/Desktop/autodeploy/examples/leaf'\n",
    "workflow = {'gathering': 'gathering.py',\n",
    "            'preprocessing': 'preprocessing.py',\n",
    "            'modeling': 'modeling.py',\n",
    "            'main': 'main.py'}\n",
    "\n",
    "platform = setup.Setup(app_dir, workflow)\n",
    "\n",
    "platform.build()\n",
    "platform.run()\n",
    "\n",
    "platform"
   ]
  },
  {
   "cell_type": "markdown",
   "metadata": {},
   "source": [
    "# Deploy\n",
    "\n",
    "Run the steps."
   ]
  },
  {
   "cell_type": "markdown",
   "metadata": {},
   "source": [
    "- Input: Platform.\n",
    "- Output: Results of running the workflow shown at http://localhost:8001/#/. "
   ]
  },
  {
   "cell_type": "code",
   "execution_count": 8,
   "metadata": {
    "pycharm": {
     "is_executing": false,
     "name": "#%%\n"
    }
   },
   "outputs": [
    {
     "name": "stderr",
     "output_type": "stream",
     "text": [
      "25-Oct-19 16:43:34 - Running workflow: type=single .\n",
      "25-Oct-19 16:43:34 - Using given container: app_single\n",
      "25-Oct-19 16:43:40 -  Main file (main.py) output:  Run matched, but is not FINISHED, so skipping (run_id=e48d762176914bfa807563d6dba8bc5c, status=FINISHED)\n",
      "Run matched, but is not FINISHED, so skipping (run_id=8fd33bc89be1452e8ea568fbdf4f9fc7, status=FINISHED)\n",
      "No matching run has been found.\n",
      "2019/10/25 14:43:36 INFO mlflow.projects: === Created directory /tmp/tmp0w29dabq for downloading remote URIs passed to arguments of type 'path' ===\n",
      "2019/10/25 14:43:36 INFO mlflow.projects: === Running command 'python gathering.py' in run with ID '1bd37a93280d4fd0859b2f1ce6542491' === \n",
      "   species  specimen_number  eccentricity  ...  third_moment  uniformity  entropy\n",
      "0        1                1       0.72694  ...      0.005232    0.000275  1.17560\n",
      "1        1                2       0.74173  ...      0.002708    0.000075  0.69659\n",
      "2        1                3       0.76722  ...      0.000921    0.000038  0.44348\n",
      "3        1                4       0.73797  ...      0.001154    0.000066  0.58785\n",
      "4        1                5       0.82301  ...      0.000560    0.000024  0.34214\n",
      "\n",
      "[5 rows x 16 columns]\n",
      "2019/10/25 14:43:37 INFO mlflow.projects: === Run (ID '1bd37a93280d4fd0859b2f1ce6542491') succeeded ===\n",
      "Run matched, but is not FINISHED, so skipping (run_id=be0f091edf5645eab1eddbc9f795f977, status=FINISHED)\n",
      "Run matched, but is not FINISHED, so skipping (run_id=650463c497634946b3eaf4a3a7e17b14, status=FINISHED)\n",
      "No matching run has been found.\n",
      "2019/10/25 14:43:38 INFO mlflow.projects: === Created directory /tmp/tmpdv2n0q_x for downloading remote URIs passed to arguments of type 'path' ===\n",
      "2019/10/25 14:43:38 INFO mlflow.projects: === Running command 'python preprocessing.py' in run with ID 'ef60f577cef44b799b4e18190702b6ee' === \n",
      "/opt/conda/lib/python3.7/site-packages/pandas/core/frame.py:3509: SettingWithCopyWarning: \n",
      "A value is trying to be set on a copy of a slice from a DataFrame.\n",
      "Try using .loc[row_indexer,col_indexer] = value instead\n",
      "\n",
      "See the caveats in the documentation: http://pandas.pydata.org/pandas-docs/stable/user_guide/indexing.html#returning-a-view-versus-a-copy\n",
      "  self[k1] = value[k2]\n",
      "preprocessing.py:25: SettingWithCopyWarning: \n",
      "A value is trying to be set on a copy of a slice from a DataFrame.\n",
      "Try using .loc[row_indexer,col_indexer] = value instead\n",
      "\n",
      "See the caveats in the documentation: http://pandas.pydata.org/pandas-docs/stable/user_guide/indexing.html#returning-a-view-versus-a-copy\n",
      "  df_cleaned['species'] = df_cleaned['species'].astype(int)\n",
      "2019/10/25 14:43:39 INFO mlflow.projects: === Run (ID 'ef60f577cef44b799b4e18190702b6ee') succeeded ===\n",
      "Run matched, but is not FINISHED, so skipping (run_id=7ec4c13870fc406581223fc3cc452ead, status=FINISHED)\n",
      "Run matched, but is not FINISHED, so skipping (run_id=47e56d5a69544f5981151ee5e91da8a9, status=FINISHED)\n",
      "No matching run has been found.\n",
      "2019/10/25 14:43:39 INFO mlflow.projects: === Created directory /tmp/tmph2lm3we7 for downloading remote URIs passed to arguments of type 'path' ===\n",
      "2019/10/25 14:43:39 INFO mlflow.projects: === Running command 'python modeling.py' in run with ID 'a1e506e932944162825f1bcd834fc176' === \n",
      "modeling.py:61: FutureWarning: The signature of `Series.to_csv` was aligned to that of `DataFrame.to_csv`, and argument 'header' will change its default value from False to True: please pass an explicit value to suppress this warning.\n",
      "  y_train.to_csv('y_train.csv', index=False)\n",
      "modeling.py:64: FutureWarning: The signature of `Series.to_csv` was aligned to that of `DataFrame.to_csv`, and argument 'header' will change its default value from False to True: please pass an explicit value to suppress this warning.\n",
      "  y_test.to_csv('y_test.csv', index=False)\n",
      "Accuracy: 0.765\n",
      "2019/10/25 14:43:40 INFO mlflow.projects: === Run (ID 'a1e506e932944162825f1bcd834fc176') succeeded ===\n",
      "Launching new run for entrypoint=gathering and parameters={}\n",
      "Launching new run for entrypoint=preprocessing and parameters={}\n",
      "Launching new run for entrypoint=modeling and parameters={}\n",
      " \n",
      "25-Oct-19 16:43:40 -  Workflow finished successfully. \n"
     ]
    }
   ],
   "source": [
    "from autodeploy.deploy import deploy\n",
    "\n",
    "deployer = deploy.Deploy(platform)\n",
    "\n",
    "# deployer.pipeline()\n",
    "deployer.run_workflow(plat_container_name='app_single')\n",
    "# deployer.deploy()\n"
   ]
  }
 ],
 "metadata": {
  "kernelspec": {
   "display_name": "Python 3",
   "language": "python",
   "name": "python3"
  },
  "language_info": {
   "codemirror_mode": {
    "name": "ipython",
    "version": 3
   },
   "file_extension": ".py",
   "mimetype": "text/x-python",
   "name": "python",
   "nbconvert_exporter": "python",
   "pygments_lexer": "ipython3",
   "version": "3.6.5"
  },
  "pycharm": {
   "stem_cell": {
    "cell_type": "raw",
    "metadata": {
     "collapsed": false
    },
    "source": []
   }
  }
 },
 "nbformat": 4,
 "nbformat_minor": 2
}
