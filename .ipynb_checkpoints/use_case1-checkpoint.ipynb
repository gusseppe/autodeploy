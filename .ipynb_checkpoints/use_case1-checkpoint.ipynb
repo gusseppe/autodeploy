{
 "cells": [
  {
   "cell_type": "markdown",
   "metadata": {},
   "source": [
    "# Use case 1: \n"
   ]
  },
  {
   "cell_type": "markdown",
   "metadata": {},
   "source": [
    "## Dataset: Breast cancer\n",
    "## Goal: Automatically containerize a reproducible Machine Learning pipeline with the aim of being run on any platform."
   ]
  },
  {
   "cell_type": "markdown",
   "metadata": {},
   "source": [
    "![](examples/leaf_draft/workflow/usecase1.png)"
   ]
  },
  {
   "cell_type": "markdown",
   "metadata": {
    "pycharm": {
     "name": "#%% md\n"
    }
   },
   "source": [
    "### Input:\n",
    "\n",
    "Three ML steps, dataset, and a list of requirements libraries.\n",
    "\n",
    "- gathering.py, preprocessing.py, modeling.py\n",
    "\n",
    "- breast-cancer.csv\n",
    "\n",
    "- requirements.txt\n",
    "\n",
    "    #### [gathering] -> [preprocessing] -> [modeling]\n",
    "\n",
    "### Output:\n",
    "\n",
    "- 1 docker image. It contains the platform where the workflow runs.\n",
    "- 1 docker container. Based on the previous image, start up a dashboard with the workflow metrics.\n",
    "\n",
    "    #### [image] - [container]"
   ]
  },
  {
   "cell_type": "markdown",
   "metadata": {},
   "source": [
    "# scanflow\n"
   ]
  },
  {
   "cell_type": "markdown",
   "metadata": {},
   "source": [
    "## Setup\n",
    "\n",
    "**Input**: \n",
    "\n",
    "- Folder with the python files, data set and requirements.\n",
    "\n",
    "**Output**: \n",
    "\n",
    "- Platform.\n",
    "- Dashboard at http://localhost:8001 for metrics. "
   ]
  },
  {
   "cell_type": "code",
   "execution_count": 4,
   "metadata": {
    "pycharm": {
     "is_executing": false
    }
   },
   "outputs": [
    {
     "name": "stderr",
     "output_type": "stream",
     "text": [
      "28-Oct-19 11:41:34 -  INFO - Building platform, type: single.\n",
      "28-Oct-19 11:41:34 -  INFO - Dockerfile was found.\n",
      "28-Oct-19 11:41:34 -  INFO - MLproject was found.\n",
      "28-Oct-19 11:41:34 -  WARNING - Image: app_single already exists.\n",
      "28-Oct-19 11:41:34 -  INFO - Running platform, type: single.\n",
      "28-Oct-19 11:41:34 -  INFO - Image app_single is running as app_single container.\n",
      "28-Oct-19 11:41:34 -  INFO - MLflow server is running at 0.0.0.0:8001\n"
     ]
    },
    {
     "data": {
      "text/plain": [
       "\n",
       "Platform = (\n",
       "    image: app_single,\n",
       "    container: app_single,\n",
       "    type=single),\n",
       "    server=0.0.0.0:8001),"
      ]
     },
     "execution_count": 4,
     "metadata": {},
     "output_type": "execute_result"
    }
   ],
   "source": [
    "from scanflow.setup import setup\n",
    "\n",
    "# App folder\n",
    "app_dir = '/home/guess/Desktop/scanflow/examples/leaf'\n",
    "\n",
    "# Workflow\n",
    "workflow = {'gathering': 'gathering.py',\n",
    "            'preprocessing': 'preprocessing.py',\n",
    "            'modeling': 'modeling.py',\n",
    "            'main': 'main.py'}\n",
    "\n",
    "platform = setup.Setup(app_dir, workflow)\n",
    "\n",
    "platform.build()\n",
    "platform.run()\n",
    "\n",
    "platform"
   ]
  },
  {
   "cell_type": "code",
   "execution_count": 5,
   "metadata": {},
   "outputs": [],
   "source": [
    "# platform.stop()"
   ]
  },
  {
   "cell_type": "markdown",
   "metadata": {},
   "source": [
    "# Deploy\n",
    "\n",
    "Run the workflow."
   ]
  },
  {
   "cell_type": "markdown",
   "metadata": {},
   "source": [
    "- Input: Platform.\n",
    "- Output: Results of running the workflow shown at http://localhost:8001/#/. "
   ]
  },
  {
   "cell_type": "code",
   "execution_count": 2,
   "metadata": {
    "pycharm": {
     "is_executing": false,
     "name": "#%%\n"
    }
   },
   "outputs": [
    {
     "name": "stderr",
     "output_type": "stream",
     "text": [
      "28-Oct-19 11:40:03 -  INFO - Running workflow: type=single .\n",
      "28-Oct-19 11:40:03 -  INFO - Using platform container.\n",
      "28-Oct-19 11:40:08 -  INFO -  Main file (main.py) output:  Run matched, but is not FINISHED, so skipping (run_id=a3622657bd894988ab6aef7f200e376b, status=FINISHED)\n",
      "No matching run has been found.\n",
      "2019/10/28 10:40:04 INFO mlflow.projects: === Created directory /tmp/tmp9j6uoria for downloading remote URIs passed to arguments of type 'path' ===\n",
      "2019/10/28 10:40:04 INFO mlflow.projects: === Running command 'python gathering.py' in run with ID 'fd9646f8f9a54a1cbd25f9d9d9f309b0' === \n",
      "   species  specimen_number  eccentricity  ...  third_moment  uniformity  entropy\n",
      "0        1                1       0.72694  ...      0.005232    0.000275  1.17560\n",
      "1        1                2       0.74173  ...      0.002708    0.000075  0.69659\n",
      "2        1                3       0.76722  ...      0.000921    0.000038  0.44348\n",
      "3        1                4       0.73797  ...      0.001154    0.000066  0.58785\n",
      "4        1                5       0.82301  ...      0.000560    0.000024  0.34214\n",
      "\n",
      "[5 rows x 16 columns]\n",
      "2019/10/28 10:40:05 INFO mlflow.projects: === Run (ID 'fd9646f8f9a54a1cbd25f9d9d9f309b0') succeeded ===\n",
      "Run matched, but is not FINISHED, so skipping (run_id=a8a6665c80fc4b148e873c6d3d06f239, status=FINISHED)\n",
      "No matching run has been found.\n",
      "2019/10/28 10:40:05 INFO mlflow.projects: === Created directory /tmp/tmp6x58q3uq for downloading remote URIs passed to arguments of type 'path' ===\n",
      "2019/10/28 10:40:05 INFO mlflow.projects: === Running command 'python preprocessing.py' in run with ID 'd2075f97b6924032b92836b668e212d2' === \n",
      "/opt/conda/lib/python3.7/site-packages/pandas/core/frame.py:3509: SettingWithCopyWarning: \n",
      "A value is trying to be set on a copy of a slice from a DataFrame.\n",
      "Try using .loc[row_indexer,col_indexer] = value instead\n",
      "\n",
      "See the caveats in the documentation: http://pandas.pydata.org/pandas-docs/stable/user_guide/indexing.html#returning-a-view-versus-a-copy\n",
      "  self[k1] = value[k2]\n",
      "preprocessing.py:25: SettingWithCopyWarning: \n",
      "A value is trying to be set on a copy of a slice from a DataFrame.\n",
      "Try using .loc[row_indexer,col_indexer] = value instead\n",
      "\n",
      "See the caveats in the documentation: http://pandas.pydata.org/pandas-docs/stable/user_guide/indexing.html#returning-a-view-versus-a-copy\n",
      "  df_cleaned['species'] = df_cleaned['species'].astype(int)\n",
      "2019/10/28 10:40:06 INFO mlflow.projects: === Run (ID 'd2075f97b6924032b92836b668e212d2') succeeded ===\n",
      "Run matched, but is not FINISHED, so skipping (run_id=e42b29101c974069abb3bb5fab0f451c, status=FINISHED)\n",
      "No matching run has been found.\n",
      "2019/10/28 10:40:06 INFO mlflow.projects: === Created directory /tmp/tmpqlzx4rus for downloading remote URIs passed to arguments of type 'path' ===\n",
      "2019/10/28 10:40:06 INFO mlflow.projects: === Running command 'python modeling.py' in run with ID '5f6d5d8581e144c38b0f1724b0c11852' === \n",
      "modeling.py:61: FutureWarning: The signature of `Series.to_csv` was aligned to that of `DataFrame.to_csv`, and argument 'header' will change its default value from False to True: please pass an explicit value to suppress this warning.\n",
      "  y_train.to_csv('y_train.csv', index=False)\n",
      "modeling.py:64: FutureWarning: The signature of `Series.to_csv` was aligned to that of `DataFrame.to_csv`, and argument 'header' will change its default value from False to True: please pass an explicit value to suppress this warning.\n",
      "  y_test.to_csv('y_test.csv', index=False)\n",
      "Accuracy: 0.765\n",
      "2019/10/28 10:40:08 INFO mlflow.projects: === Run (ID '5f6d5d8581e144c38b0f1724b0c11852') succeeded ===\n",
      "Launching new run for entrypoint=gathering and parameters={}\n",
      "Launching new run for entrypoint=preprocessing and parameters={}\n",
      "Launching new run for entrypoint=modeling and parameters={}\n",
      " \n",
      "28-Oct-19 11:40:08 -  INFO -  Workflow finished successfully. \n"
     ]
    },
    {
     "data": {
      "text/plain": [
       "\n",
       "Platform = (\n",
       "    server=0.0.0.0:8001),\n",
       "    API=0.0.0.0:5001),"
      ]
     },
     "execution_count": 2,
     "metadata": {},
     "output_type": "execute_result"
    }
   ],
   "source": [
    "from scanflow.deploy import deploy\n",
    "\n",
    "# Read the platform\n",
    "deployer = deploy.Deploy(platform)\n",
    "\n",
    "# Run the workflow\n",
    "deployer.run_workflow(plat_container_name='app_single')\n",
    "\n",
    "deployer"
   ]
  }
 ],
 "metadata": {
  "kernelspec": {
   "display_name": "Python 3",
   "language": "python",
   "name": "python3"
  },
  "language_info": {
   "codemirror_mode": {
    "name": "ipython",
    "version": 3
   },
   "file_extension": ".py",
   "mimetype": "text/x-python",
   "name": "python",
   "nbconvert_exporter": "python",
   "pygments_lexer": "ipython3",
   "version": "3.7.3"
  },
  "pycharm": {
   "stem_cell": {
    "cell_type": "raw",
    "metadata": {
     "collapsed": false
    },
    "source": []
   }
  }
 },
 "nbformat": 4,
 "nbformat_minor": 2
}
