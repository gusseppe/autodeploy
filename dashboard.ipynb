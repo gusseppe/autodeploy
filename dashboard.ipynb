{
 "cells": [
  {
   "cell_type": "code",
   "execution_count": 3,
   "metadata": {},
   "outputs": [],
   "source": [
    "# !pip install dash-cytoscape"
   ]
  },
  {
   "cell_type": "code",
   "execution_count": 152,
   "metadata": {},
   "outputs": [],
   "source": [
    "# !pip install networkx"
   ]
  },
  {
   "cell_type": "code",
   "execution_count": 166,
   "metadata": {},
   "outputs": [
    {
     "data": {
      "text/plain": [
       "[{'data': {'id': 'Data science team', 'label': 'Data science team'}},\n",
       " {'data': {'id': 'wflow1', 'label': 'wflow1', 'parent': 'Data science team'}},\n",
       " {'data': {'id': 'wflow1_0', 'label': 'wflow1_0', 'parent': 'wflow1'}},\n",
       " {'data': {'source': 'wflow1_0', 'target': 'wflow1_1'}},\n",
       " {'data': {'id': 'wflow1_1', 'label': 'wflow1_1', 'parent': 'wflow1'}},\n",
       " {'data': {'id': 'Data science team', 'label': 'Data science team'}},\n",
       " {'data': {'id': 'wflow2', 'label': 'wflow2', 'parent': 'Data science team'}},\n",
       " {'data': {'id': 'wflow2_0', 'label': 'wflow2_0', 'parent': 'wflow2'}},\n",
       " {'data': {'source': 'wflow2_0', 'target': 'wflow2_1'}},\n",
       " {'data': {'id': 'wflow2_1', 'label': 'wflow2_1', 'parent': 'wflow2'}},\n",
       " {'data': {'source': 'wflow2_1', 'target': 'wflow2_2'}},\n",
       " {'data': {'id': 'wflow2_2', 'label': 'wflow2_2', 'parent': 'wflow2'}},\n",
       " {'data': {'source': 'wflow2_2', 'target': 'wflow2_3'}},\n",
       " {'data': {'id': 'wflow2_3', 'label': 'wflow2_3', 'parent': 'wflow2'}},\n",
       " {'data': {'id': 'Data science team', 'label': 'Data science team'}},\n",
       " {'data': {'id': 'wflow3', 'label': 'wflow3', 'parent': 'Data science team'}},\n",
       " {'data': {'id': 'wflow3_0', 'label': 'wflow3_0', 'parent': 'wflow3'}},\n",
       " {'data': {'source': 'wflow3_0', 'target': 'wflow3_1'}},\n",
       " {'data': {'id': 'wflow3_1', 'label': 'wflow3_1', 'parent': 'wflow3'}},\n",
       " {'data': {'source': 'wflow3_1', 'target': 'wflow3_2'}},\n",
       " {'data': {'id': 'wflow3_2', 'label': 'wflow3_2', 'parent': 'wflow3'}},\n",
       " {'data': {'source': 'wflow1_1', 'target': 'wflow2_3'}},\n",
       " {'data': {'source': 'wflow2_3', 'target': 'wflow3_2'}}]"
      ]
     },
     "execution_count": 166,
     "metadata": {},
     "output_type": "execute_result"
    }
   ],
   "source": [
    "format_graph(wflows_meta)"
   ]
  },
  {
   "cell_type": "code",
   "execution_count": 5,
   "metadata": {},
   "outputs": [
    {
     "data": {
      "text/plain": [
       "[{'name': 'wflow1',\n",
       "  'nodes': [{'name': 'wflow1_0', 'type': 'executor'},\n",
       "   {'name': 'wflow1_1', 'type': 'executor'},\n",
       "   {'name': 'wflow1_2', 'type': 'executor'}]},\n",
       " {'name': 'wflow2',\n",
       "  'nodes': [{'name': 'wflow2_0', 'type': 'executor'},\n",
       "   {'name': 'wflow2_1', 'type': 'executor'},\n",
       "   {'name': 'wflow2_2', 'type': 'executor'},\n",
       "   {'name': 'wflow2_3', 'type': 'executor'}]},\n",
       " {'name': 'wflow3',\n",
       "  'nodes': [{'name': 'wflow3_0', 'type': 'executor'},\n",
       "   {'name': 'wflow3_1', 'type': 'executor'},\n",
       "   {'name': 'wflow3_2', 'type': 'executor'}]},\n",
       " {'name': 'wflow4', 'nodes': [{'name': 'wflow4_0', 'type': 'executor'}]}]"
      ]
     },
     "execution_count": 5,
     "metadata": {},
     "output_type": "execute_result"
    }
   ],
   "source": [
    "workflows = {'wflow1':3, 'wflow2':4, 'wflow3':3, 'wflow4':1}\n",
    "\n",
    "wflows_meta = list()\n",
    "for k, v in workflows.items():\n",
    "    nodes = list()\n",
    "    for node_i in range(v):\n",
    "        nodes.append({'name': f'{k}_{node_i}', 'type': 'executor'})\n",
    "    wflows_meta.append({'name': k, 'nodes': nodes})\n",
    "    \n",
    "wflows_meta"
   ]
  },
  {
   "cell_type": "code",
   "execution_count": 1,
   "metadata": {},
   "outputs": [
    {
     "data": {
      "text/plain": [
       "[{'name': 'workflow1',\n",
       "  'nodes': [{'name': 'gathering',\n",
       "    'image': '<Image: gathering:latest>',\n",
       "    'type': 'executor',\n",
       "    'status': 0,\n",
       "    'port': None},\n",
       "   {'name': 'preprocessing',\n",
       "    'image': ['<Image: preprocessing:latest',\n",
       "     'localhost:5000/preprocessing:latest>'],\n",
       "    'type': 'executor',\n",
       "    'status': 0,\n",
       "    'port': None},\n",
       "   {'name': 'tracker-workflow1',\n",
       "    'image': '<Image: tracker-workflow1:latest>',\n",
       "    'type': 'tracker',\n",
       "    'status': 0,\n",
       "    'port': 8001}]},\n",
       " {'name': 'workflow2',\n",
       "  'nodes': [{'name': 'modeling',\n",
       "    'image': '<Image: modeling:latest>',\n",
       "    'type': 'executor',\n",
       "    'status': 0,\n",
       "    'port': None},\n",
       "   {'name': 'tracker-workflow2',\n",
       "    'image': '<Image: tracker-workflow2:latest>',\n",
       "    'type': 'tracker',\n",
       "    'status': 0,\n",
       "    'port': 8002}]}]"
      ]
     },
     "execution_count": 1,
     "metadata": {},
     "output_type": "execute_result"
    }
   ],
   "source": [
    "wflows_meta = [{'name': 'workflow1',\n",
    "  'nodes': [{'name': 'gathering',\n",
    "    'image': '<Image: gathering:latest>',\n",
    "    'type': 'executor',\n",
    "    'status': 0,\n",
    "    'port': None},\n",
    "# {'name': 'gathering2',\n",
    "#     'image': '<Image: gathering:latest>',\n",
    "#     'type': 'executor',\n",
    "#     'status': 0,\n",
    "#     'port': None},\n",
    "   {'name': 'preprocessing',\n",
    "    'image': ['<Image: preprocessing:latest', 'localhost:5000/preprocessing:latest>'],\n",
    "    'type': 'executor',\n",
    "    'status': 0,\n",
    "    'port': None},\n",
    "   {'name': 'tracker-workflow1',\n",
    "    'image': '<Image: tracker-workflow1:latest>',\n",
    "    'type': 'tracker',\n",
    "    'status': 0,\n",
    "    'port': 8001}]},\n",
    " {'name': 'workflow2',\n",
    "  'nodes': [{'name': 'modeling',\n",
    "    'image': '<Image: modeling:latest>',\n",
    "    'type': 'executor',\n",
    "    'status': 0,\n",
    "    'port': None},\n",
    "# {'name': 'modeling',\n",
    "#     'image': '<Image: modeling:latest>',\n",
    "#     'type': 'executor',\n",
    "#     'status': 0,\n",
    "#     'port': None},\n",
    "   {'name': 'tracker-workflow2',\n",
    "    'image': '<Image: tracker-workflow2:latest>',\n",
    "    'type': 'tracker',\n",
    "    'status': 0,\n",
    "    'port': 8002}]}]\n",
    "wflows_meta"
   ]
  },
  {
   "cell_type": "code",
   "execution_count": 51,
   "metadata": {},
   "outputs": [
    {
     "data": {
      "text/plain": [
       "['gathering',\n",
       " 'preprocessing',\n",
       " 'tracker-workflow1',\n",
       " 'modeling',\n",
       " 'tracker-workflow2']"
      ]
     },
     "execution_count": 51,
     "metadata": {},
     "output_type": "execute_result"
    }
   ],
   "source": [
    "t = [node['name'] for wflow in wflows_meta for node in wflow['nodes']]\n",
    "t"
   ]
  },
  {
   "cell_type": "code",
   "execution_count": 65,
   "metadata": {},
   "outputs": [
    {
     "data": {
      "text/plain": [
       "[{'data': {'id': 'Graph 1', 'label': 'Graph 1'}},\n",
       " {'data': {'id': 'workflow1', 'label': 'workflow1', 'parent': 'Graph 1'}},\n",
       " {'data': {'id': 'gathering', 'label': 'gathering', 'parent': 'workflow1'}},\n",
       " {'data': {'source': 'gathering', 'target': 'preprocessing'}},\n",
       " {'data': {'id': 'preprocessing',\n",
       "   'label': 'preprocessing',\n",
       "   'parent': 'workflow1'}},\n",
       " {'data': {'id': 'Graph 1', 'label': 'Graph 1'}},\n",
       " {'data': {'id': 'workflow2', 'label': 'workflow2', 'parent': 'Graph 1'}},\n",
       " {'data': {'id': 'modeling', 'label': 'modeling', 'parent': 'workflow2'}},\n",
       " {'data': {'source': 'preprocessing', 'target': 'modeling'}}]"
      ]
     },
     "execution_count": 65,
     "metadata": {},
     "output_type": "execute_result"
    }
   ],
   "source": [
    "def workflow_to_graph(wflows_meta, name='Graph 1'):\n",
    "    all_nodes = list()\n",
    "    last_nodes = list()\n",
    "    if_tracker = 0\n",
    "    for wflow in wflows_meta:\n",
    "        # Parent nodes\n",
    "        nodes = wflow['nodes']\n",
    "        parent_node_name = wflow['name']\n",
    "        # Root parent (e.g, Data science team)\n",
    "        all_nodes.append({'data': {'id': name, \n",
    "                                   'label': name}})\n",
    "        # Workflow parent (e.g, workflow1)\n",
    "        all_nodes.append({'data': {'id': parent_node_name, \n",
    "                                   'label': parent_node_name,\n",
    "                                   'parent': name}})\n",
    "\n",
    "        if_tracker = int(any(\"tracker\" in node['name'] for node in nodes))\n",
    "        for i, node in enumerate(nodes):        \n",
    "            children_node_name = node['name']\n",
    "            if node['type'] == 'executor':\n",
    "                # Children nodes\n",
    "                all_nodes.append({'data': {'id': children_node_name, \n",
    "                                           'label': children_node_name,\n",
    "                                           'parent': parent_node_name}})\n",
    "                # Edges in each workflow\n",
    "                if i+1+if_tracker < len(nodes):\n",
    "                    all_nodes.append({'data': {'source': children_node_name, \n",
    "                                               'target': nodes[i+1]['name']}})\n",
    "\n",
    "                if i == len(nodes)-(1 + if_tracker):\n",
    "                    last_nodes.append(children_node_name)\n",
    "\n",
    "        if_tracker = 0\n",
    "\n",
    "    # Edges between workflows\n",
    "    for i, last_node in enumerate(last_nodes):\n",
    "        if i+1 < len(last_nodes):\n",
    "            all_nodes.append({'data': {'source': last_node, \n",
    "                                   'target': last_nodes[i+1]}})       \n",
    "    \n",
    "    return all_nodes\n",
    "\n",
    "dict_wflows = workflow_to_graph(wflows_meta)\n",
    "dict_wflows"
   ]
  },
  {
   "cell_type": "code",
   "execution_count": 54,
   "metadata": {},
   "outputs": [],
   "source": [
    "# !pip install pygraphviz"
   ]
  },
  {
   "cell_type": "code",
   "execution_count": 66,
   "metadata": {},
   "outputs": [
    {
     "data": {
      "image/png": "[encoded data removed]",
      "text/plain": [
       "<Figure size 432x288 with 1 Axes>"
      ]
     },
     "metadata": {},
     "output_type": "display_data"
    }
   ],
   "source": [
    "import matplotlib.pyplot as plt\n",
    "import networkx as nx\n",
    "# from networkx.drawing.nx_agraph import write_dot, graphviz_layout\n",
    "\n",
    "def draw_graph(dict_wflows):\n",
    "    G = nx.DiGraph(directed=True)\n",
    "\n",
    "    edges_with_parent = [(d['data']['parent'], d['data']['id']) \n",
    "              for d in dict_wflows if 'parent' in d['data'].keys()]\n",
    "    parent_nodes = {edge[0]:'blue' for edge in edges_with_parent}\n",
    "    # color_map = ['blue' for e in edges]\n",
    "    edges_rest = [(d['data']['source'], d['data']['target']) \n",
    "              for d in dict_wflows if 'source' in d['data'].keys()]\n",
    "\n",
    "    rest_nodes = {edge:'cyan' for edge in list(set(list(sum(edges_rest, ()))))}\n",
    "\n",
    "    total_edges = edges_with_parent + edges_rest\n",
    "\n",
    "    G.add_edges_from(total_edges) \n",
    "\n",
    "#     plt.title('Topology')\n",
    "    pos = nx.spectral_layout(G)\n",
    "    color_nodes = {**parent_nodes, **rest_nodes}\n",
    "    color_map = [color_nodes[node] for node in G.nodes()]\n",
    "    nx.draw(G, pos, node_color=color_map, with_labels = True, arrows=True)\n",
    "    plt.show()\n",
    "\n",
    "draw_graph(dict_wflows)\n",
    "# pos =graphviz_layout(G, prog='dot')\n",
    "# nx.draw(G, pos, with_labels=False, arrows=True)\n",
    "# plt.savefig('nx_test.png')"
   ]
  },
  {
   "cell_type": "code",
   "execution_count": 58,
   "metadata": {},
   "outputs": [
    {
     "data": {
      "text/plain": [
       "{'Data science team': 'blue',\n",
       " 'workflow1': 'blue',\n",
       " 'workflow2': 'blue',\n",
       " 'g': 'cyan',\n",
       " 'm': 'cyan',\n",
       " 'p': 'cyan'}"
      ]
     },
     "execution_count": 58,
     "metadata": {},
     "output_type": "execute_result"
    }
   ],
   "source": [
    "color_nodes"
   ]
  },
  {
   "cell_type": "code",
   "execution_count": 52,
   "metadata": {},
   "outputs": [
    {
     "data": {
      "text/plain": [
       "{'gathering': 'preprocessing', 'preprocessing': 'modeling'}"
      ]
     },
     "execution_count": 52,
     "metadata": {},
     "output_type": "execute_result"
    }
   ],
   "source": [
    "dict(edges_rest)"
   ]
  },
  {
   "cell_type": "code",
   "execution_count": 56,
   "metadata": {},
   "outputs": [
    {
     "data": {
      "text/plain": [
       "['gathering', 'modeling', 'preprocessing']"
      ]
     },
     "execution_count": 56,
     "metadata": {},
     "output_type": "execute_result"
    }
   ],
   "source": [
    "list(set(list(sum(edges_rest, ()))))"
   ]
  },
  {
   "cell_type": "code",
   "execution_count": 35,
   "metadata": {},
   "outputs": [
    {
     "data": {
      "text/plain": [
       "NodeView(('Data science team', 'workflow1', 'gathering', 'preprocessing', 'workflow2', 'modeling'))"
      ]
     },
     "execution_count": 35,
     "metadata": {},
     "output_type": "execute_result"
    }
   ],
   "source": [
    "G.nodes()"
   ]
  },
  {
   "cell_type": "code",
   "execution_count": 7,
   "metadata": {},
   "outputs": [],
   "source": [
    "import jupyterlab_dash\n",
    "import dash\n",
    "import math\n",
    "import dash_cytoscape as cyto\n",
    "import dash_html_components as html\n",
    "\n",
    "viewer = jupyterlab_dash.AppViewer()\n",
    "app = dash.Dash(__name__)\n",
    "\n",
    "app.layout = html.Div([\n",
    "    cyto.Cytoscape(\n",
    "        id='cytoscape-compound',\n",
    "#         layout={'name': 'grid',\n",
    "#                 'rows': 2},\n",
    "#         layout={\n",
    "#             'name': 'circle',\n",
    "#             'radius': 250,\n",
    "#             'startAngle': math.pi * 1/6,\n",
    "#             'sweep': math.pi * 2/3\n",
    "#         },\n",
    "#         layout={\n",
    "#             'name': 'breadthfirst',\n",
    "#             'roots': '[id = \"workflow1\"]'\n",
    "#         },\n",
    "        layout={\n",
    "            'name': 'breadthfirst'\n",
    "        },\n",
    "        style={'width': '100%', 'height': '600px'},\n",
    "        stylesheet=[\n",
    "            {\n",
    "                'selector': 'node',\n",
    "                'style': {'content': 'data(label)'}\n",
    "            },\n",
    "            {\n",
    "                'selector': '.countries',\n",
    "                'style': {'width': 5}\n",
    "            },\n",
    "            {\n",
    "                'selector': '.cities',\n",
    "                'style': {'line-style': 'dashed'}\n",
    "            }\n",
    "        ],\n",
    "        elements=format_graph(wflows_meta),\n",
    "    )\n",
    "])"
   ]
  },
  {
   "cell_type": "code",
   "execution_count": 8,
   "metadata": {},
   "outputs": [],
   "source": [
    "viewer.show(app)"
   ]
  },
  {
   "cell_type": "code",
   "execution_count": null,
   "metadata": {},
   "outputs": [],
   "source": []
  },
  {
   "cell_type": "code",
   "execution_count": 3,
   "metadata": {},
   "outputs": [],
   "source": [
    "# !pip install \"jupyterlab>=1.0\" jupyterlab-dash==0.1.0a3\n",
    "# !jupyter labextension install jupyterlab-dash@0.1.0-alpha.3"
   ]
  },
  {
   "cell_type": "code",
   "execution_count": null,
   "metadata": {},
   "outputs": [],
   "source": [
    "[\n",
    "            # Parent Nodes\n",
    "            {\n",
    "                'data': {'id': 'us', 'label': 'United States'}\n",
    "            },\n",
    "            {\n",
    "                'data': {'id': 'can', 'label': 'Canada'}\n",
    "            },\n",
    "            # Edges\n",
    "            {\n",
    "                'data': {'source': 'can', 'target': 'us'},\n",
    "                'classes': 'countries'\n",
    "            },\n",
    "            # Children Nodes\n",
    "            {\n",
    "                'data': {'id': 'nyc', 'label': 'New York', 'parent': 'us'},\n",
    "                'position': {'x': 100, 'y': 100}\n",
    "            },\n",
    "            {\n",
    "                'data': {'id': 'sf', 'label': 'San Francisco', 'parent': 'us'},\n",
    "                'position': {'x': 100, 'y': 200}\n",
    "            },\n",
    "            {\n",
    "                'data': {'id': 'mtl', 'label': 'Montreal', 'parent': 'can'},\n",
    "                'position': {'x': 400, 'y': 100}\n",
    "            },\n",
    "\n",
    "#             # Edges\n",
    "#             {\n",
    "#                 'data': {'source': 'can', 'target': 'us'},\n",
    "#                 'classes': 'countries'\n",
    "#             },\n",
    "            {\n",
    "                'data': {'source': 'nyc', 'target': 'sf'},\n",
    "                'classes': 'cities'\n",
    "            },\n",
    "            {\n",
    "                'data': {'source': 'sf', 'target': 'mtl'},\n",
    "                'classes': 'cities'\n",
    "            }\n",
    "        ]"
   ]
  }
 ],
 "metadata": {
  "kernelspec": {
   "display_name": "Python 3",
   "language": "python",
   "name": "python3"
  },
  "language_info": {
   "codemirror_mode": {
    "name": "ipython",
    "version": 3
   },
   "file_extension": ".py",
   "mimetype": "text/x-python",
   "name": "python",
   "nbconvert_exporter": "python",
   "pygments_lexer": "ipython3",
   "version": "3.7.3"
  }
 },
 "nbformat": 4,
 "nbformat_minor": 4
}
