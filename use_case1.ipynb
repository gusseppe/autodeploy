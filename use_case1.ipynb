{
 "cells": [
  {
   "cell_type": "markdown",
   "metadata": {},
   "source": [
    "# Use case 1: \n",
    "\n",
    "# Breast cancer dataset"
   ]
  },
  {
   "cell_type": "markdown",
   "metadata": {},
   "source": [
    "# Setup\n",
    "\n",
    "- Input: Application with the python files, data set and requirements.\n",
    "- Output: Platform."
   ]
  },
  {
   "cell_type": "code",
   "execution_count": 2,
   "outputs": [
    {
     "name": "stdout",
     "text": [
      "The autoreload extension is already loaded. To reload it, use:\n  %reload_ext autoreload\n"
     ],
     "output_type": "stream"
    }
   ],
   "source": [
    "%load_ext autoreload\n",
    "%autoreload 2"
   ],
   "metadata": {
    "collapsed": false,
    "pycharm": {
     "name": "#%%\n",
     "is_executing": false
    }
   }
  },
  {
   "cell_type": "code",
   "execution_count": 1,
   "metadata": {
    "pycharm": {
     "is_executing": false
    }
   },
   "outputs": [
    {
     "data": {
      "text/plain": "<autodeploy.setup.setup.Setup at 0x7f7250798c50>"
     },
     "metadata": {},
     "output_type": "execute_result",
     "execution_count": 1
    }
   ],
   "source": [
    "\n",
    "from autodeploy.setup import setup\n",
    "\n",
    "\n",
    "app_dir = '/home/guess/Desktop/autodeploy/examples/leaf'\n",
    "workflow = {'gathering': 'gathering.py',\n",
    "            'preprocessing': 'preprocessing.py',\n",
    "            'modeling': 'modeling.py',\n",
    "            'main': 'main.py'}\n",
    "\n",
    "platform = setup.Setup(app_dir, workflow)\n",
    "platform"
   ]
  },
  {
   "cell_type": "code",
   "execution_count": 2,
   "metadata": {
    "pycharm": {
     "is_executing": false
    }
   },
   "outputs": [
    {
     "name": "stderr",
     "text": [
      "23-Oct-19 21:52:41 - Pipeline: build() and run() are running.\n",
      "23-Oct-19 21:52:41 - Dockerfile was found.\n",
      "23-Oct-19 21:52:41 - 404 Client Error: Not Found (\"no such image: app_single: No such image: app_single:latest\")\n",
      "23-Oct-19 21:52:41 - Container creation failed.\n",
      "23-Oct-19 21:53:18 - Image app_single was built successfully.\n",
      "23-Oct-19 21:53:19 - MLproject was found.\n",
      "23-Oct-19 21:53:19 - Image app_single is running as app_single container.\n",
      "23-Oct-19 21:53:20 - MLflow server is running at 0.0.0.0:8001\n"
     ],
     "output_type": "stream"
    },
    {
     "data": {
      "text/plain": "<autodeploy.setup.setup.Setup at 0x7f7250798c50>"
     },
     "metadata": {},
     "output_type": "execute_result",
     "execution_count": 2
    }
   ],
   "source": [
    "platform.pipeline()\n",
    "platform"
   ]
  },
  {
   "cell_type": "code",
   "execution_count": 9,
   "metadata": {
    "pycharm": {
     "is_executing": false
    }
   },
   "outputs": [
    {
     "name": "stderr",
     "text": [
      "23-Oct-19 21:50:46 - Container app_single was stopped.\n",
      "23-Oct-19 21:50:46 - Stopped containers were deleted.\n"
     ],
     "output_type": "stream"
    }
   ],
   "source": [
    "# platform.stop()"
   ]
  },
  {
   "cell_type": "markdown",
   "metadata": {},
   "source": [
    "# Deploy"
   ]
  },
  {
   "cell_type": "markdown",
   "metadata": {},
   "source": [
    "- Input: Platform object.\n",
    "- Output: Workflow shown at Mlflow webserver http://localhost:8001/#/. API model at http://localhost:5001/#/"
   ]
  },
  {
   "cell_type": "code",
   "execution_count": 5,
   "metadata": {
    "pycharm": {
     "is_executing": false
    }
   },
   "outputs": [
    {
     "name": "stderr",
     "text": [
      "23-Oct-19 21:58:37 - Pipeline: run_workflow() and deploy() are running.\n",
      "23-Oct-19 21:58:37 - Running workflow: type=single .\n",
      "23-Oct-19 21:58:42 -  Main file (main.py) output:  Run matched, but is not FINISHED, so skipping (run_id=e48d762176914bfa807563d6dba8bc5c, status=FINISHED)\nNo matching run has been found.\n2019/10/23 19:58:38 INFO mlflow.projects: === Created directory /tmp/tmp5koyfqp6 for downloading remote URIs passed to arguments of type 'path' ===\n2019/10/23 19:58:38 INFO mlflow.projects: === Running command 'python gathering.py' in run with ID '8fd33bc89be1452e8ea568fbdf4f9fc7' === \n   species  specimen_number  eccentricity  ...  third_moment  uniformity  entropy\n0        1                1       0.72694  ...      0.005232    0.000275  1.17560\n1        1                2       0.74173  ...      0.002708    0.000075  0.69659\n2        1                3       0.76722  ...      0.000921    0.000038  0.44348\n3        1                4       0.73797  ...      0.001154    0.000066  0.58785\n4        1                5       0.82301  ...      0.000560    0.000024  0.34214\n\n[5 rows x 16 columns]\n2019/10/23 19:58:39 INFO mlflow.projects: === Run (ID '8fd33bc89be1452e8ea568fbdf4f9fc7') succeeded ===\nRun matched, but is not FINISHED, so skipping (run_id=be0f091edf5645eab1eddbc9f795f977, status=FINISHED)\nNo matching run has been found.\n2019/10/23 19:58:39 INFO mlflow.projects: === Created directory /tmp/tmppz4rb8sj for downloading remote URIs passed to arguments of type 'path' ===\n2019/10/23 19:58:39 INFO mlflow.projects: === Running command 'python preprocessing.py' in run with ID '650463c497634946b3eaf4a3a7e17b14' === \n/opt/conda/lib/python3.7/site-packages/pandas/core/frame.py:3509: SettingWithCopyWarning: \nA value is trying to be set on a copy of a slice from a DataFrame.\nTry using .loc[row_indexer,col_indexer] = value instead\n\nSee the caveats in the documentation: http://pandas.pydata.org/pandas-docs/stable/user_guide/indexing.html#returning-a-view-versus-a-copy\n  self[k1] = value[k2]\npreprocessing.py:25: SettingWithCopyWarning: \nA value is trying to be set on a copy of a slice from a DataFrame.\nTry using .loc[row_indexer,col_indexer] = value instead\n\nSee the caveats in the documentation: http://pandas.pydata.org/pandas-docs/stable/user_guide/indexing.html#returning-a-view-versus-a-copy\n  df_cleaned['species'] = df_cleaned['species'].astype(int)\n2019/10/23 19:58:40 INFO mlflow.projects: === Run (ID '650463c497634946b3eaf4a3a7e17b14') succeeded ===\nRun matched, but is not FINISHED, so skipping (run_id=7ec4c13870fc406581223fc3cc452ead, status=FINISHED)\nNo matching run has been found.\n2019/10/23 19:58:41 INFO mlflow.projects: === Created directory /tmp/tmp7ghwbdt9 for downloading remote URIs passed to arguments of type 'path' ===\n2019/10/23 19:58:41 INFO mlflow.projects: === Running command 'python modeling.py' in run with ID '47e56d5a69544f5981151ee5e91da8a9' === \nmodeling.py:57: FutureWarning: The signature of `Series.to_csv` was aligned to that of `DataFrame.to_csv`, and argument 'header' will change its default value from False to True: please pass an explicit value to suppress this warning.\n  y_test.to_csv('y_test.csv', index=False)\nAccuracy: 0.765\n2019/10/23 19:58:42 INFO mlflow.projects: === Run (ID '47e56d5a69544f5981151ee5e91da8a9') succeeded ===\nLaunching new run for entrypoint=gathering and parameters={}\nLaunching new run for entrypoint=preprocessing and parameters={}\nLaunching new run for entrypoint=modeling and parameters={}\n \n",
      "23-Oct-19 21:58:42 -  Workflow finished successfully. \n",
      "23-Oct-19 21:58:42 -  Deploying model as API: type=single .\n",
      "23-Oct-19 21:58:42 -  Building image: app_single_api. \n",
      "23-Oct-19 22:02:46 -  Image: app_single_api was built successfully. \n",
      "23-Oct-19 22:02:46 - Creating container: app_single_api. \n",
      "23-Oct-19 22:02:47 - API model is running as app_single_api container.\n",
      "23-Oct-19 22:02:47 - Container: app_single_api was created successfully. \n",
      "23-Oct-19 22:02:47 - API at: htpp://localhost:5001. \n"
     ],
     "output_type": "stream"
    },
    {
     "data": {
      "text/plain": "<autodeploy.deploy.deploy.Deploy at 0x7f72150e93c8>"
     },
     "metadata": {},
     "output_type": "execute_result",
     "execution_count": 5
    }
   ],
   "source": [
    "from autodeploy.deploy import deploy\n",
    "\n",
    "deployer = deploy.Deploy(platform)\n",
    "\n",
    "deployer.pipeline()"
   ]
  },
  {
   "cell_type": "markdown",
   "metadata": {},
   "source": [
    "## Track\n"
   ]
  },
  {
   "cell_type": "markdown",
   "metadata": {},
   "source": [
    "- Input: Values to predict.\n",
    "- Output: Predictions and analysis."
   ]
  },
  {
   "cell_type": "code",
   "execution_count": 6,
   "metadata": {
    "pycharm": {
     "is_executing": false
    }
   },
   "outputs": [
    {
     "name": "stderr",
     "text": [
      "23-Oct-19 22:02:53 - Creating container: app_single_api. \n",
      "23-Oct-19 22:02:53 - 409 Client Error: Conflict (\"Conflict. The container name \"/app_single_api\" is already in use by container \"945e5118a50a4200c0666d425983b3a64474b132f41ba75791cc7025b050da74\". You have to remove (or rename) that container to be able to reuse that name.\")\n",
      "23-Oct-19 22:02:53 - Container creation failed.\n"
     ],
     "output_type": "stream"
    }
   ],
   "source": [
    "from autodeploy.deploy import deploy\n",
    "\n",
    "deployer = deploy.Deploy(api_image_name='app_single_api')\n",
    "deployer.run_api()\n"
   ]
  },
  {
   "cell_type": "code",
   "execution_count": 3,
   "metadata": {
    "pycharm": {
     "is_executing": false,
     "name": "#%%\n"
    }
   },
   "outputs": [
    {
     "name": "stderr",
     "text": [
      "23-Oct-19 22:11:53 -  INFO - Predicting from port: 5001\n",
      "23-Oct-19 22:11:53 -  INFO - Time elapsed: 0.012650012969970703\n",
      "23-Oct-19 22:11:53 -  INFO - Input and predictions were saved at: /home/guess/Desktop/autodeploy/examples/leaf/predictions.csv\n"
     ],
     "output_type": "stream"
    },
    {
     "data": {
      "text/plain": "        x_0       x_1       x_2       x_3       x_4       x_5       x_6  \\\n0  0.334457 -0.798297  0.658544  1.956055 -0.176947  2.010205 -1.379319   \n1  0.018418  0.829406  1.676437 -0.489198 -0.219101  0.326927 -2.211135   \n2 -0.704344 -1.280429 -1.408461 -0.633558  0.606010 -1.556629  1.754794   \n3 -0.557492 -0.803675 -1.369803  1.255093  2.579709 -0.088282  1.639117   \n4 -0.203580 -1.223940 -0.581681  1.352911 -0.649278 -1.014757  0.034083   \n\n        x_7       x_8       x_9      x_10      x_11      x_12      x_13  pred  \n0  1.575381 -0.387702  0.285865 -0.730930 -0.153198  1.794558 -0.033127     6  \n1 -0.901859 -1.870792 -0.351513  0.235615  1.605752 -1.478586  0.770865    24  \n2 -1.024597 -0.522723  1.049009 -2.081929  1.637036  0.211017  1.696456    10  \n3  0.507432  0.963879  2.210523  1.677701  1.455370  0.568983 -0.553588    10  \n4  0.666845  1.628397 -0.379128 -0.769973  1.198853 -1.555896  0.233786    23  ",
      "text/html": "<div>\n<style scoped>\n    .dataframe tbody tr th:only-of-type {\n        vertical-align: middle;\n    }\n\n    .dataframe tbody tr th {\n        vertical-align: top;\n    }\n\n    .dataframe thead th {\n        text-align: right;\n    }\n</style>\n<table border=\"1\" class=\"dataframe\">\n  <thead>\n    <tr style=\"text-align: right;\">\n      <th></th>\n      <th>x_0</th>\n      <th>x_1</th>\n      <th>x_2</th>\n      <th>x_3</th>\n      <th>x_4</th>\n      <th>x_5</th>\n      <th>x_6</th>\n      <th>x_7</th>\n      <th>x_8</th>\n      <th>x_9</th>\n      <th>x_10</th>\n      <th>x_11</th>\n      <th>x_12</th>\n      <th>x_13</th>\n      <th>pred</th>\n    </tr>\n  </thead>\n  <tbody>\n    <tr>\n      <td>0</td>\n      <td>0.334457</td>\n      <td>-0.798297</td>\n      <td>0.658544</td>\n      <td>1.956055</td>\n      <td>-0.176947</td>\n      <td>2.010205</td>\n      <td>-1.379319</td>\n      <td>1.575381</td>\n      <td>-0.387702</td>\n      <td>0.285865</td>\n      <td>-0.730930</td>\n      <td>-0.153198</td>\n      <td>1.794558</td>\n      <td>-0.033127</td>\n      <td>6</td>\n    </tr>\n    <tr>\n      <td>1</td>\n      <td>0.018418</td>\n      <td>0.829406</td>\n      <td>1.676437</td>\n      <td>-0.489198</td>\n      <td>-0.219101</td>\n      <td>0.326927</td>\n      <td>-2.211135</td>\n      <td>-0.901859</td>\n      <td>-1.870792</td>\n      <td>-0.351513</td>\n      <td>0.235615</td>\n      <td>1.605752</td>\n      <td>-1.478586</td>\n      <td>0.770865</td>\n      <td>24</td>\n    </tr>\n    <tr>\n      <td>2</td>\n      <td>-0.704344</td>\n      <td>-1.280429</td>\n      <td>-1.408461</td>\n      <td>-0.633558</td>\n      <td>0.606010</td>\n      <td>-1.556629</td>\n      <td>1.754794</td>\n      <td>-1.024597</td>\n      <td>-0.522723</td>\n      <td>1.049009</td>\n      <td>-2.081929</td>\n      <td>1.637036</td>\n      <td>0.211017</td>\n      <td>1.696456</td>\n      <td>10</td>\n    </tr>\n    <tr>\n      <td>3</td>\n      <td>-0.557492</td>\n      <td>-0.803675</td>\n      <td>-1.369803</td>\n      <td>1.255093</td>\n      <td>2.579709</td>\n      <td>-0.088282</td>\n      <td>1.639117</td>\n      <td>0.507432</td>\n      <td>0.963879</td>\n      <td>2.210523</td>\n      <td>1.677701</td>\n      <td>1.455370</td>\n      <td>0.568983</td>\n      <td>-0.553588</td>\n      <td>10</td>\n    </tr>\n    <tr>\n      <td>4</td>\n      <td>-0.203580</td>\n      <td>-1.223940</td>\n      <td>-0.581681</td>\n      <td>1.352911</td>\n      <td>-0.649278</td>\n      <td>-1.014757</td>\n      <td>0.034083</td>\n      <td>0.666845</td>\n      <td>1.628397</td>\n      <td>-0.379128</td>\n      <td>-0.769973</td>\n      <td>1.198853</td>\n      <td>-1.555896</td>\n      <td>0.233786</td>\n      <td>23</td>\n    </tr>\n  </tbody>\n</table>\n</div>"
     },
     "metadata": {},
     "output_type": "execute_result",
     "execution_count": 3
    }
   ],
   "source": [
    "from sklearn.datasets import make_classification\n",
    "from autodeploy.track import track\n",
    "\n",
    "tracker = track.Track(port=5001)\n",
    "\n",
    "X2, y2 = make_classification(n_samples=100,n_features=14,\n",
    "                            class_sep=1.1, n_informative=2,\n",
    "                            n_redundant=1, random_state=42)\n",
    "sample_input = { \n",
    "        \"columns\": [ f\"x_{i}\" for i in range(14)], \n",
    "        \"data\": X2.tolist()\n",
    "        # \"data\": [ \n",
    "        #     [-1.8873649,-1.1455,0.83967,-2.008855],\n",
    "        #     [-0.989919,  0.987401, 0.266892,  0.485329]  \n",
    "        # ] \n",
    "}   \n",
    "\n",
    "# print(sample_input)\n",
    "path = '/home/guess/Desktop/autodeploy/examples/leaf'\n",
    "predictions = tracker.predict(sample_input, to_save=True, path_pred=path)\n",
    "# tracker.save_prediction(path)\n",
    "\n",
    "predictions.head()\n",
    "# print(f'Predictions: \\n {predictions}')"
   ]
  },
  {
   "cell_type": "code",
   "execution_count": 17,
   "metadata": {
    "pycharm": {
     "is_executing": false,
     "name": "#%%\n"
    }
   },
   "outputs": [],
   "source": [
    "# %store predictions"
   ]
  },
  {
   "cell_type": "markdown",
   "metadata": {},
   "source": [
    "### Gather a sample from the training data and new distribution\n",
    "\n",
    "\n",
    "It aims at checking the sanity of new data; basically, test integrity (same numbers of features, class labels, types, etc.) and draft distributions (tests, e.g. Kolmogorov.)."
   ]
  },
  {
   "cell_type": "code",
   "execution_count": 6,
   "metadata": {
    "pycharm": {
     "is_executing": false
    }
   },
   "outputs": [
    {
     "name": "stdout",
     "text": [
      "########## Comparing two numerical dataframes ##########\n\n######## Kolmogorov-Smirnov test ########\n"
     ],
     "output_type": "stream"
    },
    {
     "traceback": [
      "\u001b[0;31m---------------------------------------------------------------------------\u001b[0m",
      "\u001b[0;31mKeyError\u001b[0m                                  Traceback (most recent call last)",
      "\u001b[0;32m~/Desktop/autodeploy/venv/lib/python3.7/site-packages/pandas/core/indexes/base.py\u001b[0m in \u001b[0;36mget_loc\u001b[0;34m(self, key, method, tolerance)\u001b[0m\n\u001b[1;32m   2896\u001b[0m             \u001b[0;32mtry\u001b[0m\u001b[0;34m:\u001b[0m\u001b[0;34m\u001b[0m\u001b[0;34m\u001b[0m\u001b[0m\n\u001b[0;32m-> 2897\u001b[0;31m                 \u001b[0;32mreturn\u001b[0m \u001b[0mself\u001b[0m\u001b[0;34m.\u001b[0m\u001b[0m_engine\u001b[0m\u001b[0;34m.\u001b[0m\u001b[0mget_loc\u001b[0m\u001b[0;34m(\u001b[0m\u001b[0mkey\u001b[0m\u001b[0;34m)\u001b[0m\u001b[0;34m\u001b[0m\u001b[0;34m\u001b[0m\u001b[0m\n\u001b[0m\u001b[1;32m   2898\u001b[0m             \u001b[0;32mexcept\u001b[0m \u001b[0mKeyError\u001b[0m\u001b[0;34m:\u001b[0m\u001b[0;34m\u001b[0m\u001b[0;34m\u001b[0m\u001b[0m\n",
      "\u001b[0;32mpandas/_libs/index.pyx\u001b[0m in \u001b[0;36mpandas._libs.index.IndexEngine.get_loc\u001b[0;34m()\u001b[0m\n",
      "\u001b[0;32mpandas/_libs/index.pyx\u001b[0m in \u001b[0;36mpandas._libs.index.IndexEngine.get_loc\u001b[0;34m()\u001b[0m\n",
      "\u001b[0;32mpandas/_libs/hashtable_class_helper.pxi\u001b[0m in \u001b[0;36mpandas._libs.hashtable.PyObjectHashTable.get_item\u001b[0;34m()\u001b[0m\n",
      "\u001b[0;32mpandas/_libs/hashtable_class_helper.pxi\u001b[0m in \u001b[0;36mpandas._libs.hashtable.PyObjectHashTable.get_item\u001b[0;34m()\u001b[0m\n",
      "\u001b[0;31mKeyError\u001b[0m: 'specimen_number'",
      "\nDuring handling of the above exception, another exception occurred:\n",
      "\u001b[0;31mKeyError\u001b[0m                                  Traceback (most recent call last)",
      "\u001b[0;32m<ipython-input-6-8f0db34ffa38>\u001b[0m in \u001b[0;36m<module>\u001b[0;34m\u001b[0m\n\u001b[1;32m      7\u001b[0m \u001b[0mX_new\u001b[0m \u001b[0;34m=\u001b[0m \u001b[0mpredictions\u001b[0m\u001b[0;34m.\u001b[0m\u001b[0mloc\u001b[0m\u001b[0;34m[\u001b[0m\u001b[0;34m:\u001b[0m\u001b[0;34m,\u001b[0m \u001b[0mpredictions\u001b[0m\u001b[0;34m.\u001b[0m\u001b[0mcolumns\u001b[0m \u001b[0;34m!=\u001b[0m \u001b[0;34m'pred'\u001b[0m\u001b[0;34m]\u001b[0m\u001b[0;34m\u001b[0m\u001b[0;34m\u001b[0m\u001b[0m\n\u001b[1;32m      8\u001b[0m \u001b[0;34m\u001b[0m\u001b[0m\n\u001b[0;32m----> 9\u001b[0;31m \u001b[0mtools\u001b[0m\u001b[0;34m.\u001b[0m\u001b[0moverall_test\u001b[0m\u001b[0;34m(\u001b[0m\u001b[0mX_old\u001b[0m\u001b[0;34m.\u001b[0m\u001b[0msample\u001b[0m\u001b[0;34m(\u001b[0m\u001b[0mlen\u001b[0m\u001b[0;34m(\u001b[0m\u001b[0mX_new\u001b[0m\u001b[0;34m)\u001b[0m\u001b[0;34m)\u001b[0m\u001b[0;34m,\u001b[0m \u001b[0mX_new\u001b[0m\u001b[0;34m,\u001b[0m \u001b[0mverbose\u001b[0m\u001b[0;34m=\u001b[0m\u001b[0;32mTrue\u001b[0m\u001b[0;34m)\u001b[0m\u001b[0;34m\u001b[0m\u001b[0;34m\u001b[0m\u001b[0m\n\u001b[0m\u001b[1;32m     10\u001b[0m \u001b[0;34m\u001b[0m\u001b[0m\n\u001b[1;32m     11\u001b[0m \u001b[0;34m\u001b[0m\u001b[0m\n",
      "\u001b[0;32m~/Desktop/autodeploy/autodeploy/track/tools.py\u001b[0m in \u001b[0;36moverall_test\u001b[0;34m(x1, x2, test, verbose)\u001b[0m\n\u001b[1;32m     98\u001b[0m         \u001b[0mprint\u001b[0m\u001b[0;34m(\u001b[0m\u001b[0;34m)\u001b[0m\u001b[0;34m\u001b[0m\u001b[0;34m\u001b[0m\u001b[0m\n\u001b[1;32m     99\u001b[0m         \u001b[0mprint\u001b[0m\u001b[0;34m(\u001b[0m\u001b[0;34mf'######## Kolmogorov-Smirnov test ########'\u001b[0m\u001b[0;34m)\u001b[0m\u001b[0;34m\u001b[0m\u001b[0;34m\u001b[0m\u001b[0m\n\u001b[0;32m--> 100\u001b[0;31m         \u001b[0mdf_ks\u001b[0m \u001b[0;34m=\u001b[0m \u001b[0mtest_ks\u001b[0m\u001b[0;34m(\u001b[0m\u001b[0mx1\u001b[0m\u001b[0;34m,\u001b[0m \u001b[0mx2\u001b[0m\u001b[0;34m)\u001b[0m\u001b[0;34m\u001b[0m\u001b[0;34m\u001b[0m\u001b[0m\n\u001b[0m\u001b[1;32m    101\u001b[0m         \u001b[0;32mif\u001b[0m \u001b[0mverbose\u001b[0m\u001b[0;34m:\u001b[0m\u001b[0;34m\u001b[0m\u001b[0;34m\u001b[0m\u001b[0m\n\u001b[1;32m    102\u001b[0m             \u001b[0;31m#       x1.plot(kind='density', title='Old matrix')\u001b[0m\u001b[0;34m\u001b[0m\u001b[0;34m\u001b[0m\u001b[0;34m\u001b[0m\u001b[0m\n",
      "\u001b[0;32m~/Desktop/autodeploy/autodeploy/track/tools.py\u001b[0m in \u001b[0;36mtest_ks\u001b[0;34m(x1, x2)\u001b[0m\n\u001b[1;32m     84\u001b[0m     \u001b[0mp_value_dict\u001b[0m \u001b[0;34m=\u001b[0m \u001b[0;34m{\u001b[0m\u001b[0;34m}\u001b[0m\u001b[0;34m\u001b[0m\u001b[0;34m\u001b[0m\u001b[0m\n\u001b[1;32m     85\u001b[0m     \u001b[0;32mfor\u001b[0m \u001b[0mcol\u001b[0m \u001b[0;32min\u001b[0m \u001b[0mx1\u001b[0m\u001b[0;34m:\u001b[0m\u001b[0;34m\u001b[0m\u001b[0;34m\u001b[0m\u001b[0m\n\u001b[0;32m---> 86\u001b[0;31m         \u001b[0mstat\u001b[0m\u001b[0;34m,\u001b[0m \u001b[0mp_value\u001b[0m \u001b[0;34m=\u001b[0m \u001b[0mks_2samp\u001b[0m\u001b[0;34m(\u001b[0m\u001b[0mx1\u001b[0m\u001b[0;34m[\u001b[0m\u001b[0mcol\u001b[0m\u001b[0;34m]\u001b[0m\u001b[0;34m,\u001b[0m \u001b[0mx2\u001b[0m\u001b[0;34m[\u001b[0m\u001b[0mcol\u001b[0m\u001b[0;34m]\u001b[0m\u001b[0;34m)\u001b[0m\u001b[0;34m\u001b[0m\u001b[0;34m\u001b[0m\u001b[0m\n\u001b[0m\u001b[1;32m     87\u001b[0m         \u001b[0mp_value_dict\u001b[0m\u001b[0;34m[\u001b[0m\u001b[0mcol\u001b[0m\u001b[0;34m]\u001b[0m \u001b[0;34m=\u001b[0m \u001b[0;34m[\u001b[0m\u001b[0mp_value\u001b[0m\u001b[0;34m,\u001b[0m \u001b[0mexplainer_ks\u001b[0m\u001b[0;34m(\u001b[0m\u001b[0mp_value\u001b[0m\u001b[0;34m)\u001b[0m\u001b[0;34m]\u001b[0m\u001b[0;34m\u001b[0m\u001b[0;34m\u001b[0m\u001b[0m\n\u001b[1;32m     88\u001b[0m \u001b[0;34m\u001b[0m\u001b[0m\n",
      "\u001b[0;32m~/Desktop/autodeploy/venv/lib/python3.7/site-packages/pandas/core/frame.py\u001b[0m in \u001b[0;36m__getitem__\u001b[0;34m(self, key)\u001b[0m\n\u001b[1;32m   2978\u001b[0m             \u001b[0;32mif\u001b[0m \u001b[0mself\u001b[0m\u001b[0;34m.\u001b[0m\u001b[0mcolumns\u001b[0m\u001b[0;34m.\u001b[0m\u001b[0mnlevels\u001b[0m \u001b[0;34m>\u001b[0m \u001b[0;36m1\u001b[0m\u001b[0;34m:\u001b[0m\u001b[0;34m\u001b[0m\u001b[0;34m\u001b[0m\u001b[0m\n\u001b[1;32m   2979\u001b[0m                 \u001b[0;32mreturn\u001b[0m \u001b[0mself\u001b[0m\u001b[0;34m.\u001b[0m\u001b[0m_getitem_multilevel\u001b[0m\u001b[0;34m(\u001b[0m\u001b[0mkey\u001b[0m\u001b[0;34m)\u001b[0m\u001b[0;34m\u001b[0m\u001b[0;34m\u001b[0m\u001b[0m\n\u001b[0;32m-> 2980\u001b[0;31m             \u001b[0mindexer\u001b[0m \u001b[0;34m=\u001b[0m \u001b[0mself\u001b[0m\u001b[0;34m.\u001b[0m\u001b[0mcolumns\u001b[0m\u001b[0;34m.\u001b[0m\u001b[0mget_loc\u001b[0m\u001b[0;34m(\u001b[0m\u001b[0mkey\u001b[0m\u001b[0;34m)\u001b[0m\u001b[0;34m\u001b[0m\u001b[0;34m\u001b[0m\u001b[0m\n\u001b[0m\u001b[1;32m   2981\u001b[0m             \u001b[0;32mif\u001b[0m \u001b[0mis_integer\u001b[0m\u001b[0;34m(\u001b[0m\u001b[0mindexer\u001b[0m\u001b[0;34m)\u001b[0m\u001b[0;34m:\u001b[0m\u001b[0;34m\u001b[0m\u001b[0;34m\u001b[0m\u001b[0m\n\u001b[1;32m   2982\u001b[0m                 \u001b[0mindexer\u001b[0m \u001b[0;34m=\u001b[0m \u001b[0;34m[\u001b[0m\u001b[0mindexer\u001b[0m\u001b[0;34m]\u001b[0m\u001b[0;34m\u001b[0m\u001b[0;34m\u001b[0m\u001b[0m\n",
      "\u001b[0;32m~/Desktop/autodeploy/venv/lib/python3.7/site-packages/pandas/core/indexes/base.py\u001b[0m in \u001b[0;36mget_loc\u001b[0;34m(self, key, method, tolerance)\u001b[0m\n\u001b[1;32m   2897\u001b[0m                 \u001b[0;32mreturn\u001b[0m \u001b[0mself\u001b[0m\u001b[0;34m.\u001b[0m\u001b[0m_engine\u001b[0m\u001b[0;34m.\u001b[0m\u001b[0mget_loc\u001b[0m\u001b[0;34m(\u001b[0m\u001b[0mkey\u001b[0m\u001b[0;34m)\u001b[0m\u001b[0;34m\u001b[0m\u001b[0;34m\u001b[0m\u001b[0m\n\u001b[1;32m   2898\u001b[0m             \u001b[0;32mexcept\u001b[0m \u001b[0mKeyError\u001b[0m\u001b[0;34m:\u001b[0m\u001b[0;34m\u001b[0m\u001b[0;34m\u001b[0m\u001b[0m\n\u001b[0;32m-> 2899\u001b[0;31m                 \u001b[0;32mreturn\u001b[0m \u001b[0mself\u001b[0m\u001b[0;34m.\u001b[0m\u001b[0m_engine\u001b[0m\u001b[0;34m.\u001b[0m\u001b[0mget_loc\u001b[0m\u001b[0;34m(\u001b[0m\u001b[0mself\u001b[0m\u001b[0;34m.\u001b[0m\u001b[0m_maybe_cast_indexer\u001b[0m\u001b[0;34m(\u001b[0m\u001b[0mkey\u001b[0m\u001b[0;34m)\u001b[0m\u001b[0;34m)\u001b[0m\u001b[0;34m\u001b[0m\u001b[0;34m\u001b[0m\u001b[0m\n\u001b[0m\u001b[1;32m   2900\u001b[0m         \u001b[0mindexer\u001b[0m \u001b[0;34m=\u001b[0m \u001b[0mself\u001b[0m\u001b[0;34m.\u001b[0m\u001b[0mget_indexer\u001b[0m\u001b[0;34m(\u001b[0m\u001b[0;34m[\u001b[0m\u001b[0mkey\u001b[0m\u001b[0;34m]\u001b[0m\u001b[0;34m,\u001b[0m \u001b[0mmethod\u001b[0m\u001b[0;34m=\u001b[0m\u001b[0mmethod\u001b[0m\u001b[0;34m,\u001b[0m \u001b[0mtolerance\u001b[0m\u001b[0;34m=\u001b[0m\u001b[0mtolerance\u001b[0m\u001b[0;34m)\u001b[0m\u001b[0;34m\u001b[0m\u001b[0;34m\u001b[0m\u001b[0m\n\u001b[1;32m   2901\u001b[0m         \u001b[0;32mif\u001b[0m \u001b[0mindexer\u001b[0m\u001b[0;34m.\u001b[0m\u001b[0mndim\u001b[0m \u001b[0;34m>\u001b[0m \u001b[0;36m1\u001b[0m \u001b[0;32mor\u001b[0m \u001b[0mindexer\u001b[0m\u001b[0;34m.\u001b[0m\u001b[0msize\u001b[0m \u001b[0;34m>\u001b[0m \u001b[0;36m1\u001b[0m\u001b[0;34m:\u001b[0m\u001b[0;34m\u001b[0m\u001b[0;34m\u001b[0m\u001b[0m\n",
      "\u001b[0;32mpandas/_libs/index.pyx\u001b[0m in \u001b[0;36mpandas._libs.index.IndexEngine.get_loc\u001b[0;34m()\u001b[0m\n",
      "\u001b[0;32mpandas/_libs/index.pyx\u001b[0m in \u001b[0;36mpandas._libs.index.IndexEngine.get_loc\u001b[0;34m()\u001b[0m\n",
      "\u001b[0;32mpandas/_libs/hashtable_class_helper.pxi\u001b[0m in \u001b[0;36mpandas._libs.hashtable.PyObjectHashTable.get_item\u001b[0;34m()\u001b[0m\n",
      "\u001b[0;32mpandas/_libs/hashtable_class_helper.pxi\u001b[0m in \u001b[0;36mpandas._libs.hashtable.PyObjectHashTable.get_item\u001b[0;34m()\u001b[0m\n",
      "\u001b[0;31mKeyError\u001b[0m: 'specimen_number'"
     ],
     "ename": "KeyError",
     "evalue": "'specimen_number'",
     "output_type": "error"
    }
   ],
   "source": [
    "# SAVE TRAINING X, TRAINING y\n",
    "import pandas as pd\n",
    "from autodeploy.track import tools\n",
    "\n",
    "old_data_path = '/home/guess/Desktop/autodeploy/examples/leaf/workflow/gathered.csv'\n",
    "X_old = pd.read_csv(old_data_path)\n",
    "X_old = X_old.loc[:, X_old.columns != 'species']\n",
    "X_old = X_old.loc[:, X_old.columns != 'species']\n",
    "X_new = predictions.loc[:, predictions.columns != 'pred']\n",
    "\n",
    "tools.overall_test(X_old.sample(len(X_new)), X_new, verbose=True)\n",
    "\n",
    "\n",
    "# X_old.head()\n",
    "# assert integrity_checker(X_old) == integrity_checker(X_new)\n",
    "# tracker.overall_test(X_old, X_new)"
   ]
  },
  {
   "cell_type": "markdown",
   "metadata": {},
   "source": [
    "# Comparison"
   ]
  },
  {
   "cell_type": "markdown",
   "metadata": {},
   "source": [
    "# Mlflow vs autodeploy\n",
    "| Features             | MLflow                                                 | autodeploy                                                               |\n",
    "|----------------------|--------------------------------------------------------|--------------------------------------------------------------------------|\n",
    "| Track of experiments | Any stage in the ML workflow with logs and artifacts. | Based on MLflow but with some built-in  functions to standard workflows (single, cluster). |\n",
    "| Reproduce code       | Conda environment and Dockerfile  manually filled.     | User provides basic config (requirements) and the environment is created automatically |\n",
    "| Deploy models        | Built-in functions, no tracking.                                | Based on MLflow with add-ons tools  to track the deployed models.        |\n",
    "| Replication          | It is handled by hand.                       | Specify the number of replicas in the  deployment stage.                 |\n",
    "| Learning curve       | Medium, Python and  command line scripts.              | Easy, everything is written in Python.                                   |"
   ]
  },
  {
   "cell_type": "markdown",
   "metadata": {},
   "source": [
    "Similar to the relationship between Tensorflow and Keras\n",
    "\n",
    "## Why is it useful?\n",
    "\n",
    "- One of the hardest part of ML productionalizing lays on making the model easy to track, easy to deploy and easy to maintain. That's why having tools that lead to rapid prototyping and easy interpretation is crucial.\n",
    "\n",
    "- Due to all the output work is based on Docker, it will be easily deploy in any environment, whether on-premise or cloud.\n",
    "\n",
    "- **The main goal is to automate the model's life after modeling. It means, automate the post-modeling stage.**\n"
   ]
  },
  {
   "cell_type": "markdown",
   "metadata": {},
   "source": [
    "## Unique features for docker container that contains ML models."
   ]
  },
  {
   "cell_type": "markdown",
   "metadata": {},
   "source": [
    "# Plugins"
   ]
  },
  {
   "cell_type": "markdown",
   "metadata": {},
   "source": [
    "## Test data augmentation: generate new feedbacks"
   ]
  },
  {
   "cell_type": "code",
   "execution_count": null,
   "metadata": {},
   "outputs": [],
   "source": [
    "\n",
    "new_feedbacks = tracker.generate_feedbacks(feedbacks)\n",
    "\n",
    "augmented_data = X_old+new_feedbacks\n",
    "model.train(augmented_data)\n",
    "\n",
    "new_predictions = model.predict(X_hidden)\n",
    "print(model.evaluate(new_predictions , y_hidden))\n"
   ]
  },
  {
   "cell_type": "markdown",
   "metadata": {},
   "source": [
    "### If the new model is better then the data augmentation has worked succesfully.\n",
    "\n",
    "Old score = 0.81\n",
    "\n",
    "New score = 0.83"
   ]
  },
  {
   "cell_type": "markdown",
   "metadata": {},
   "source": [
    "### TODO\n",
    "\n",
    "\n",
    "- Show predictions in a better way.\n",
    "- Comparison with mlflow.\n",
    "- helping in a data analysis\n",
    "- Replication when using several containers\n",
    "- Change position of mlruns (artifacts)\n",
    "- Change loginfo deploy (5001)"
   ]
  },
  {
   "cell_type": "code",
   "execution_count": null,
   "metadata": {},
   "outputs": [],
   "source": []
  }
 ],
 "metadata": {
  "kernelspec": {
   "display_name": "Python 3",
   "language": "python",
   "name": "python3"
  },
  "language_info": {
   "codemirror_mode": {
    "name": "ipython",
    "version": 3
   },
   "file_extension": ".py",
   "mimetype": "text/x-python",
   "name": "python",
   "nbconvert_exporter": "python",
   "pygments_lexer": "ipython3",
   "version": "3.7.3"
  },
  "pycharm": {
   "stem_cell": {
    "cell_type": "raw",
    "source": [],
    "metadata": {
     "collapsed": false
    }
   }
  }
 },
 "nbformat": 4,
 "nbformat_minor": 2
}
