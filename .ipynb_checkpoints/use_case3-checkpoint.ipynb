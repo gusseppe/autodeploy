{
 "cells": [
  {
   "cell_type": "markdown",
   "metadata": {},
   "source": [
    "# Use case 3: \n"
   ]
  },
  {
   "cell_type": "markdown",
   "metadata": {},
   "source": [
    "\n",
    "## Dataset: Breast cancer\n",
    "## Goal:  Preprocess raw data to make predictions."
   ]
  },
  {
   "cell_type": "markdown",
   "metadata": {},
   "source": [
    "![](examples/demo0/leaf_draft/workflow/usecase3.png)"
   ]
  },
  {
   "cell_type": "markdown",
   "metadata": {
    "pycharm": {
     "name": "#%% md\n"
    }
   },
   "source": [
    "### Input:\n",
    "\n",
    "Two ML steps, dataset, and a list of requirements libraries.\n",
    "\n",
    "- gathering.py, preprocessing.py.\n",
    "\n",
    "- breast-cancer.csv\n",
    "\n",
    "- requirements.txt\n",
    "\n",
    "    #### [gathering] -> [preprocessing]\n",
    "\n",
    "### Output:\n",
    "\n",
    "- 1 docker image. It contains the desired pipeline (two stages).\n",
    "- 1 docker container. Dashboard with the workflow metrics and results.\n",
    "\n",
    "    #### [image] - [container]"
   ]
  },
  {
   "cell_type": "markdown",
   "metadata": {},
   "source": [
    "# scanflow\n"
   ]
  },
  {
   "cell_type": "markdown",
   "metadata": {},
   "source": [
    "## Setup\n",
    "\n",
    "**Input**:\n",
    " \n",
    "- Folder with the python files, data set and requirements.\n",
    "\n",
    "**Output**: \n",
    "\n",
    "- Pipeline.\n",
    "- Dashboard at  http://localhost:8001/#/\n"
   ]
  },
  {
   "cell_type": "code",
   "execution_count": 1,
   "metadata": {
    "pycharm": {
     "is_executing": false,
     "name": "#%%\n"
    }
   },
   "outputs": [
    {
     "name": "stderr",
     "output_type": "stream",
     "text": [
      "28-Oct-19 11:53:26 -  INFO - Building platform, type: single.\n",
      "28-Oct-19 11:53:26 -  INFO - Dockerfile was found.\n",
      "28-Oct-19 11:53:26 -  INFO - MLproject was found.\n",
      "28-Oct-19 11:53:26 -  WARNING - Image: app_single already exists.\n",
      "28-Oct-19 11:53:26 -  INFO - Running platform, type: single.\n",
      "28-Oct-19 11:53:26 -  INFO - Image app_single is running as api_single3 container.\n",
      "28-Oct-19 11:53:27 -  INFO - MLflow server is running at 0.0.0.0:8003\n"
     ]
    },
    {
     "data": {
      "text/plain": [
       "\n",
       "Platform = (\n",
       "    image: app_single,\n",
       "    container: api_single3,\n",
       "    type=single),\n",
       "    server=0.0.0.0:8003),"
      ]
     },
     "execution_count": 1,
     "metadata": {},
     "output_type": "execute_result"
    }
   ],
   "source": [
    "from scanflow.setup import setup\n",
    "\n",
    "\n",
    "app_dir = '/home/guess/Desktop/scanflow/examples/leaf3'\n",
    "workflow = {'gathering': 'gathering.py',\n",
    "            'preprocessing': 'preprocessing.py',\n",
    "            'main': 'main.py'}\n",
    "\n",
    "platform = setup.Setup(app_dir, workflow)\n",
    "\n",
    "platform.build()\n",
    "platform.run(dash_ctn_name='api_single3', port=8003)\n",
    "\n",
    "platform\n"
   ]
  },
  {
   "cell_type": "markdown",
   "metadata": {},
   "source": [
    "# Deploy\n",
    "\n",
    "Run the workflow."
   ]
  },
  {
   "cell_type": "markdown",
   "metadata": {},
   "source": [
    "- Input: Platform.\n",
    "- Output: Results of running the workflow shown at http://localhost:8003/#/. "
   ]
  },
  {
   "cell_type": "code",
   "execution_count": 2,
   "metadata": {},
   "outputs": [
    {
     "name": "stderr",
     "output_type": "stream",
     "text": [
      "28-Oct-19 11:53:29 -  INFO - Running workflow: type=single .\n",
      "28-Oct-19 11:53:29 -  INFO - Using platform container.\n",
      "28-Oct-19 11:53:33 -  INFO -  Main file (main.py) output:  No matching run has been found.\n",
      "2019/10/28 10:53:31 INFO mlflow.projects: === Created directory /tmp/tmpcao0gmzd for downloading remote URIs passed to arguments of type 'path' ===\n",
      "2019/10/28 10:53:31 INFO mlflow.projects: === Running command 'python gathering.py' in run with ID '4d80d5a50cf8416c856a2a7cb5c08cd0' === \n",
      "   species  specimen_number  eccentricity  ...  third_moment  uniformity  entropy\n",
      "0        1                1       0.72694  ...      0.005232    0.000275  1.17560\n",
      "1        1                2       0.74173  ...      0.002708    0.000075  0.69659\n",
      "2        1                3       0.76722  ...      0.000921    0.000038  0.44348\n",
      "3        1                4       0.73797  ...      0.001154    0.000066  0.58785\n",
      "4        1                5       0.82301  ...      0.000560    0.000024  0.34214\n",
      "\n",
      "[5 rows x 16 columns]\n",
      "2019/10/28 10:53:31 INFO mlflow.projects: === Run (ID '4d80d5a50cf8416c856a2a7cb5c08cd0') succeeded ===\n",
      "No matching run has been found.\n",
      "2019/10/28 10:53:32 INFO mlflow.projects: === Created directory /tmp/tmpnk75q1_f for downloading remote URIs passed to arguments of type 'path' ===\n",
      "2019/10/28 10:53:32 INFO mlflow.projects: === Running command 'python preprocessing.py' in run with ID 'e1465b5c42cf446bb5feabbd348d9b00' === \n",
      "/opt/conda/lib/python3.7/site-packages/pandas/core/frame.py:3509: SettingWithCopyWarning: \n",
      "A value is trying to be set on a copy of a slice from a DataFrame.\n",
      "Try using .loc[row_indexer,col_indexer] = value instead\n",
      "\n",
      "See the caveats in the documentation: http://pandas.pydata.org/pandas-docs/stable/user_guide/indexing.html#returning-a-view-versus-a-copy\n",
      "  self[k1] = value[k2]\n",
      "preprocessing.py:25: SettingWithCopyWarning: \n",
      "A value is trying to be set on a copy of a slice from a DataFrame.\n",
      "Try using .loc[row_indexer,col_indexer] = value instead\n",
      "\n",
      "See the caveats in the documentation: http://pandas.pydata.org/pandas-docs/stable/user_guide/indexing.html#returning-a-view-versus-a-copy\n",
      "  df_cleaned['species'] = df_cleaned['species'].astype(int)\n",
      "2019/10/28 10:53:33 INFO mlflow.projects: === Run (ID 'e1465b5c42cf446bb5feabbd348d9b00') succeeded ===\n",
      "Launching new run for entrypoint=gathering and parameters={}\n",
      "Launching new run for entrypoint=preprocessing and parameters={}\n",
      " \n",
      "28-Oct-19 11:53:33 -  INFO -  Workflow finished successfully. \n"
     ]
    },
    {
     "data": {
      "text/plain": [
       "\n",
       "Platform = (\n",
       "    server=0.0.0.0:8001),\n",
       "    API=0.0.0.0:5001),"
      ]
     },
     "execution_count": 2,
     "metadata": {},
     "output_type": "execute_result"
    }
   ],
   "source": [
    "from scanflow.deploy import deploy\n",
    "\n",
    "# Read the platform\n",
    "deployer = deploy.Deploy(platform)\n",
    "\n",
    "# Run the workflow\n",
    "deployer.run_workflow(plat_container_name='app_single3')\n",
    "\n",
    "deployer"
   ]
  },
  {
   "cell_type": "code",
   "execution_count": 5,
   "metadata": {},
   "outputs": [],
   "source": [
    "# !docker ps"
   ]
  }
 ],
 "metadata": {
  "kernelspec": {
   "display_name": "Python 3",
   "language": "python",
   "name": "python3"
  },
  "language_info": {
   "codemirror_mode": {
    "name": "ipython",
    "version": 3
   },
   "file_extension": ".py",
   "mimetype": "text/x-python",
   "name": "python",
   "nbconvert_exporter": "python",
   "pygments_lexer": "ipython3",
   "version": "3.7.5"
  },
  "pycharm": {
   "stem_cell": {
    "cell_type": "raw",
    "metadata": {
     "collapsed": false
    },
    "source": []
   }
  }
 },
 "nbformat": 4,
 "nbformat_minor": 2
}
