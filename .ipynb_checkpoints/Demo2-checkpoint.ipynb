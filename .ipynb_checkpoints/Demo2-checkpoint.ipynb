{
 "cells": [
  {
   "cell_type": "code",
   "execution_count": 1,
   "metadata": {},
   "outputs": [],
   "source": [
    "%load_ext autoreload\n",
    "%autoreload 2"
   ]
  },
  {
   "cell_type": "markdown",
   "metadata": {},
   "source": [
    "# Demo: version 2\n",
    "\n",
    "## Goal: Make a basic functional demo and refine in each iteration.\n",
    "\n",
    "News: https://www.youtube.com/watch?time_continue=555&v=oBklltKXtDE&feature=emb_logo 8:22\n",
    "\n",
    "**TODO:**\n",
    "\n",
    "- Save environments (images) into the registry for specific situations: Run App pipeline, Tracker, \n",
    "    Predictor and Checker into the registry\n",
    "- Run the nodes for each environment.\n",
    "\n"
   ]
  },
  {
   "cell_type": "markdown",
   "metadata": {},
   "source": [
    "![](scanflow2.png)"
   ]
  },
  {
   "cell_type": "markdown",
   "metadata": {},
   "source": [
    "## Create environment"
   ]
  },
  {
   "cell_type": "code",
   "execution_count": 2,
   "metadata": {},
   "outputs": [
    {
     "name": "stderr",
     "output_type": "stream",
     "text": [
      "12-Nov-19 01:36:57 -  INFO - [+] Dockerfile was found.\n",
      "12-Nov-19 01:36:57 -  INFO - [+] MLproject was found.\n",
      "12-Nov-19 01:36:57 -  WARNING - [+] Image [app_single] already exists.\n",
      "12-Nov-19 01:36:57 -  INFO - [+] Image [app_single] was loaded successfully.\n"
     ]
    },
    {
     "data": {
      "text/plain": [
       "\n",
       "Environment = (\n",
       "    image: app_single,\n",
       "    container: None,\n",
       "    type=single),\n",
       "    tracker=0.0.0.0:None),"
      ]
     },
     "execution_count": 2,
     "metadata": {},
     "output_type": "execute_result"
    }
   ],
   "source": [
    "from scanflow.setup import setup\n",
    "\n",
    "# App folder\n",
    "app_dir = '/home/guess/Desktop/scanflow/examples/leaf2'\n",
    "\n",
    "# Workflow\n",
    "workflow = {'gathering': 'gathering.py',\n",
    "            'preprocessing': 'preprocessing.py',\n",
    "            'modeling': 'modeling.py',\n",
    "            'main': 'main.py'}\n",
    "\n",
    "workflower = setup.Setup(app_dir, workflow)\n",
    "\n",
    "workflower.create_env(name='app')\n",
    "\n",
    "workflower"
   ]
  },
  {
   "cell_type": "code",
   "execution_count": 3,
   "metadata": {},
   "outputs": [
    {
     "name": "stderr",
     "output_type": "stream",
     "text": [
      "12-Nov-19 01:37:00 -  INFO - [+] Environment [Workflower] was run successfully\n",
      "12-Nov-19 01:37:00 -  INFO - [+] Tracker server was run successfully\n",
      "12-Nov-19 01:37:00 -  INFO - [+] Tracker server is running at [0.0.0.0:8001]\n"
     ]
    },
    {
     "data": {
      "text/plain": [
       "\n",
       "Environment = (\n",
       "    image: app_single,\n",
       "    container: Workflower,\n",
       "    type=single),\n",
       "    tracker=0.0.0.0:8001),"
      ]
     },
     "execution_count": 3,
     "metadata": {},
     "output_type": "execute_result"
    }
   ],
   "source": [
    "workflower.run_env(name='Workflower', port=8001, tracker=True)\n",
    "workflower"
   ]
  },
  {
   "cell_type": "code",
   "execution_count": 4,
   "metadata": {},
   "outputs": [
    {
     "name": "stdout",
     "output_type": "stream",
     "text": [
      "CONTAINER ID        IMAGE               COMMAND                  CREATED             STATUS              PORTS                    NAMES\n",
      "2c1d01a98106        app_single          \"/usr/bin/tini -- /b…\"   4 seconds ago       Up 3 seconds        0.0.0.0:8001->8001/tcp   Workflower\n"
     ]
    }
   ],
   "source": [
    "!docker ps"
   ]
  },
  {
   "cell_type": "markdown",
   "metadata": {},
   "source": [
    "## Run workflow"
   ]
  },
  {
   "cell_type": "code",
   "execution_count": 17,
   "metadata": {},
   "outputs": [
    {
     "name": "stderr",
     "output_type": "stream",
     "text": [
      "12-Nov-19 08:56:25 -  INFO - [+] Running workflow on [Workflower].\n",
      "12-Nov-19 08:56:25 -  INFO - [+] Using environment container [Workflower].\n",
      "12-Nov-19 08:56:30 -  INFO - [+] Main file (main.py) output:  Run matched, but is not FINISHED, so skipping (run_id=b7d1dd6b3d074f84b804b9e540b2c98f, status=FINISHED)\n",
      "Run matched, but is not FINISHED, so skipping (run_id=a390e5e7f3dd467c83d35573ffda1ba1, status=FINISHED)\n",
      "Run matched, but is not FINISHED, so skipping (run_id=0280785c004443a8b5d9e555dcc485c9, status=FINISHED)\n",
      "No matching run has been found.\n",
      "2019/11/12 07:56:26 INFO mlflow.projects: === Created directory /tmp/tmp8hbwijcv for downloading remote URIs passed to arguments of type 'path' ===\n",
      "2019/11/12 07:56:26 INFO mlflow.projects: === Running command 'python gathering.py' in run with ID '1faa320f97aa475f832b55af4a327189' === \n",
      "   species  specimen_number  eccentricity  ...  third_moment  uniformity  entropy\n",
      "0        1                1       0.72694  ...      0.005232    0.000275  1.17560\n",
      "1        1                2       0.74173  ...      0.002708    0.000075  0.69659\n",
      "2        1                3       0.76722  ...      0.000921    0.000038  0.44348\n",
      "3        1                4       0.73797  ...      0.001154    0.000066  0.58785\n",
      "4        1                5       0.82301  ...      0.000560    0.000024  0.34214\n",
      "\n",
      "[5 rows x 16 columns]\n",
      "2019/11/12 07:56:27 INFO mlflow.projects: === Run (ID '1faa320f97aa475f832b55af4a327189') succeeded ===\n",
      "Run matched, but is not FINISHED, so skipping (run_id=15b75c3381444a8ba45aaa299c72e145, status=FINISHED)\n",
      "Run matched, but is not FINISHED, so skipping (run_id=7219b0ad4a574870897dca9def7970e5, status=FINISHED)\n",
      "Run matched, but is not FINISHED, so skipping (run_id=57d96c7f9cf3468db22fd71171b27925, status=FINISHED)\n",
      "No matching run has been found.\n",
      "2019/11/12 07:56:27 INFO mlflow.projects: === Created directory /tmp/tmp3n9ausou for downloading remote URIs passed to arguments of type 'path' ===\n",
      "2019/11/12 07:56:27 INFO mlflow.projects: === Running command 'python preprocessing.py' in run with ID 'cd06be3faa374b13834cfba65e12d4ad' === \n",
      "/opt/conda/lib/python3.7/site-packages/pandas/core/frame.py:3509: SettingWithCopyWarning: \n",
      "A value is trying to be set on a copy of a slice from a DataFrame.\n",
      "Try using .loc[row_indexer,col_indexer] = value instead\n",
      "\n",
      "See the caveats in the documentation: http://pandas.pydata.org/pandas-docs/stable/user_guide/indexing.html#returning-a-view-versus-a-copy\n",
      "  self[k1] = value[k2]\n",
      "preprocessing.py:25: SettingWithCopyWarning: \n",
      "A value is trying to be set on a copy of a slice from a DataFrame.\n",
      "Try using .loc[row_indexer,col_indexer] = value instead\n",
      "\n",
      "See the caveats in the documentation: http://pandas.pydata.org/pandas-docs/stable/user_guide/indexing.html#returning-a-view-versus-a-copy\n",
      "  df_cleaned['species'] = df_cleaned['species'].astype(int)\n",
      "2019/11/12 07:56:28 INFO mlflow.projects: === Run (ID 'cd06be3faa374b13834cfba65e12d4ad') succeeded ===\n",
      "Run matched, but is not FINISHED, so skipping (run_id=f9069d7e12ce43d09705726f74987609, status=FINISHED)\n",
      "Run matched, but is not FINISHED, so skipping (run_id=b7117d15386f4cd0af3c7d876fbd95c5, status=FINISHED)\n",
      "Run matched, but is not FINISHED, so skipping (run_id=d2ae1e179a314452a373ac5133e775eb, status=FINISHED)\n",
      "No matching run has been found.\n",
      "2019/11/12 07:56:29 INFO mlflow.projects: === Created directory /tmp/tmpiz_f9egj for downloading remote URIs passed to arguments of type 'path' ===\n",
      "2019/11/12 07:56:29 INFO mlflow.projects: === Running command 'python modeling.py' in run with ID '6a8ad1cb20b443a8a20f984b2ec74186' === \n",
      "modeling.py:61: FutureWarning: The signature of `Series.to_csv` was aligned to that of `DataFrame.to_csv`, and argument 'header' will change its default value from False to True: please pass an explicit value to suppress this warning.\n",
      "  y_train.to_csv('y_train.csv', index=False)\n",
      "modeling.py:64: FutureWarning: The signature of `Series.to_csv` was aligned to that of `DataFrame.to_csv`, and argument 'header' will change its default value from False to True: please pass an explicit value to suppress this warning.\n",
      "  y_test.to_csv('y_test.csv', index=False)\n",
      "Accuracy: 0.765\n",
      "2019/11/12 07:56:30 INFO mlflow.projects: === Run (ID '6a8ad1cb20b443a8a20f984b2ec74186') succeeded ===\n",
      "Launching new run for entrypoint=gathering and parameters={}\n",
      "Launching new run for entrypoint=preprocessing and parameters={}\n",
      "Launching new run for entrypoint=modeling and parameters={}\n",
      " \n",
      "12-Nov-19 08:56:30 -  INFO - [+] Workflow finished successfully. \n"
     ]
    }
   ],
   "source": [
    "from scanflow.deploy import deploy\n",
    "\n",
    "# Read the platform\n",
    "deployer = deploy.Deploy(workflower, api_port=5001)\n",
    "\n",
    "# Run the workflow\n",
    "deployer.run_workflow(env_container_name='Workflower')"
   ]
  },
  {
   "cell_type": "markdown",
   "metadata": {},
   "source": [
    "## Run predictor"
   ]
  },
  {
   "cell_type": "code",
   "execution_count": 18,
   "metadata": {},
   "outputs": [
    {
     "name": "stderr",
     "output_type": "stream",
     "text": [
      "12-Nov-19 08:56:58 -  INFO - [+] Deploying predictor as API: type=single .\n",
      "12-Nov-19 08:56:58 -  INFO - [+] Building image: app_single_api. Please wait... \n",
      "12-Nov-19 08:56:58 -  WARNING - [+] Image: app_single_api loaded successfully.\n",
      "12-Nov-19 08:56:58 -  INFO - [+] Running predictor [Predictor_single] \n",
      "12-Nov-19 08:56:58 -  INFO - [+] Predictor [Predictor_single] was created successfully. \n",
      "12-Nov-19 08:56:58 -  INFO - [+] Predictor API at [htpp://localhost:5001]. \n"
     ]
    },
    {
     "data": {
      "text/plain": [
       "\n",
       "Predictor = (\n",
       "    Name: Predictor_single,\n",
       "    API=0.0.0.0:5001),"
      ]
     },
     "execution_count": 18,
     "metadata": {},
     "output_type": "execute_result"
    }
   ],
   "source": [
    "# Build predictor\n",
    "deployer.build_predictor()\n",
    "\n",
    "# Run predictor\n",
    "deployer.run_predictor()\n",
    "\n",
    "deployer"
   ]
  },
  {
   "cell_type": "markdown",
   "metadata": {},
   "source": [
    "## Docker Registry"
   ]
  },
  {
   "cell_type": "code",
   "execution_count": 5,
   "metadata": {},
   "outputs": [
    {
     "name": "stderr",
     "output_type": "stream",
     "text": [
      "12-Nov-19 01:37:23 -  INFO - [+] Registry [scanflow_registry] was built successfully.\n",
      "12-Nov-19 01:37:23 -  INFO - [+] Registry [scanflow_registry] is running at port [5000].\n"
     ]
    },
    {
     "data": {
      "text/plain": [
       "<Container: cde262155b>"
      ]
     },
     "execution_count": 5,
     "metadata": {},
     "output_type": "execute_result"
    }
   ],
   "source": [
    "from scanflow import tools\n",
    "\n",
    "tools.create_registry('scanflow_registry') \n",
    "\n",
    "# TODO: remote_path, visible machine for all teams platform"
   ]
  },
  {
   "cell_type": "code",
   "execution_count": 6,
   "metadata": {},
   "outputs": [
    {
     "name": "stdout",
     "output_type": "stream",
     "text": [
      "CONTAINER ID        IMAGE               COMMAND                  CREATED             STATUS              PORTS                    NAMES\n",
      "cde262155b9e        registry:latest     \"/entrypoint.sh /etc…\"   6 seconds ago       Up 5 seconds        0.0.0.0:5000->5000/tcp   scanflow_registry\n",
      "2c1d01a98106        app_single          \"/usr/bin/tini -- /b…\"   30 seconds ago      Up 29 seconds       0.0.0.0:8001->8001/tcp   Workflower\n"
     ]
    }
   ],
   "source": [
    "!docker ps"
   ]
  },
  {
   "cell_type": "markdown",
   "metadata": {},
   "source": [
    "## Commit workflower env into the registry"
   ]
  },
  {
   "cell_type": "code",
   "execution_count": 7,
   "metadata": {},
   "outputs": [
    {
     "name": "stderr",
     "output_type": "stream",
     "text": [
      "12-Nov-19 01:37:58 -  INFO - Environment [Workflower] was saved to registry [scanflow_registry].\n"
     ]
    }
   ],
   "source": [
    "workflower.save_env(registry_name='scanflow_registry')"
   ]
  },
  {
   "cell_type": "code",
   "execution_count": 8,
   "metadata": {},
   "outputs": [
    {
     "name": "stdout",
     "output_type": "stream",
     "text": [
      "REPOSITORY               TAG                 IMAGE ID            CREATED             SIZE\n",
      "scanflow_registry      Workflower          71a830292a90        10 seconds ago      887MB\n",
      "app_single_api           latest              36c94ea8535c        2 weeks ago         2.93GB\n",
      "app_single               latest              4a17b70853c1        2 weeks ago         887MB\n",
      "ubuntu                   16.04               2a697363a870        6 months ago        119MB\n",
      "continuumio/miniconda3   latest              6b5cf97566c3        6 months ago        457MB\n",
      "registry                 2                   f32a97de94e1        8 months ago        25.8MB\n",
      "registry                 latest              f32a97de94e1        8 months ago        25.8MB\n"
     ]
    }
   ],
   "source": [
    "!docker image ls"
   ]
  },
  {
   "cell_type": "markdown",
   "metadata": {},
   "source": [
    "## Commit Predictor env into the registry"
   ]
  },
  {
   "cell_type": "code",
   "execution_count": 19,
   "metadata": {},
   "outputs": [
    {
     "name": "stderr",
     "output_type": "stream",
     "text": [
      "12-Nov-19 08:57:06 -  INFO - [+] Environment [Predictor_single] was saved to registry [scanflow_registry].\n"
     ]
    }
   ],
   "source": [
    "deployer.save_env(registry_name='scanflow_registry')"
   ]
  },
  {
   "cell_type": "code",
   "execution_count": 20,
   "metadata": {},
   "outputs": [
    {
     "name": "stdout",
     "output_type": "stream",
     "text": [
      "REPOSITORY               TAG                 IMAGE ID            CREATED             SIZE\n",
      "scanflow_registry      Predictor_single    d25015e75353        7 seconds ago       2.93GB\n",
      "scanflow_registry      Workflower          71a830292a90        7 hours ago         887MB\n",
      "app_single_api           latest              36c94ea8535c        2 weeks ago         2.93GB\n",
      "app_single               latest              4a17b70853c1        2 weeks ago         887MB\n",
      "ubuntu                   16.04               2a697363a870        6 months ago        119MB\n",
      "continuumio/miniconda3   latest              6b5cf97566c3        6 months ago        457MB\n",
      "registry                 2                   f32a97de94e1        8 months ago        25.8MB\n",
      "registry                 latest              f32a97de94e1        8 months ago        25.8MB\n"
     ]
    }
   ],
   "source": [
    "!docker image ls"
   ]
  },
  {
   "cell_type": "markdown",
   "metadata": {},
   "source": [
    "## Checker"
   ]
  },
  {
   "cell_type": "code",
   "execution_count": 21,
   "metadata": {},
   "outputs": [
    {
     "name": "stderr",
     "output_type": "stream",
     "text": [
      "12-Nov-19 09:11:30 -  INFO - Predicting from port: 5001\n",
      "12-Nov-19 09:11:30 -  INFO - Time elapsed: 0.0510711669921875\n",
      "12-Nov-19 09:11:30 -  INFO - Input and predictions were saved at: /home/guess/Desktop/scanflow/examples/leaf/predictions.csv\n"
     ]
    },
    {
     "data": {
      "text/html": [
       "<div>\n",
       "<style scoped>\n",
       "    .dataframe tbody tr th:only-of-type {\n",
       "        vertical-align: middle;\n",
       "    }\n",
       "\n",
       "    .dataframe tbody tr th {\n",
       "        vertical-align: top;\n",
       "    }\n",
       "\n",
       "    .dataframe thead th {\n",
       "        text-align: right;\n",
       "    }\n",
       "</style>\n",
       "<table border=\"1\" class=\"dataframe\">\n",
       "  <thead>\n",
       "    <tr style=\"text-align: right;\">\n",
       "      <th></th>\n",
       "      <th>eccentricity</th>\n",
       "      <th>aspect_ratio</th>\n",
       "      <th>elongation</th>\n",
       "      <th>solidity</th>\n",
       "      <th>stochastic_convexity</th>\n",
       "      <th>isoperimetric_factor</th>\n",
       "      <th>maximal_indentation_depth</th>\n",
       "      <th>lobedness</th>\n",
       "      <th>average_intensity</th>\n",
       "      <th>average_contrast</th>\n",
       "      <th>smoothness</th>\n",
       "      <th>third_moment</th>\n",
       "      <th>uniformity</th>\n",
       "      <th>entropy</th>\n",
       "      <th>pred</th>\n",
       "    </tr>\n",
       "  </thead>\n",
       "  <tbody>\n",
       "    <tr>\n",
       "      <th>0</th>\n",
       "      <td>0.768372</td>\n",
       "      <td>2.154126</td>\n",
       "      <td>0.646114</td>\n",
       "      <td>0.901346</td>\n",
       "      <td>1.090279</td>\n",
       "      <td>0.621691</td>\n",
       "      <td>-0.004974</td>\n",
       "      <td>0.485422</td>\n",
       "      <td>0.027252</td>\n",
       "      <td>-0.016617</td>\n",
       "      <td>0.154791</td>\n",
       "      <td>0.152300</td>\n",
       "      <td>-0.040381</td>\n",
       "      <td>1.410272</td>\n",
       "      <td>12</td>\n",
       "    </tr>\n",
       "    <tr>\n",
       "      <th>1</th>\n",
       "      <td>0.213744</td>\n",
       "      <td>1.235843</td>\n",
       "      <td>0.642785</td>\n",
       "      <td>0.594834</td>\n",
       "      <td>0.758136</td>\n",
       "      <td>0.174803</td>\n",
       "      <td>0.107813</td>\n",
       "      <td>3.425260</td>\n",
       "      <td>-0.083533</td>\n",
       "      <td>0.090436</td>\n",
       "      <td>-0.005471</td>\n",
       "      <td>0.082351</td>\n",
       "      <td>0.020919</td>\n",
       "      <td>0.990220</td>\n",
       "      <td>11</td>\n",
       "    </tr>\n",
       "    <tr>\n",
       "      <th>2</th>\n",
       "      <td>0.552145</td>\n",
       "      <td>1.723634</td>\n",
       "      <td>0.459179</td>\n",
       "      <td>0.999525</td>\n",
       "      <td>1.160921</td>\n",
       "      <td>0.844513</td>\n",
       "      <td>0.172403</td>\n",
       "      <td>0.203766</td>\n",
       "      <td>0.114420</td>\n",
       "      <td>0.076316</td>\n",
       "      <td>0.092597</td>\n",
       "      <td>-0.017640</td>\n",
       "      <td>0.075993</td>\n",
       "      <td>0.503139</td>\n",
       "      <td>1</td>\n",
       "    </tr>\n",
       "    <tr>\n",
       "      <th>3</th>\n",
       "      <td>0.739563</td>\n",
       "      <td>1.380835</td>\n",
       "      <td>0.418852</td>\n",
       "      <td>0.843190</td>\n",
       "      <td>0.977298</td>\n",
       "      <td>0.891858</td>\n",
       "      <td>0.064144</td>\n",
       "      <td>0.126412</td>\n",
       "      <td>-0.132324</td>\n",
       "      <td>-0.061791</td>\n",
       "      <td>-0.037005</td>\n",
       "      <td>0.139500</td>\n",
       "      <td>-0.212006</td>\n",
       "      <td>1.299877</td>\n",
       "      <td>27</td>\n",
       "    </tr>\n",
       "    <tr>\n",
       "      <th>4</th>\n",
       "      <td>0.742227</td>\n",
       "      <td>2.823383</td>\n",
       "      <td>0.749657</td>\n",
       "      <td>0.926911</td>\n",
       "      <td>0.909010</td>\n",
       "      <td>0.439230</td>\n",
       "      <td>0.094271</td>\n",
       "      <td>-0.167999</td>\n",
       "      <td>0.026757</td>\n",
       "      <td>0.114372</td>\n",
       "      <td>-0.017182</td>\n",
       "      <td>0.042180</td>\n",
       "      <td>-0.129550</td>\n",
       "      <td>1.874676</td>\n",
       "      <td>15</td>\n",
       "    </tr>\n",
       "  </tbody>\n",
       "</table>\n",
       "</div>"
      ],
      "text/plain": [
       "   eccentricity  aspect_ratio  elongation  solidity  stochastic_convexity  \\\n",
       "0      0.768372      2.154126    0.646114  0.901346              1.090279   \n",
       "1      0.213744      1.235843    0.642785  0.594834              0.758136   \n",
       "2      0.552145      1.723634    0.459179  0.999525              1.160921   \n",
       "3      0.739563      1.380835    0.418852  0.843190              0.977298   \n",
       "4      0.742227      2.823383    0.749657  0.926911              0.909010   \n",
       "\n",
       "   isoperimetric_factor  maximal_indentation_depth  lobedness  \\\n",
       "0              0.621691                  -0.004974   0.485422   \n",
       "1              0.174803                   0.107813   3.425260   \n",
       "2              0.844513                   0.172403   0.203766   \n",
       "3              0.891858                   0.064144   0.126412   \n",
       "4              0.439230                   0.094271  -0.167999   \n",
       "\n",
       "   average_intensity  average_contrast  smoothness  third_moment  uniformity  \\\n",
       "0           0.027252         -0.016617    0.154791      0.152300   -0.040381   \n",
       "1          -0.083533          0.090436   -0.005471      0.082351    0.020919   \n",
       "2           0.114420          0.076316    0.092597     -0.017640    0.075993   \n",
       "3          -0.132324         -0.061791   -0.037005      0.139500   -0.212006   \n",
       "4           0.026757          0.114372   -0.017182      0.042180   -0.129550   \n",
       "\n",
       "    entropy  pred  \n",
       "0  1.410272    12  \n",
       "1  0.990220    11  \n",
       "2  0.503139     1  \n",
       "3  1.299877    27  \n",
       "4  1.874676    15  "
      ]
     },
     "execution_count": 21,
     "metadata": {},
     "output_type": "execute_result"
    }
   ],
   "source": [
    "import pandas as pd\n",
    "import os\n",
    "\n",
    "from scanflow.check import check\n",
    "from scanflow.check import tools\n",
    "\n",
    "checker = check.Checker(port=5001)\n",
    "\n",
    "path = '/home/guess/Desktop/scanflow/examples/leaf'\n",
    "df_input = pd.read_csv(os.path.join(path, 'workflow', 'X_train.csv'))\n",
    "df_noise = tools.add_noise(df_input, sigma=0.11)\n",
    "\n",
    "\n",
    "predictions = checker.predict(df_noise, to_save=True, path_pred=path)\n",
    "# tracker.save_prediction(path)\n",
    "\n",
    "predictions.head()\n",
    "# print(f'Predictions: \\n {predictions}')\n"
   ]
  },
  {
   "cell_type": "code",
   "execution_count": 22,
   "metadata": {},
   "outputs": [
    {
     "name": "stdout",
     "output_type": "stream",
     "text": [
      "########## Comparing two numerical dataframes ##########\n",
      "\n",
      "######## Kolmogorov-Smirnov test ########\n"
     ]
    },
    {
     "name": "stderr",
     "output_type": "stream",
     "text": [
      "/home/guess/anaconda3/lib/python3.7/site-packages/scipy/stats/stats.py:1713: FutureWarning: Using a non-tuple sequence for multidimensional indexing is deprecated; use `arr[tuple(seq)]` instead of `arr[seq]`. In the future this will be interpreted as an array index, `arr[np.array(seq)]`, which will result either in an error or a different result.\n",
      "  return np.add.reduce(sorted[indexer] * weights, axis=axis) / sumval\n"
     ]
    },
    {
     "data": {
      "image/png": "[encoded data removed]",
      "text/plain": [
       "<Figure size 504x504 with 2 Axes>"
      ]
     },
     "metadata": {
      "needs_background": "light"
     },
     "output_type": "display_data"
    },
    {
     "name": "stdout",
     "output_type": "stream",
     "text": [
      "               eccentricity aspect_ratio\n",
      "p_value            0.105011     0.576486\n",
      "explain  Slightly different   Comparable\n"
     ]
    }
   ],
   "source": [
    "X_old = pd.read_csv(os.path.join(app_dir, 'workflow', 'X_train.csv'))\n",
    "X_new = predictions.loc[:, predictions.columns != 'pred']\n",
    "\n",
    "tools.overall_test(X_old.sample(len(X_new)), X_new, \n",
    "                   verbose=True, n_cols=2)\n",
    "\n"
   ]
  },
  {
   "cell_type": "code",
   "execution_count": 9,
   "metadata": {},
   "outputs": [
    {
     "name": "stdout",
     "output_type": "stream",
     "text": [
      "IMAGE               CREATED             CREATED BY                                      SIZE                COMMENT\n",
      "71a830292a90        15 seconds ago      /bin/bash                                       0B                  First commit\n",
      "4a17b70853c1        2 weeks ago         /bin/sh -c pip install -r requirements.txt      429MB               \n",
      "df08e700b449        2 weeks ago         /bin/sh -c #(nop) WORKDIR /root/project         0B                  \n",
      "edeae4e601e4        2 weeks ago         /bin/sh -c #(nop) ADD file:60f640951aa9fd36b…   47B                 \n",
      "90177221a03e        2 weeks ago         /bin/sh -c mkdir -p /root/project               0B                  \n",
      "217fefab8ec9        5 months ago        /bin/sh -c #(nop)  USER root                    0B                  \n",
      "6b5cf97566c3        6 months ago        /bin/sh -c #(nop)  CMD [\"/bin/bash\"]            0B                  \n",
      "<missing>           6 months ago        /bin/sh -c #(nop)  ENTRYPOINT [\"/usr/bin/tin…   0B                  \n",
      "<missing>           6 months ago        /bin/sh -c chmod +x /usr/bin/tini               20kB                \n",
      "<missing>           6 months ago        /bin/sh -c #(nop) ADD fcc011174ff1c034ee60c6…   20kB                \n",
      "<missing>           6 months ago        /bin/sh -c #(nop)  ENV TINI_VERSION=v0.16.1     0B                  \n",
      "<missing>           6 months ago        /bin/sh -c wget --quiet https://repo.anacond…   252MB               \n",
      "<missing>           6 months ago        /bin/sh -c apt-get update --fix-missing &&  …   105MB               \n",
      "<missing>           7 months ago        /bin/sh -c #(nop)  ENV PATH=/opt/conda/bin:/…   0B                  \n",
      "<missing>           7 months ago        /bin/sh -c #(nop)  ENV LANG=C.UTF-8 LC_ALL=C…   0B                  \n",
      "<missing>           7 months ago        /bin/sh -c #(nop)  CMD [\"bash\"]                 0B                  \n",
      "<missing>           7 months ago        /bin/sh -c #(nop) ADD file:843b8a2a9df1a0730…   101MB               \n"
     ]
    }
   ],
   "source": [
    "!docker history 71a830292a90"
   ]
  },
  {
   "cell_type": "markdown",
   "metadata": {},
   "source": [
    "![](https://github.com/CenturyLinkLabs/docker-image-graph/raw/master/sample-cmd.png)"
   ]
  },
  {
   "cell_type": "code",
   "execution_count": null,
   "metadata": {},
   "outputs": [],
   "source": [
    "\n"
   ]
  }
 ],
 "metadata": {
  "kernelspec": {
   "display_name": "Python 3",
   "language": "python",
   "name": "python3"
  },
  "language_info": {
   "codemirror_mode": {
    "name": "ipython",
    "version": 3
   },
   "file_extension": ".py",
   "mimetype": "text/x-python",
   "name": "python",
   "nbconvert_exporter": "python",
   "pygments_lexer": "ipython3",
   "version": "3.7.3"
  }
 },
 "nbformat": 4,
 "nbformat_minor": 2
}
