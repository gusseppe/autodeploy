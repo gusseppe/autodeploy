{
 "cells": [
  {
   "cell_type": "code",
   "execution_count": 2,
   "metadata": {},
   "outputs": [
    {
     "name": "stderr",
     "output_type": "stream",
     "text": [
      "/home/guess/anaconda3/lib/python3.7/site-packages/h5py/_hl/base.py:19: DeprecationWarning: Using or importing the ABCs from 'collections' instead of from 'collections.abc' is deprecated, and in 3.8 it will stop working\n",
      "  from collections import (Mapping, MutableMapping, KeysView,\n",
      "Using TensorFlow backend.\n",
      "/home/guess/anaconda3/lib/python3.7/site-packages/tensorflow/python/util/nest.py:824: DeprecationWarning: Using or importing the ABCs from 'collections' instead of from 'collections.abc' is deprecated, and in 3.8 it will stop working\n",
      "  _pywrap_tensorflow.RegisterType(\"Sequence\", _collections.Sequence)\n",
      "/home/guess/anaconda3/lib/python3.7/site-packages/tensorflow/python/training/checkpointable/util.py:448: DeprecationWarning: Using or importing the ABCs from 'collections' instead of from 'collections.abc' is deprecated, and in 3.8 it will stop working\n",
      "  class _ObjectIdentitySet(collections.MutableSet):\n"
     ]
    }
   ],
   "source": [
    "import os\n",
    "import zipfile\n",
    "import mlflow\n",
    "import click\n",
    "import sklearn\n",
    "import logging\n",
    "import tempfile\n",
    "import keras\n",
    "import numpy as np\n",
    "import pandas as pd\n",
    "\n",
    "from mlflow.keras import log_model, save_model\n",
    "from sklearn.model_selection import train_test_split\n",
    "from keras.models import Sequential\n",
    "from keras.layers import Dense\n",
    "from keras.callbacks import ModelCheckpoint, EarlyStopping\n",
    "from keras.regularizers import l2"
   ]
  },
  {
   "cell_type": "code",
   "execution_count": 8,
   "metadata": {},
   "outputs": [
    {
     "data": {
      "text/plain": [
       "id                     int64\n",
       "clump_thickness        int64\n",
       "size_uniformity        int64\n",
       "shape_uniformity       int64\n",
       "marginal_adhesion      int64\n",
       "epithelial_size        int64\n",
       "bare_nucleoli        float64\n",
       "bland_chromatin        int64\n",
       "normal_nucleoli        int64\n",
       "mitoses                int64\n",
       "class                  int64\n",
       "dtype: object"
      ]
     },
     "execution_count": 8,
     "metadata": {},
     "output_type": "execute_result"
    }
   ],
   "source": [
    "df.dtypes"
   ]
  },
  {
   "cell_type": "code",
   "execution_count": 3,
   "metadata": {},
   "outputs": [
    {
     "name": "stderr",
     "output_type": "stream",
     "text": [
      "Run matched, but is not FINISHED, so skipping (run_id=19e100eaaa3d43acb087354069404936, status=FINISHED)\n",
      "Run matched, but is not FINISHED, so skipping (run_id=6d5d47e6e19c47f99dd6f7f8e1c7f0ce, status=FINISHED)\n",
      "No matching run has been found.\n",
      "2019/10/23 21:16:43 INFO mlflow.projects: === Created directory /tmp/tmpyh9kysaw for downloading remote URIs passed to arguments of type 'path' ===\n",
      "2019/10/23 21:16:43 INFO mlflow.projects: === Running command 'python gathering.py' in run with ID 'cf830250b5fe4cf5980b7d7b995e0136' === \n"
     ]
    },
    {
     "name": "stdout",
     "output_type": "stream",
     "text": [
      "Launching new run for entrypoint=gathering and parameters={}\n"
     ]
    },
    {
     "name": "stderr",
     "output_type": "stream",
     "text": [
      "2019/10/23 21:16:44 INFO mlflow.projects: === Run (ID 'cf830250b5fe4cf5980b7d7b995e0136') succeeded ===\n",
      "Run matched, but is not FINISHED, so skipping (run_id=5111b0281f8943188a1cf44259fdec24, status=FINISHED)\n",
      "Run matched, but is not FINISHED, so skipping (run_id=1fdab5dce0fc4ab2af250ee58e2ca8b1, status=FINISHED)\n",
      "No matching run has been found.\n",
      "2019/10/23 21:16:44 INFO mlflow.projects: === Created directory /tmp/tmp4mjpbee_ for downloading remote URIs passed to arguments of type 'path' ===\n",
      "2019/10/23 21:16:44 INFO mlflow.projects: === Running command 'python preprocessing.py' in run with ID 'ff5f4ce9902d479a95e43129f1b7a533' === \n"
     ]
    },
    {
     "name": "stdout",
     "output_type": "stream",
     "text": [
      "Launching new run for entrypoint=preprocessing and parameters={}\n"
     ]
    },
    {
     "name": "stderr",
     "output_type": "stream",
     "text": [
      "2019/10/23 21:16:45 INFO mlflow.projects: === Run (ID 'ff5f4ce9902d479a95e43129f1b7a533') succeeded ===\n",
      "Run matched, but is not FINISHED, so skipping (run_id=fdbb8a99885f4f2ba3ab1f8e6ebd05d5, status=FAILED)\n",
      "Run matched, but is not FINISHED, so skipping (run_id=51bcddd56f544a5d93d993ef443e3b9a, status=FINISHED)\n",
      "No matching run has been found.\n",
      "2019/10/23 21:16:46 INFO mlflow.projects: === Created directory /tmp/tmp94hitiii for downloading remote URIs passed to arguments of type 'path' ===\n",
      "2019/10/23 21:16:46 INFO mlflow.projects: === Running command 'python modeling.py' in run with ID '5ae43703d30c41e99b2c4fe9bb5990a0' === \n"
     ]
    },
    {
     "name": "stdout",
     "output_type": "stream",
     "text": [
      "Launching new run for entrypoint=modeling and parameters={}\n"
     ]
    },
    {
     "name": "stderr",
     "output_type": "stream",
     "text": [
      "2019/10/23 21:16:47 INFO mlflow.projects: === Run (ID '5ae43703d30c41e99b2c4fe9bb5990a0') succeeded ===\n"
     ]
    }
   ],
   "source": [
    "\n",
    "import click\n",
    "import os\n",
    "import tempfile\n",
    "import six\n",
    "import mlflow\n",
    "\n",
    "from mlflow.utils import mlflow_tags\n",
    "from mlflow.entities import RunStatus\n",
    "from mlflow.utils.logging_utils import eprint\n",
    "from mlflow.tracking.fluent import _get_experiment_id\n",
    "\n",
    "\n",
    "def _already_ran(entry_point_name, parameters, git_commit, experiment_id=None):\n",
    "    \"\"\"Best-effort detection of if a run with the given entrypoint name,\n",
    "    parameters, and experiment id already ran. The run must have completed\n",
    "    successfully and have at least the parameters provided.\n",
    "    \"\"\"\n",
    "    experiment_id = experiment_id if experiment_id is not None else _get_experiment_id()\n",
    "    client = mlflow.tracking.MlflowClient()\n",
    "    all_run_infos = reversed(client.list_run_infos(experiment_id))\n",
    "    for run_info in all_run_infos:\n",
    "        full_run = client.get_run(run_info.run_id)\n",
    "        tags = full_run.data.tags\n",
    "        if tags.get(mlflow_tags.MLFLOW_PROJECT_ENTRY_POINT, None) != entry_point_name:\n",
    "            continue\n",
    "        match_failed = False\n",
    "        for param_key, param_value in six.iteritems(parameters):\n",
    "            run_value = full_run.data.params.get(param_key)\n",
    "            if run_value != param_value:\n",
    "                match_failed = True\n",
    "                break\n",
    "        if match_failed:\n",
    "            continue\n",
    "\n",
    "        if run_info.status != RunStatus.FINISHED:\n",
    "            eprint((\"Run matched, but is not FINISHED, so skipping \"\n",
    "                    \"(run_id=%s, status=%s)\") % (run_info.run_id, run_info.status))\n",
    "            continue\n",
    "\n",
    "        previous_version = tags.get(mlflow_tags.MLFLOW_GIT_COMMIT, None)\n",
    "        if git_commit != previous_version:\n",
    "            eprint((\"Run matched, but has a different source version, so skipping \"\n",
    "                    \"(found=%s, expected=%s)\") % previous_version, git_commit)\n",
    "            continue\n",
    "        return client.get_run(run_info.run_id)\n",
    "    eprint(\"No matching run has been found.\")\n",
    "    return None\n",
    "\n",
    "\n",
    "# TODO(aaron): This is not great because it doesn't account for:\n",
    "# - changes in code\n",
    "# - changes in dependant steps\n",
    "def _get_or_run(entrypoint, parameters, git_commit, use_cache=True):\n",
    "    existing_run = _already_ran(entrypoint, parameters, git_commit)\n",
    "    if use_cache and existing_run:\n",
    "        print(\"Found existing run for entrypoint=%s and parameters=%s\" % (entrypoint, parameters))\n",
    "        return existing_run\n",
    "    print(\"Launching new run for entrypoint=%s and parameters=%s\" % (entrypoint, parameters))\n",
    "    submitted_run = mlflow.run(\".\", entrypoint, parameters=parameters, use_conda=False)\n",
    "    return mlflow.tracking.MlflowClient().get_run(submitted_run.run_id)\n",
    "\n",
    "\n",
    "\n",
    "with mlflow.start_run(run_name='single_workflow') as active_run:\n",
    "#         os.environ['SPARK_CONF_DIR'] = os.path.abspath('.')\n",
    "#         source_version = active_run.info.source_version\n",
    "    git_commit = active_run.data.tags.get(mlflow_tags.MLFLOW_GIT_COMMIT)\n",
    "    gathering = _get_or_run(\"gathering\", {}, git_commit)\n",
    "#         ratings_csv_uri = os.path.join(load_raw_data_run.info.artifact_uri, \"ratings-csv-dir\")\n",
    "#     prep_model_path = os.path.join(gathering.info.artifact_uri, \"gathered_data.csv\")\n",
    "    preprocessing = _get_or_run(\"preprocessing\", {}, git_commit)\n",
    "\n",
    "#     source_model_path = os.path.join(preprocessing.info.artifact_uri, \"preprocessed_data.csv\")\n",
    "    modeling = _get_or_run(\"modeling\", {}, git_commit)\n",
    "#     modeling = _get_or_run(\"modeling\", {'preprocessed_data':source_model_path}, git_commit)\n",
    "\n",
    "\n",
    "\n",
    "\n"
   ]
  },
  {
   "cell_type": "code",
   "execution_count": 6,
   "metadata": {},
   "outputs": [
    {
     "data": {
      "text/html": [
       "<div>\n",
       "<style scoped>\n",
       "    .dataframe tbody tr th:only-of-type {\n",
       "        vertical-align: middle;\n",
       "    }\n",
       "\n",
       "    .dataframe tbody tr th {\n",
       "        vertical-align: top;\n",
       "    }\n",
       "\n",
       "    .dataframe thead th {\n",
       "        text-align: right;\n",
       "    }\n",
       "</style>\n",
       "<table border=\"1\" class=\"dataframe\">\n",
       "  <thead>\n",
       "    <tr style=\"text-align: right;\">\n",
       "      <th></th>\n",
       "      <th>A</th>\n",
       "      <th>B</th>\n",
       "      <th>C</th>\n",
       "      <th>D</th>\n",
       "    </tr>\n",
       "  </thead>\n",
       "  <tbody>\n",
       "    <tr>\n",
       "      <th>0</th>\n",
       "      <td>36</td>\n",
       "      <td>82</td>\n",
       "      <td>89</td>\n",
       "      <td>25</td>\n",
       "    </tr>\n",
       "    <tr>\n",
       "      <th>1</th>\n",
       "      <td>75</td>\n",
       "      <td>18</td>\n",
       "      <td>61</td>\n",
       "      <td>9</td>\n",
       "    </tr>\n",
       "    <tr>\n",
       "      <th>2</th>\n",
       "      <td>74</td>\n",
       "      <td>23</td>\n",
       "      <td>26</td>\n",
       "      <td>81</td>\n",
       "    </tr>\n",
       "    <tr>\n",
       "      <th>3</th>\n",
       "      <td>37</td>\n",
       "      <td>51</td>\n",
       "      <td>10</td>\n",
       "      <td>99</td>\n",
       "    </tr>\n",
       "    <tr>\n",
       "      <th>4</th>\n",
       "      <td>53</td>\n",
       "      <td>40</td>\n",
       "      <td>73</td>\n",
       "      <td>75</td>\n",
       "    </tr>\n",
       "  </tbody>\n",
       "</table>\n",
       "</div>"
      ],
      "text/plain": [
       "    A   B   C   D\n",
       "0  36  82  89  25\n",
       "1  75  18  61   9\n",
       "2  74  23  26  81\n",
       "3  37  51  10  99\n",
       "4  53  40  73  75"
      ]
     },
     "execution_count": 6,
     "metadata": {},
     "output_type": "execute_result"
    }
   ],
   "source": [
    "import pandas as pd\n",
    "import numpy as np\n",
    "\n",
    "df = pd.DataFrame(np.random.randint(0,100,size=(100, 4)), columns=list('ABCD'))\n",
    "df.head()"
   ]
  },
  {
   "cell_type": "code",
   "execution_count": 9,
   "metadata": {},
   "outputs": [
    {
     "data": {
      "text/plain": [
       "{'columns': ['A', 'B', 'C', 'D'],\n",
       " 'data': [[36, 82, 89, 25],\n",
       "  [75, 18, 61, 9],\n",
       "  [74, 23, 26, 81],\n",
       "  [37, 51, 10, 99],\n",
       "  [53, 40, 73, 75],\n",
       "  [1, 90, 35, 59],\n",
       "  [22, 3, 42, 79],\n",
       "  [81, 14, 14, 49],\n",
       "  [70, 56, 59, 91],\n",
       "  [20, 54, 25, 35],\n",
       "  [69, 77, 88, 91],\n",
       "  [43, 21, 57, 50],\n",
       "  [24, 83, 50, 6],\n",
       "  [19, 81, 11, 9],\n",
       "  [59, 45, 69, 43],\n",
       "  [55, 83, 91, 20],\n",
       "  [23, 40, 70, 76],\n",
       "  [23, 66, 62, 28],\n",
       "  [88, 52, 97, 90],\n",
       "  [75, 76, 64, 44],\n",
       "  [46, 77, 60, 87],\n",
       "  [72, 68, 55, 28],\n",
       "  [70, 81, 81, 65],\n",
       "  [86, 59, 42, 96],\n",
       "  [69, 20, 79, 6],\n",
       "  [90, 32, 66, 89],\n",
       "  [4, 53, 94, 44],\n",
       "  [1, 76, 14, 39],\n",
       "  [93, 6, 11, 35],\n",
       "  [90, 69, 31, 27],\n",
       "  [20, 76, 43, 94],\n",
       "  [92, 80, 67, 6],\n",
       "  [77, 46, 83, 14],\n",
       "  [33, 41, 66, 23],\n",
       "  [4, 41, 46, 72],\n",
       "  [15, 39, 81, 63],\n",
       "  [90, 20, 62, 54],\n",
       "  [55, 56, 19, 48],\n",
       "  [95, 46, 1, 39],\n",
       "  [9, 13, 87, 49],\n",
       "  [85, 17, 85, 28],\n",
       "  [61, 40, 22, 91],\n",
       "  [39, 12, 14, 56],\n",
       "  [29, 23, 42, 84],\n",
       "  [2, 68, 34, 8],\n",
       "  [85, 78, 75, 26],\n",
       "  [53, 64, 23, 64],\n",
       "  [57, 54, 45, 36],\n",
       "  [79, 22, 9, 36],\n",
       "  [0, 70, 16, 76],\n",
       "  [68, 2, 43, 3],\n",
       "  [44, 41, 47, 97],\n",
       "  [60, 53, 71, 3],\n",
       "  [33, 99, 45, 43],\n",
       "  [50, 59, 92, 2],\n",
       "  [65, 14, 4, 10],\n",
       "  [83, 84, 10, 2],\n",
       "  [59, 37, 57, 16],\n",
       "  [46, 1, 90, 54],\n",
       "  [73, 99, 85, 14],\n",
       "  [80, 98, 38, 49],\n",
       "  [17, 3, 57, 60],\n",
       "  [3, 50, 20, 88],\n",
       "  [59, 17, 27, 34],\n",
       "  [1, 16, 12, 67],\n",
       "  [3, 38, 44, 3],\n",
       "  [95, 42, 30, 98],\n",
       "  [38, 56, 33, 60],\n",
       "  [86, 26, 57, 31],\n",
       "  [90, 92, 70, 0],\n",
       "  [19, 66, 80, 17],\n",
       "  [3, 93, 92, 98],\n",
       "  [81, 9, 41, 80],\n",
       "  [53, 86, 17, 65],\n",
       "  [21, 16, 97, 58],\n",
       "  [48, 13, 7, 57],\n",
       "  [3, 15, 48, 37],\n",
       "  [5, 78, 97, 24],\n",
       "  [61, 57, 25, 88],\n",
       "  [41, 8, 33, 92],\n",
       "  [11, 52, 0, 89],\n",
       "  [76, 76, 56, 50],\n",
       "  [29, 53, 48, 87],\n",
       "  [50, 13, 44, 15],\n",
       "  [82, 44, 91, 85],\n",
       "  [51, 36, 28, 42],\n",
       "  [24, 11, 92, 44],\n",
       "  [40, 70, 57, 42],\n",
       "  [45, 33, 42, 49],\n",
       "  [94, 86, 75, 60],\n",
       "  [97, 76, 64, 27],\n",
       "  [86, 87, 14, 61],\n",
       "  [3, 42, 49, 21],\n",
       "  [71, 51, 43, 75],\n",
       "  [19, 72, 55, 2],\n",
       "  [77, 86, 86, 74],\n",
       "  [3, 80, 45, 90],\n",
       "  [39, 45, 87, 89],\n",
       "  [85, 5, 38, 38],\n",
       "  [64, 54, 75, 23]]}"
      ]
     },
     "execution_count": 9,
     "metadata": {},
     "output_type": "execute_result"
    }
   ],
   "source": [
    "input_data = {\n",
    "    'columns': list(df.columns),\n",
    "    'data': df.values.tolist()\n",
    "}\n",
    "input_data"
   ]
  }
 ],
 "metadata": {
  "kernelspec": {
   "display_name": "Python 3",
   "language": "python",
   "name": "python3"
  },
  "language_info": {
   "codemirror_mode": {
    "name": "ipython",
    "version": 3
   },
   "file_extension": ".py",
   "mimetype": "text/x-python",
   "name": "python",
   "nbconvert_exporter": "python",
   "pygments_lexer": "ipython3",
   "version": "3.7.3"
  }
 },
 "nbformat": 4,
 "nbformat_minor": 2
}
