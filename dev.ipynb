{
 "cells": [
  {
   "cell_type": "markdown",
   "metadata": {
    "collapsed": true,
    "pycharm": {
     "name": "#%% md\n"
    }
   },
   "source": [
    "# Development new ideas\n",
    "\n"
   ]
  },
  {
   "cell_type": "code",
   "execution_count": 7,
   "outputs": [
    {
     "name": "stdout",
     "text": [
      "CPU times: user 1.63 s, sys: 195 ms, total: 1.82 s\nWall time: 1.99 s\n"
     ],
     "output_type": "stream"
    }
   ],
   "source": [
    "%%time\n",
    "\n",
    "import numpy as np\n",
    "import pandas as pd\n",
    "import pandas_profiling\n",
    "\n",
    "df = pd.DataFrame(\n",
    "    np.random.rand(100, 5),\n",
    "    columns=['a', 'b', 'c', 'd', 'e']\n",
    ")\n",
    "\n",
    "#profile = df.profile_report()\n",
    "\n",
    "desc_df = pandas_profiling.describe_df(df)\n"
   ],
   "metadata": {
    "collapsed": false,
    "pycharm": {
     "name": "#%%\n",
     "is_executing": false
    }
   }
  },
  {
   "cell_type": "code",
   "execution_count": 17,
   "outputs": [
    {
     "data": {
      "text/plain": "{'pearson':           a         b         c         d         e\n a  1.000000  0.033873 -0.082280  0.127182  0.202788\n b  0.033873  1.000000 -0.095932  0.057545  0.060741\n c -0.082280 -0.095932  1.000000 -0.073324  0.063582\n d  0.127182  0.057545 -0.073324  1.000000 -0.038444\n e  0.202788  0.060741  0.063582 -0.038444  1.000000,\n 'spearman':           a         b         c         d         e\n a  1.000000  0.040240 -0.092829  0.114923  0.199160\n b  0.040240  1.000000 -0.091941  0.030327  0.037228\n c -0.092829 -0.091941  1.000000 -0.067087  0.069835\n d  0.114923  0.030327 -0.067087  1.000000 -0.031035\n e  0.199160  0.037228  0.069835 -0.031035  1.000000,\n 'kendall':           a         b         c         d         e\n a  1.000000  0.024242 -0.059798  0.079192  0.135354\n b  0.024242  1.000000 -0.053737  0.026263  0.029091\n c -0.059798 -0.053737  1.000000 -0.040000  0.039596\n d  0.079192  0.026263 -0.040000  1.000000 -0.029899\n e  0.135354  0.029091  0.039596 -0.029899  1.000000,\n 'phi_k': var2         a         b         c         d         e\n var1                                                  \n a     1.000000  0.326229  0.000000  0.000000  0.000000\n b     0.326229  1.000000  0.000000  0.191660  0.000000\n c     0.000000  0.000000  1.000000  0.229962  0.333642\n d     0.000000  0.191660  0.229962  1.000000  0.000000\n e     0.000000  0.000000  0.333642  0.000000  1.000000}"
     },
     "metadata": {},
     "output_type": "execute_result",
     "execution_count": 17
    }
   ],
   "source": [
    "# desc_df['table']\n",
    "desc_df['variables'].keys()\n",
    "desc_df['correlations']\n",
    "# list(desc_df.keys())"
   ],
   "metadata": {
    "collapsed": false,
    "pycharm": {
     "name": "#%%\n",
     "is_executing": false
    }
   }
  }
 ],
 "metadata": {
  "kernelspec": {
   "display_name": "Python 3",
   "language": "python",
   "name": "python3"
  },
  "language_info": {
   "codemirror_mode": {
    "name": "ipython",
    "version": 2
   },
   "file_extension": ".py",
   "mimetype": "text/x-python",
   "name": "python",
   "nbconvert_exporter": "python",
   "pygments_lexer": "ipython2",
   "version": "2.7.6"
  },
  "pycharm": {
   "stem_cell": {
    "cell_type": "raw",
    "source": [],
    "metadata": {
     "collapsed": false
    }
   }
  }
 },
 "nbformat": 4,
 "nbformat_minor": 0
}
