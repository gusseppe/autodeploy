{
 "cells": [
  {
   "cell_type": "code",
   "execution_count": 1,
   "metadata": {},
   "outputs": [
    {
     "data": {
      "text/plain": [
       "<mlflow.tracking.client.MlflowClient at 0x7ff8a8b78780>"
      ]
     },
     "execution_count": 1,
     "metadata": {},
     "output_type": "execute_result"
    }
   ],
   "source": [
    "import mlflow\n",
    "client = mlflow.tracking.MlflowClient()\n",
    "client"
   ]
  },
  {
   "cell_type": "code",
   "execution_count": 3,
   "metadata": {},
   "outputs": [
    {
     "data": {
      "text/plain": [
       "'/root/project/multistep_workflow/mlruns'"
      ]
     },
     "execution_count": 3,
     "metadata": {},
     "output_type": "execute_result"
    }
   ],
   "source": [
    "mlflow.tracking.get_tracking_uri()"
   ]
  },
  {
   "cell_type": "code",
   "execution_count": 7,
   "metadata": {},
   "outputs": [
    {
     "data": {
      "text/plain": [
       "[<Experiment: artifact_location='/root/project/multistep_workflow/mlruns/2', experiment_id='2', lifecycle_stage='active', name='test'>,\n",
       " <Experiment: artifact_location='/root/project/multistep_workflow/mlruns/1', experiment_id='1', lifecycle_stage='active', name='deployment'>,\n",
       " <Experiment: artifact_location='/root/project/multistep_workflow/mlruns/3', experiment_id='3', lifecycle_stage='active', name='deploy'>,\n",
       " <Experiment: artifact_location='/home/guess/core/bsc/autodeploy/ml_flow/docker_tests/multistep_workflow/mlruns/0', experiment_id='0', lifecycle_stage='active', name='Default'>]"
      ]
     },
     "execution_count": 7,
     "metadata": {},
     "output_type": "execute_result"
    }
   ],
   "source": [
    "client.list_experiments()"
   ]
  },
  {
   "cell_type": "code",
   "execution_count": 6,
   "metadata": {},
   "outputs": [],
   "source": [
    "# experiment_id = mlflow.create_experiment('deploy')\n",
    "# experiment_id"
   ]
  },
  {
   "cell_type": "code",
   "execution_count": 8,
   "metadata": {},
   "outputs": [],
   "source": [
    "experiment_id = 0\n",
    "with mlflow.start_run(run_name='Model 1', experiment_id=experiment_id):\n",
    "    mlflow.log_param(\"param1\", 5)\n",
    "    mlflow.log_metric(\"foo\", 1)"
   ]
  },
  {
   "cell_type": "code",
   "execution_count": 9,
   "metadata": {},
   "outputs": [],
   "source": [
    "mlflow.active_run()"
   ]
  },
  {
   "cell_type": "code",
   "execution_count": null,
   "metadata": {},
   "outputs": [],
   "source": [
    "\n"
   ]
  },
  {
   "cell_type": "code",
   "execution_count": 8,
   "metadata": {},
   "outputs": [],
   "source": [
    "# client.list_run_infos(experiment_id='0')"
   ]
  },
  {
   "cell_type": "code",
   "execution_count": 10,
   "metadata": {},
   "outputs": [],
   "source": [
    "\"\"\"\n",
    "Downloads the MovieLens dataset, ETLs it into Parquet, trains an\n",
    "ALS model, and uses the ALS model to train a Keras neural network.\n",
    "\n",
    "See README.rst for more details.\n",
    "\"\"\"\n",
    "\n",
    "import click\n",
    "import os\n",
    "import tempfile\n",
    "\n",
    "import mlflow\n",
    "from mlflow.entities import RunStatus, Run\n",
    "from mlflow.utils.logging_utils import eprint\n",
    "import six\n",
    "\n",
    "from mlflow.tracking.fluent import _get_experiment_id\n",
    "\n",
    "\n",
    "\n",
    "\"\"\"Best-effort detection of if a run with the given entrypoint name,\n",
    "parameters, and experiment id already ran. The run must have completed\n",
    "successfully and have at least the parameters provided.\n",
    "\"\"\"\n",
    "experiment_id='f02e2819a2ef42269655a3235d5beb86'\n",
    "entry_point_name = \"main\"\n",
    "experiment_id = experiment_id if experiment_id is not None else _get_experiment_id()\n",
    "client = mlflow.tracking.MlflowClient()\n",
    "all_run_infos = reversed(client.list_run_infos(experiment_id))\n",
    "for run_info in all_run_infos:\n",
    "    if run_info.entry_point_name != entry_point_name:\n",
    "        continue\n",
    "\n",
    "    full_run = client.get_run(run_info.run_id)\n",
    "#     match_failed = False\n",
    "#     for param_key, param_value in six.iteritems(parameters):\n",
    "#         run_value = full_run.params.get(param_key)\n",
    "#         if run_value != param_value:\n",
    "#             match_failed = True\n",
    "#             break\n",
    "#     if match_failed:\n",
    "#         continue\n",
    "\n",
    "#     if run_info.status != RunStatus.FINISHED:\n",
    "#         eprint((\"Run matched, but is not FINISHED, so skipping \"\n",
    "#                 \"(run_id=%s, status=%s)\") % (run_info.run_id, run_info.status))\n",
    "#         continue\n",
    "#     if run_info.source_version != source_version:\n",
    "#         eprint((\"Run matched, but has a different source version, so skipping \"\n",
    "#                 \"(found=%s, expected=%s)\") % (run_info.source_version, source_version))\n",
    "#         continue\n",
    "#     return client.get_run(run_info.run_id)\n",
    "\n"
   ]
  },
  {
   "cell_type": "code",
   "execution_count": 37,
   "metadata": {},
   "outputs": [
    {
     "name": "stdout",
     "output_type": "stream",
     "text": [
      "{'artifact_uri': '/home/guess/core/bsc/autodeploy/ml_flow/docker_tests/multistep_workflow/mlruns/0/036bdbb09d614344bce91a5a0db0b49c/artifacts', 'end_time': 1557999929562, 'entry_point_name': 'load_raw_data', 'experiment_id': '0', 'lifecycle_stage': 'active', 'name': '', 'run_uuid': '036bdbb09d614344bce91a5a0db0b49c', 'source_name': 'file:///home/guess/core/bsc/autodeploy/ml_flow/docker_tests/docker-spark#data/multistep_workflow', 'source_type': 3, 'source_version': 'cbbaa8fcd3f78b3588b2e2599007aa2062f41e26', 'start_time': 1557999923240, 'status': 4, 'user_id': 'guess'}\n"
     ]
    }
   ],
   "source": [
    "print(l.get('info').get('para'))"
   ]
  },
  {
   "cell_type": "code",
   "execution_count": 36,
   "metadata": {},
   "outputs": [
    {
     "data": {
      "text/plain": [
       "{'info': {'artifact_uri': '/home/guess/core/bsc/autodeploy/ml_flow/docker_tests/multistep_workflow/mlruns/0/036bdbb09d614344bce91a5a0db0b49c/artifacts',\n",
       "  'end_time': 1557999929562,\n",
       "  'entry_point_name': 'load_raw_data',\n",
       "  'experiment_id': '0',\n",
       "  'lifecycle_stage': 'active',\n",
       "  'name': '',\n",
       "  'run_uuid': '036bdbb09d614344bce91a5a0db0b49c',\n",
       "  'source_name': 'file:///home/guess/core/bsc/autodeploy/ml_flow/docker_tests/docker-spark#data/multistep_workflow',\n",
       "  'source_type': 3,\n",
       "  'source_version': 'cbbaa8fcd3f78b3588b2e2599007aa2062f41e26',\n",
       "  'start_time': 1557999923240,\n",
       "  'status': 4,\n",
       "  'user_id': 'guess'},\n",
       " 'data': {'metrics': [],\n",
       "  'params': [],\n",
       "  'tags': [{'key': 'mlflow.gitRepoURL',\n",
       "    'value': 'https://github.com/gettyimages/docker-spark'},\n",
       "   {'key': 'mlflow.project.entryPoint', 'value': 'load_raw_data'},\n",
       "   {'key': 'mlflow.source.type', 'value': 'PROJECT'},\n",
       "   {'key': 'mlflow.source.git.commit',\n",
       "    'value': 'cbbaa8fcd3f78b3588b2e2599007aa2062f41e26'},\n",
       "   {'key': 'mlflow.source.git.repoURL',\n",
       "    'value': 'https://github.com/gettyimages/docker-spark'},\n",
       "   {'key': 'mlflow.project.env', 'value': 'conda'},\n",
       "   {'key': 'mlflow.parentRunId', 'value': 'd3b5429b762745c1bbbf916bdcd9bc3c'},\n",
       "   {'key': 'mlflow.source.name',\n",
       "    'value': 'file:///home/guess/core/bsc/autodeploy/ml_flow/docker_tests/docker-spark#data/multistep_workflow'}]}}"
      ]
     },
     "execution_count": 36,
     "metadata": {},
     "output_type": "execute_result"
    }
   ],
   "source": [
    "    cluster_manager = 'yarn'\n",
    "    spark = SparkSession.builder \\\n",
    "    .master(cluster_manager)\\\n",
    "    .appName(\"Sparkmach\") \\\n",
    "    .config(\"spark.driver.allowMultipleContexts\", \"true\")\\\n",
    "    .getOrCreate()"
   ]
  },
  {
   "cell_type": "code",
   "execution_count": 82,
   "metadata": {},
   "outputs": [
    {
     "data": {
      "text/plain": [
       "[{'key': 'mlflow.gitRepoURL',\n",
       "  'value': 'https://github.com/gettyimages/docker-spark'},\n",
       " {'key': 'mlflow.project.entryPoint', 'value': 'load_raw_data'},\n",
       " {'key': 'mlflow.source.type', 'value': 'PROJECT'},\n",
       " {'key': 'mlflow.source.git.commit',\n",
       "  'value': 'cbbaa8fcd3f78b3588b2e2599007aa2062f41e26'},\n",
       " {'key': 'mlflow.source.git.repoURL',\n",
       "  'value': 'https://github.com/gettyimages/docker-spark'},\n",
       " {'key': 'mlflow.project.env', 'value': 'conda'},\n",
       " {'key': 'mlflow.parentRunId', 'value': 'd3b5429b762745c1bbbf916bdcd9bc3c'},\n",
       " {'key': 'mlflow.source.name',\n",
       "  'value': 'file:///home/guess/core/bsc/autodeploy/ml_flow/docker_tests/docker-spark#data/multistep_workflow'}]"
      ]
     },
     "execution_count": 82,
     "metadata": {},
     "output_type": "execute_result"
    }
   ],
   "source": [
    "l.get('data').get('tags')"
   ]
  },
  {
   "cell_type": "code",
   "execution_count": 50,
   "metadata": {},
   "outputs": [
    {
     "data": {
      "text/plain": [
       "[('a', 1)]"
      ]
     },
     "execution_count": 50,
     "metadata": {},
     "output_type": "execute_result"
    }
   ],
   "source": [
    "[(param_key, param_value) for param_key, param_value in six.iteritems({'a': 1})]"
   ]
  },
  {
   "cell_type": "code",
   "execution_count": 95,
   "metadata": {},
   "outputs": [
    {
     "data": {
      "text/plain": [
       "'mlflow.gitRepoURL'"
      ]
     },
     "execution_count": 95,
     "metadata": {},
     "output_type": "execute_result"
    }
   ],
   "source": [
    "tmp = [e.key for e in a.data.params if e.key==param_key]\n",
    "run_value = tmp[0] if len(tmp) > 0 else 'error'\n",
    "run_value"
   ]
  },
  {
   "cell_type": "code",
   "execution_count": null,
   "metadata": {},
   "outputs": [],
   "source": []
  },
  {
   "cell_type": "code",
   "execution_count": 40,
   "metadata": {},
   "outputs": [
    {
     "name": "stdout",
     "output_type": "stream",
     "text": [
      "{}\n",
      "{}\n",
      "{}\n",
      "{}\n",
      "Launching new run for entrypoint=load_raw_data and parameters={}\n"
     ]
    },
    {
     "name": "stderr",
     "output_type": "stream",
     "text": [
      "Run matched, but is not FINISHED, so skipping (run_id=44b8ef64ccd3489d938f239bfaf982c9, status=4)\n",
      "Run matched, but is not FINISHED, so skipping (run_id=8ce8abe82e88485aaeca59b390ba118c, status=4)\n",
      "Run matched, but is not FINISHED, so skipping (run_id=036bdbb09d614344bce91a5a0db0b49c, status=4)\n",
      "Run matched, but is not FINISHED, so skipping (run_id=1d278ca312f44856aafa226f50df4627, status=4)\n",
      "2019/05/17 10:06:45 INFO mlflow.projects: === Created directory /tmp/tmpslipsfwc for downloading remote URIs passed to arguments of type 'path' ===\n",
      "2019/05/17 10:06:45 INFO mlflow.projects: === Running command 'source activate mlflow-bc4fbe6869b5ec2da960d86e06f7706de39b83ae && python load_raw_data.py' in run with ID 'e3f0a1c9594548a2af95a184d67bbbe4' === \n",
      "2019/05/17 10:06:46 ERROR mlflow.projects: === Run (ID 'e3f0a1c9594548a2af95a184d67bbbe4') interrupted, cancelling run ===\n"
     ]
    },
    {
     "ename": "KeyboardInterrupt",
     "evalue": "",
     "output_type": "error",
     "traceback": [
      "\u001b[0;31m---------------------------------------------------------------------------\u001b[0m",
      "\u001b[0;31mKeyboardInterrupt\u001b[0m                         Traceback (most recent call last)",
      "\u001b[0;32m<ipython-input-40-7e47bc25e58b>\u001b[0m in \u001b[0;36m<module>\u001b[0;34m\u001b[0m\n\u001b[1;32m     54\u001b[0m \u001b[0;32mwith\u001b[0m \u001b[0mmlflow\u001b[0m\u001b[0;34m.\u001b[0m\u001b[0mstart_run\u001b[0m\u001b[0;34m(\u001b[0m\u001b[0;34m)\u001b[0m \u001b[0;32mas\u001b[0m \u001b[0mactive_run\u001b[0m\u001b[0;34m:\u001b[0m\u001b[0;34m\u001b[0m\u001b[0;34m\u001b[0m\u001b[0m\n\u001b[1;32m     55\u001b[0m     \u001b[0msource_version\u001b[0m \u001b[0;34m=\u001b[0m \u001b[0mactive_run\u001b[0m\u001b[0;34m.\u001b[0m\u001b[0minfo\u001b[0m\u001b[0;34m.\u001b[0m\u001b[0msource_version\u001b[0m\u001b[0;34m\u001b[0m\u001b[0;34m\u001b[0m\u001b[0m\n\u001b[0;32m---> 56\u001b[0;31m     \u001b[0mload_raw_data_run\u001b[0m \u001b[0;34m=\u001b[0m \u001b[0m_get_or_run\u001b[0m\u001b[0;34m(\u001b[0m\u001b[0;34m\"load_raw_data\"\u001b[0m\u001b[0;34m,\u001b[0m \u001b[0;34m{\u001b[0m\u001b[0;34m}\u001b[0m\u001b[0;34m,\u001b[0m \u001b[0msource_version\u001b[0m\u001b[0;34m)\u001b[0m\u001b[0;34m\u001b[0m\u001b[0;34m\u001b[0m\u001b[0m\n\u001b[0m",
      "\u001b[0;32m<ipython-input-40-7e47bc25e58b>\u001b[0m in \u001b[0;36m_get_or_run\u001b[0;34m(entrypoint, parameters, source_version, use_cache)\u001b[0m\n\u001b[1;32m     47\u001b[0m         \u001b[0;32mreturn\u001b[0m \u001b[0mexisting_run\u001b[0m\u001b[0;34m\u001b[0m\u001b[0;34m\u001b[0m\u001b[0m\n\u001b[1;32m     48\u001b[0m     \u001b[0mprint\u001b[0m\u001b[0;34m(\u001b[0m\u001b[0;34m\"Launching new run for entrypoint=%s and parameters=%s\"\u001b[0m \u001b[0;34m%\u001b[0m \u001b[0;34m(\u001b[0m\u001b[0mentrypoint\u001b[0m\u001b[0;34m,\u001b[0m \u001b[0mparameters\u001b[0m\u001b[0;34m)\u001b[0m\u001b[0;34m)\u001b[0m\u001b[0;34m\u001b[0m\u001b[0;34m\u001b[0m\u001b[0m\n\u001b[0;32m---> 49\u001b[0;31m     \u001b[0msubmitted_run\u001b[0m \u001b[0;34m=\u001b[0m \u001b[0mmlflow\u001b[0m\u001b[0;34m.\u001b[0m\u001b[0mrun\u001b[0m\u001b[0;34m(\u001b[0m\u001b[0;34m\".\"\u001b[0m\u001b[0;34m,\u001b[0m \u001b[0mentrypoint\u001b[0m\u001b[0;34m,\u001b[0m \u001b[0mparameters\u001b[0m\u001b[0;34m=\u001b[0m\u001b[0mparameters\u001b[0m\u001b[0;34m)\u001b[0m\u001b[0;34m\u001b[0m\u001b[0;34m\u001b[0m\u001b[0m\n\u001b[0m\u001b[1;32m     50\u001b[0m     \u001b[0;32mreturn\u001b[0m \u001b[0mmlflow\u001b[0m\u001b[0;34m.\u001b[0m\u001b[0mtracking\u001b[0m\u001b[0;34m.\u001b[0m\u001b[0mMlflowClient\u001b[0m\u001b[0;34m(\u001b[0m\u001b[0;34m)\u001b[0m\u001b[0;34m.\u001b[0m\u001b[0mget_run\u001b[0m\u001b[0;34m(\u001b[0m\u001b[0msubmitted_run\u001b[0m\u001b[0;34m.\u001b[0m\u001b[0mrun_id\u001b[0m\u001b[0;34m)\u001b[0m\u001b[0;34m\u001b[0m\u001b[0;34m\u001b[0m\u001b[0m\n\u001b[1;32m     51\u001b[0m \u001b[0;34m\u001b[0m\u001b[0m\n",
      "\u001b[0;32m~/anaconda3/lib/python3.7/site-packages/mlflow/projects/__init__.py\u001b[0m in \u001b[0;36mrun\u001b[0;34m(uri, entry_point, version, parameters, experiment_name, experiment_id, mode, cluster_spec, git_username, git_password, use_conda, storage_dir, block, run_id)\u001b[0m\n\u001b[1;32m    230\u001b[0m         storage_dir=storage_dir, block=block, run_id=run_id)\n\u001b[1;32m    231\u001b[0m     \u001b[0;32mif\u001b[0m \u001b[0mblock\u001b[0m\u001b[0;34m:\u001b[0m\u001b[0;34m\u001b[0m\u001b[0;34m\u001b[0m\u001b[0m\n\u001b[0;32m--> 232\u001b[0;31m         \u001b[0m_wait_for\u001b[0m\u001b[0;34m(\u001b[0m\u001b[0msubmitted_run_obj\u001b[0m\u001b[0;34m)\u001b[0m\u001b[0;34m\u001b[0m\u001b[0;34m\u001b[0m\u001b[0m\n\u001b[0m\u001b[1;32m    233\u001b[0m     \u001b[0;32mreturn\u001b[0m \u001b[0msubmitted_run_obj\u001b[0m\u001b[0;34m\u001b[0m\u001b[0;34m\u001b[0m\u001b[0m\n\u001b[1;32m    234\u001b[0m \u001b[0;34m\u001b[0m\u001b[0m\n",
      "\u001b[0;32m~/anaconda3/lib/python3.7/site-packages/mlflow/projects/__init__.py\u001b[0m in \u001b[0;36m_wait_for\u001b[0;34m(submitted_run_obj)\u001b[0m\n\u001b[1;32m    242\u001b[0m     \u001b[0;32mtry\u001b[0m\u001b[0;34m:\u001b[0m\u001b[0;34m\u001b[0m\u001b[0;34m\u001b[0m\u001b[0m\n\u001b[1;32m    243\u001b[0m         \u001b[0mactive_run\u001b[0m \u001b[0;34m=\u001b[0m \u001b[0mtracking\u001b[0m\u001b[0;34m.\u001b[0m\u001b[0mMlflowClient\u001b[0m\u001b[0;34m(\u001b[0m\u001b[0;34m)\u001b[0m\u001b[0;34m.\u001b[0m\u001b[0mget_run\u001b[0m\u001b[0;34m(\u001b[0m\u001b[0mrun_id\u001b[0m\u001b[0;34m)\u001b[0m \u001b[0;32mif\u001b[0m \u001b[0mrun_id\u001b[0m \u001b[0;32mis\u001b[0m \u001b[0;32mnot\u001b[0m \u001b[0;32mNone\u001b[0m \u001b[0;32melse\u001b[0m \u001b[0;32mNone\u001b[0m\u001b[0;34m\u001b[0m\u001b[0;34m\u001b[0m\u001b[0m\n\u001b[0;32m--> 244\u001b[0;31m         \u001b[0;32mif\u001b[0m \u001b[0msubmitted_run_obj\u001b[0m\u001b[0;34m.\u001b[0m\u001b[0mwait\u001b[0m\u001b[0;34m(\u001b[0m\u001b[0;34m)\u001b[0m\u001b[0;34m:\u001b[0m\u001b[0;34m\u001b[0m\u001b[0;34m\u001b[0m\u001b[0m\n\u001b[0m\u001b[1;32m    245\u001b[0m             \u001b[0m_logger\u001b[0m\u001b[0;34m.\u001b[0m\u001b[0minfo\u001b[0m\u001b[0;34m(\u001b[0m\u001b[0;34m\"=== Run (ID '%s') succeeded ===\"\u001b[0m\u001b[0;34m,\u001b[0m \u001b[0mrun_id\u001b[0m\u001b[0;34m)\u001b[0m\u001b[0;34m\u001b[0m\u001b[0;34m\u001b[0m\u001b[0m\n\u001b[1;32m    246\u001b[0m             \u001b[0m_maybe_set_run_terminated\u001b[0m\u001b[0;34m(\u001b[0m\u001b[0mactive_run\u001b[0m\u001b[0;34m,\u001b[0m \u001b[0;34m\"FINISHED\"\u001b[0m\u001b[0;34m)\u001b[0m\u001b[0;34m\u001b[0m\u001b[0;34m\u001b[0m\u001b[0m\n",
      "\u001b[0;32m~/anaconda3/lib/python3.7/site-packages/mlflow/projects/submitted_run.py\u001b[0m in \u001b[0;36mwait\u001b[0;34m(self)\u001b[0m\n\u001b[1;32m     73\u001b[0m \u001b[0;34m\u001b[0m\u001b[0m\n\u001b[1;32m     74\u001b[0m     \u001b[0;32mdef\u001b[0m \u001b[0mwait\u001b[0m\u001b[0;34m(\u001b[0m\u001b[0mself\u001b[0m\u001b[0;34m)\u001b[0m\u001b[0;34m:\u001b[0m\u001b[0;34m\u001b[0m\u001b[0;34m\u001b[0m\u001b[0m\n\u001b[0;32m---> 75\u001b[0;31m         \u001b[0;32mreturn\u001b[0m \u001b[0mself\u001b[0m\u001b[0;34m.\u001b[0m\u001b[0mcommand_proc\u001b[0m\u001b[0;34m.\u001b[0m\u001b[0mwait\u001b[0m\u001b[0;34m(\u001b[0m\u001b[0;34m)\u001b[0m \u001b[0;34m==\u001b[0m \u001b[0;36m0\u001b[0m\u001b[0;34m\u001b[0m\u001b[0;34m\u001b[0m\u001b[0m\n\u001b[0m\u001b[1;32m     76\u001b[0m \u001b[0;34m\u001b[0m\u001b[0m\n\u001b[1;32m     77\u001b[0m     \u001b[0;32mdef\u001b[0m \u001b[0mcancel\u001b[0m\u001b[0;34m(\u001b[0m\u001b[0mself\u001b[0m\u001b[0;34m)\u001b[0m\u001b[0;34m:\u001b[0m\u001b[0;34m\u001b[0m\u001b[0;34m\u001b[0m\u001b[0m\n",
      "\u001b[0;32m~/anaconda3/lib/python3.7/subprocess.py\u001b[0m in \u001b[0;36mwait\u001b[0;34m(self, timeout)\u001b[0m\n\u001b[1;32m    982\u001b[0m             \u001b[0mendtime\u001b[0m \u001b[0;34m=\u001b[0m \u001b[0m_time\u001b[0m\u001b[0;34m(\u001b[0m\u001b[0;34m)\u001b[0m \u001b[0;34m+\u001b[0m \u001b[0mtimeout\u001b[0m\u001b[0;34m\u001b[0m\u001b[0;34m\u001b[0m\u001b[0m\n\u001b[1;32m    983\u001b[0m         \u001b[0;32mtry\u001b[0m\u001b[0;34m:\u001b[0m\u001b[0;34m\u001b[0m\u001b[0;34m\u001b[0m\u001b[0m\n\u001b[0;32m--> 984\u001b[0;31m             \u001b[0;32mreturn\u001b[0m \u001b[0mself\u001b[0m\u001b[0;34m.\u001b[0m\u001b[0m_wait\u001b[0m\u001b[0;34m(\u001b[0m\u001b[0mtimeout\u001b[0m\u001b[0;34m=\u001b[0m\u001b[0mtimeout\u001b[0m\u001b[0;34m)\u001b[0m\u001b[0;34m\u001b[0m\u001b[0;34m\u001b[0m\u001b[0m\n\u001b[0m\u001b[1;32m    985\u001b[0m         \u001b[0;32mexcept\u001b[0m \u001b[0mKeyboardInterrupt\u001b[0m\u001b[0;34m:\u001b[0m\u001b[0;34m\u001b[0m\u001b[0;34m\u001b[0m\u001b[0m\n\u001b[1;32m    986\u001b[0m             \u001b[0;31m# https://bugs.python.org/issue25942\u001b[0m\u001b[0;34m\u001b[0m\u001b[0;34m\u001b[0m\u001b[0;34m\u001b[0m\u001b[0m\n",
      "\u001b[0;32m~/anaconda3/lib/python3.7/subprocess.py\u001b[0m in \u001b[0;36m_wait\u001b[0;34m(self, timeout)\u001b[0m\n\u001b[1;32m   1616\u001b[0m                         \u001b[0;32mif\u001b[0m \u001b[0mself\u001b[0m\u001b[0;34m.\u001b[0m\u001b[0mreturncode\u001b[0m \u001b[0;32mis\u001b[0m \u001b[0;32mnot\u001b[0m \u001b[0;32mNone\u001b[0m\u001b[0;34m:\u001b[0m\u001b[0;34m\u001b[0m\u001b[0;34m\u001b[0m\u001b[0m\n\u001b[1;32m   1617\u001b[0m                             \u001b[0;32mbreak\u001b[0m  \u001b[0;31m# Another thread waited.\u001b[0m\u001b[0;34m\u001b[0m\u001b[0;34m\u001b[0m\u001b[0m\n\u001b[0;32m-> 1618\u001b[0;31m                         \u001b[0;34m(\u001b[0m\u001b[0mpid\u001b[0m\u001b[0;34m,\u001b[0m \u001b[0msts\u001b[0m\u001b[0;34m)\u001b[0m \u001b[0;34m=\u001b[0m \u001b[0mself\u001b[0m\u001b[0;34m.\u001b[0m\u001b[0m_try_wait\u001b[0m\u001b[0;34m(\u001b[0m\u001b[0;36m0\u001b[0m\u001b[0;34m)\u001b[0m\u001b[0;34m\u001b[0m\u001b[0;34m\u001b[0m\u001b[0m\n\u001b[0m\u001b[1;32m   1619\u001b[0m                         \u001b[0;31m# Check the pid and loop as waitpid has been known to\u001b[0m\u001b[0;34m\u001b[0m\u001b[0;34m\u001b[0m\u001b[0;34m\u001b[0m\u001b[0m\n\u001b[1;32m   1620\u001b[0m                         \u001b[0;31m# return 0 even without WNOHANG in odd situations.\u001b[0m\u001b[0;34m\u001b[0m\u001b[0;34m\u001b[0m\u001b[0;34m\u001b[0m\u001b[0m\n",
      "\u001b[0;32m~/anaconda3/lib/python3.7/subprocess.py\u001b[0m in \u001b[0;36m_try_wait\u001b[0;34m(self, wait_flags)\u001b[0m\n\u001b[1;32m   1574\u001b[0m             \u001b[0;34m\"\"\"All callers to this function MUST hold self._waitpid_lock.\"\"\"\u001b[0m\u001b[0;34m\u001b[0m\u001b[0;34m\u001b[0m\u001b[0m\n\u001b[1;32m   1575\u001b[0m             \u001b[0;32mtry\u001b[0m\u001b[0;34m:\u001b[0m\u001b[0;34m\u001b[0m\u001b[0;34m\u001b[0m\u001b[0m\n\u001b[0;32m-> 1576\u001b[0;31m                 \u001b[0;34m(\u001b[0m\u001b[0mpid\u001b[0m\u001b[0;34m,\u001b[0m \u001b[0msts\u001b[0m\u001b[0;34m)\u001b[0m \u001b[0;34m=\u001b[0m \u001b[0mos\u001b[0m\u001b[0;34m.\u001b[0m\u001b[0mwaitpid\u001b[0m\u001b[0;34m(\u001b[0m\u001b[0mself\u001b[0m\u001b[0;34m.\u001b[0m\u001b[0mpid\u001b[0m\u001b[0;34m,\u001b[0m \u001b[0mwait_flags\u001b[0m\u001b[0;34m)\u001b[0m\u001b[0;34m\u001b[0m\u001b[0;34m\u001b[0m\u001b[0m\n\u001b[0m\u001b[1;32m   1577\u001b[0m             \u001b[0;32mexcept\u001b[0m \u001b[0mChildProcessError\u001b[0m\u001b[0;34m:\u001b[0m\u001b[0;34m\u001b[0m\u001b[0;34m\u001b[0m\u001b[0m\n\u001b[1;32m   1578\u001b[0m                 \u001b[0;31m# This happens if SIGCLD is set to be ignored or waiting\u001b[0m\u001b[0;34m\u001b[0m\u001b[0;34m\u001b[0m\u001b[0;34m\u001b[0m\u001b[0m\n",
      "\u001b[0;31mKeyboardInterrupt\u001b[0m: "
     ]
    }
   ],
   "source": [
    "global a\n",
    "def _already_ran(entry_point_name, parameters, source_version, experiment_id=None):\n",
    "    global a\n",
    "    \"\"\"Best-effort detection of if a run with the given entrypoint name,\n",
    "    parameters, and experiment id already ran. The run must have completed\n",
    "    successfully and have at least the parameters provided.\n",
    "    \"\"\"\n",
    "    experiment_id = experiment_id if experiment_id is not None else _get_experiment_id()\n",
    "    client = mlflow.tracking.MlflowClient()\n",
    "    all_run_infos = reversed(client.list_run_infos(experiment_id))\n",
    "    for run_info in all_run_infos:\n",
    "        if run_info.entry_point_name != entry_point_name:\n",
    "            continue\n",
    "#         a = run_info\n",
    "        full_run = client.get_run(run_info.run_uuid)\n",
    "        a = full_run\n",
    "        match_failed = False\n",
    "        print(parameters)\n",
    "        for param_key, param_value in six.iteritems(parameters):\n",
    "            \n",
    "            run_value = full_run.params.get(param_key)\n",
    "            if run_value != param_value:\n",
    "                match_failed = True\n",
    "                break\n",
    "        if match_failed:\n",
    "            continue\n",
    "\n",
    "        if run_info.status != RunStatus.FINISHED:\n",
    "            eprint((\"Run matched, but is not FINISHED, so skipping \"\n",
    "                    \"(run_id=%s, status=%s)\") % (run_info.run_uuid, run_info.status))\n",
    "            continue\n",
    "        if run_info.source_version != source_version:\n",
    "            eprint((\"Run matched, but has a different source version, so skipping \"\n",
    "                    \"(found=%s, expected=%s)\") % (run_info.source_version, source_version))\n",
    "            continue\n",
    "        return client.get_run(run_info.run_uuid)\n",
    "    return None\n",
    "\n",
    "\n",
    "# TODO(aaron): This is not great because it doesn't account for:\n",
    "# - changes in code\n",
    "# - changes in dependant steps\n",
    "def _get_or_run(entrypoint, parameters, source_version, use_cache=True):\n",
    "    existing_run = _already_ran(entrypoint, parameters, source_version)\n",
    "    if use_cache and existing_run:\n",
    "        print(\"Found existing run for entrypoint=%s and parameters=%s\" % (entrypoint, parameters))\n",
    "        return existing_run\n",
    "    print(\"Launching new run for entrypoint=%s and parameters=%s\" % (entrypoint, parameters))\n",
    "    #submitted_run = mlflow.run(\".\", entrypoint, parameters=parameters)\n",
    "    #return mlflow.tracking.MlflowClient().get_run(submitted_run.run_id)\n",
    "\n",
    "\n",
    "\n",
    "with mlflow.start_run() as active_run:\n",
    "    source_version = active_run.info.source_version\n",
    "    load_raw_data_run = _get_or_run(\"load_raw_data\", {}, source_version)"
   ]
  },
  {
   "cell_type": "code",
   "execution_count": 18,
   "metadata": {},
   "outputs": [
    {
     "data": {
      "text/plain": [
       "'44b8ef64ccd3489d938f239bfaf982c9'"
      ]
     },
     "execution_count": 18,
     "metadata": {},
     "output_type": "execute_result"
    }
   ],
   "source": [
    "a.run_uuid"
   ]
  },
  {
   "cell_type": "code",
   "execution_count": 13,
   "metadata": {},
   "outputs": [
    {
     "data": {
      "text/plain": [
       "[<Experiment: artifact_location='/home/guess/core/bsc/autodeploy/ml_flow/docker_tests/multistep_workflow/mlruns/0', experiment_id='0', lifecycle_stage='active', name='Default'>]"
      ]
     },
     "execution_count": 13,
     "metadata": {},
     "output_type": "execute_result"
    }
   ],
   "source": [
    "client.list_experiments()"
   ]
  },
  {
   "cell_type": "code",
   "execution_count": null,
   "metadata": {},
   "outputs": [],
   "source": []
  }
 ],
 "metadata": {
  "kernelspec": {
   "display_name": "Python 3",
   "language": "python",
   "name": "python3"
  },
  "language_info": {
   "codemirror_mode": {
    "name": "ipython",
    "version": 3
   },
   "file_extension": ".py",
   "mimetype": "text/x-python",
   "name": "python",
   "nbconvert_exporter": "python",
   "pygments_lexer": "ipython3",
   "version": "3.7.3"
  }
 },
 "nbformat": 4,
 "nbformat_minor": 2
}
