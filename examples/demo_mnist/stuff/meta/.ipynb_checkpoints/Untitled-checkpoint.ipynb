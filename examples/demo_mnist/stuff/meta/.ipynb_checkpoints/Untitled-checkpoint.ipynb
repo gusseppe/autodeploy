{
 "cells": [
  {
   "cell_type": "code",
   "execution_count": null,
   "metadata": {},
   "outputs": [],
   "source": [
    "import json\n",
    "import uvicorn\n",
    "import os\n",
    "import logging\n",
    "\n",
    "from scanflow.deploy.deploy import Deploy\n",
    "from scanflow import tools\n",
    "from fastapi import FastAPI\n",
    "\n",
    "\n",
    "app = FastAPI(title='Scanflow API',\n",
    "              description='Server that allows agents to manipulate the user workflow.',\n",
    "              )\n",
    "\n",
    "@app.post(\"/app\",\n",
    "          tags=['Running'],\n",
    "          summary=\"Run a workflow\")\n",
    "async def run_workflow(content: dict):\n",
    "    image = input('Upload an image')\n",
    "    \n",
    "    latest_service = mlflow.models('last')\n",
    "    parameters={'x_inference_path': image.path,\n",
    "                 'host':latest_service,\n",
    "                 'port':8010}\n",
    "    \n",
    "    deployer = Deploy(setup)\n",
    "    deployer.run_workflows(verbose=True, parameters)\n",
    "\n",
    "\n",
    "if __name__ == \"__main__\":\n",
    "    uvicorn.run(\"dashboard:app\", host=\"0.0.0.0\", port=8015, reload=True)\n"
   ]
  }
 ],
 "metadata": {
  "kernelspec": {
   "display_name": "Python 3",
   "language": "python",
   "name": "python3"
  },
  "language_info": {
   "codemirror_mode": {
    "name": "ipython",
    "version": 3
   },
   "file_extension": ".py",
   "mimetype": "text/x-python",
   "name": "python",
   "nbconvert_exporter": "python",
   "pygments_lexer": "ipython3",
   "version": "3.7.5"
  }
 },
 "nbformat": 4,
 "nbformat_minor": 4
}
