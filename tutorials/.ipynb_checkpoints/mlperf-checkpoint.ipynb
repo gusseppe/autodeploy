{
 "cells": [
  {
   "cell_type": "code",
   "execution_count": null,
   "metadata": {},
   "outputs": [],
   "source": [
    "%%time\n",
    "\n",
    "from scanflow.setup import Setup, Executor, Tracker, Workflow\n",
    "from scanflow.deploy import Deploy\n",
    "\n",
    "# App folder\n",
    "app_dir = '/home/guess/Desktop/scanflow/examples/mlperf/'\n",
    "\n",
    "executors = [Executor(name='gathering', \n",
    "                       file='gathering.py',\n",
    "                       dockerfile='Dockerfile_gathering'),\n",
    "\n",
    "              \n",
    "              Executor(name='preprocessing', \n",
    "                       file='preprocessing.py',\n",
    "                       requirements='req_preprocessing.txt')]\n",
    "\n",
    "workflow1 = Workflow(name='workflow1', \n",
    "                     executors=executors,\n",
    "                     tracker=Tracker(port=8001))\n",
    "\n",
    "\n",
    "workflower = Setup(app_dir, workflows=[workflow1],\n",
    "                             verbose=False)\n",
    "\n",
    "# Build the nodes\n",
    "workflower.build_workflows()\n",
    "\n",
    "# Start containers and run workflows\n",
    "deployer = Deploy(app_dir, workflower, verbose=False)\n",
    "\n"
   ]
  }
 ],
 "metadata": {
  "kernelspec": {
   "display_name": "Python 3",
   "language": "python",
   "name": "python3"
  },
  "language_info": {
   "codemirror_mode": {
    "name": "ipython",
    "version": 3
   },
   "file_extension": ".py",
   "mimetype": "text/x-python",
   "name": "python",
   "nbconvert_exporter": "python",
   "pygments_lexer": "ipython3",
   "version": "3.7.5"
  }
 },
 "nbformat": 4,
 "nbformat_minor": 4
}
