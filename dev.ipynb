{
 "cells": [
  {
   "cell_type": "markdown",
   "metadata": {
    "collapsed": true,
    "pycharm": {
     "name": "#%% md\n"
    }
   },
   "source": [
    "# Development new ideas\n",
    "\n"
   ]
  },
  {
   "cell_type": "code",
   "execution_count": 19,
   "outputs": [
    {
     "name": "stdout",
     "text": [
      "CPU times: user 3.76 s, sys: 499 ms, total: 4.26 s\nWall time: 3.69 s\n"
     ],
     "output_type": "stream"
    }
   ],
   "source": [
    "%%time\n",
    "\n",
    "import numpy as np\n",
    "import pandas as pd\n",
    "from pandas_profiling.config import config as config\n",
    "from pandas_profiling.model import describe\n",
    "import pandas_profiling\n",
    "\n",
    "df = pd.DataFrame(\n",
    "    np.random.rand(100, 5),\n",
    "    columns=['a', 'b', 'c', 'd', 'e']\n",
    ")\n",
    "\n",
    "#profile = df.profile_report()\n",
    "\n",
    "# config.config['pool_size'] = 4\n",
    "# config.config['check_correlation_pearson'] = False\n",
    "# print(list(config.config.items()))\n",
    "# desc_df = pandas_profiling.describe_df(df)\n"
   ],
   "metadata": {
    "collapsed": false,
    "pycharm": {
     "name": "#%%\n",
     "is_executing": false
    }
   }
  },
  {
   "cell_type": "code",
   "execution_count": 7,
   "outputs": [],
   "source": [
    "predictions = ''\n",
    "%store -r predictions"
   ],
   "metadata": {
    "collapsed": false,
    "pycharm": {
     "name": "#%%\n",
     "is_executing": false
    }
   }
  },
  {
   "cell_type": "code",
   "execution_count": 29,
   "outputs": [
    {
     "data": {
      "text/plain": "        x_1       x_2       x_3       x_4      pred\n0 -1.887365 -1.145500  0.839670 -2.008855  0.024753\n1 -0.989919  0.987401  0.266892  0.485329  0.060526",
      "text/html": "<div>\n<style scoped>\n    .dataframe tbody tr th:only-of-type {\n        vertical-align: middle;\n    }\n\n    .dataframe tbody tr th {\n        vertical-align: top;\n    }\n\n    .dataframe thead th {\n        text-align: right;\n    }\n</style>\n<table border=\"1\" class=\"dataframe\">\n  <thead>\n    <tr style=\"text-align: right;\">\n      <th></th>\n      <th>x_1</th>\n      <th>x_2</th>\n      <th>x_3</th>\n      <th>x_4</th>\n      <th>pred</th>\n    </tr>\n  </thead>\n  <tbody>\n    <tr>\n      <td>0</td>\n      <td>-1.887365</td>\n      <td>-1.145500</td>\n      <td>0.839670</td>\n      <td>-2.008855</td>\n      <td>0.024753</td>\n    </tr>\n    <tr>\n      <td>1</td>\n      <td>-0.989919</td>\n      <td>0.987401</td>\n      <td>0.266892</td>\n      <td>0.485329</td>\n      <td>0.060526</td>\n    </tr>\n  </tbody>\n</table>\n</div>"
     },
     "metadata": {},
     "output_type": "execute_result",
     "execution_count": 29
    }
   ],
   "source": [
    "import pandas as pd\n",
    "\n",
    "sample_input = { \n",
    "        \"columns\": [ \n",
    "            \"x_1\", \n",
    "            \"x_2\", \n",
    "            \"x_3\", \n",
    "            \"x_4\", \n",
    "        ], \n",
    "        \"data\": [ \n",
    "            [-1.8873649,-1.1455,0.83967,-2.008855],\n",
    "            [-0.989919,  0.987401, 0.266892,  0.485329]  \n",
    "        ] \n",
    "}   \n",
    "\n",
    "df_pred = pd.DataFrame(sample_input['data'], \n",
    "                       columns=sample_input['columns'])\n",
    "preds = [d['0'] for d in predictions]\n",
    "df_pred['pred'] = preds\n",
    "df_pred\n",
    "\n",
    "# preds\n",
    "\n",
    "# df_pred = pd.DataFrame(predictions)\n",
    "# df_pred.columns = ['predictions']\n",
    "# df_pred\n"
   ],
   "metadata": {
    "collapsed": false,
    "pycharm": {
     "name": "#%%\n",
     "is_executing": false
    }
   }
  },
  {
   "cell_type": "code",
   "execution_count": 4,
   "outputs": [
    {
     "data": {
      "text/plain": "{'pearson':           a         b         c         d         e\n a  1.000000 -0.209623  0.027904 -0.159071  0.167123\n b -0.209623  1.000000  0.050510 -0.030962  0.035198\n c  0.027904  0.050510  1.000000 -0.190184  0.023870\n d -0.159071 -0.030962 -0.190184  1.000000 -0.140414\n e  0.167123  0.035198  0.023870 -0.140414  1.000000,\n 'spearman':           a         b         c         d         e\n a  1.000000 -0.209781  0.015770 -0.158224  0.183102\n b -0.209781  1.000000  0.050117 -0.036280  0.040216\n c  0.015770  0.050117  1.000000 -0.173513  0.021338\n d -0.158224 -0.036280 -0.173513  1.000000 -0.123684\n e  0.183102  0.040216  0.021338 -0.123684  1.000000,\n 'kendall':           a         b         c         d         e\n a  1.000000 -0.135354  0.018182 -0.102626  0.119596\n b -0.135354  1.000000  0.025455 -0.026667  0.030707\n c  0.018182  0.025455  1.000000 -0.121212  0.019394\n d -0.102626 -0.026667 -0.121212  1.000000 -0.106263\n e  0.119596  0.030707  0.019394 -0.106263  1.000000,\n 'phi_k': var2         a         b         c         d        e\n var1                                                 \n a     1.000000  0.362056  0.000000  0.047395  0.00000\n b     0.362056  1.000000  0.000000  0.000000  0.00000\n c     0.000000  0.000000  1.000000  0.443129  0.00000\n d     0.047395  0.000000  0.443129  1.000000  0.59253\n e     0.000000  0.000000  0.000000  0.592530  1.00000}"
     },
     "metadata": {},
     "output_type": "execute_result",
     "execution_count": 4
    }
   ],
   "source": [
    "# desc_df['table']\n",
    "# desc_df['variables'].keys()\n",
    "# desc_df['correlations']\n",
    "# list(desc\n",
    "#_df.keys())"
   ],
   "metadata": {
    "collapsed": false,
    "pycharm": {
     "name": "#%%\n",
     "is_executing": false
    }
   }
  }
 ],
 "metadata": {
  "kernelspec": {
   "display_name": "Python 3",
   "language": "python",
   "name": "python3"
  },
  "language_info": {
   "codemirror_mode": {
    "name": "ipython",
    "version": 2
   },
   "file_extension": ".py",
   "mimetype": "text/x-python",
   "name": "python",
   "nbconvert_exporter": "python",
   "pygments_lexer": "ipython2",
   "version": "2.7.6"
  },
  "pycharm": {
   "stem_cell": {
    "cell_type": "raw",
    "source": [],
    "metadata": {
     "collapsed": false
    }
   }
  }
 },
 "nbformat": 4,
 "nbformat_minor": 0
}
