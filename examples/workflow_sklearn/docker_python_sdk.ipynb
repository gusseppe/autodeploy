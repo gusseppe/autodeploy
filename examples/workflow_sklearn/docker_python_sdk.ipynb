{
 "cells": [
  {
   "cell_type": "markdown",
   "metadata": {},
   "source": [
    "# Testing"
   ]
  },
  {
   "cell_type": "code",
   "execution_count": 1,
   "metadata": {},
   "outputs": [],
   "source": [
    "import docker\n",
    "client = docker.from_env()"
   ]
  },
  {
   "cell_type": "code",
   "execution_count": 6,
   "metadata": {},
   "outputs": [
    {
     "data": {
      "text/plain": [
       "[<Image: 'autonomicbsc/workflow_api:latest', 'my-model:latest'>,\n",
       " <Image: 'autonomicbsc/workflow_master:latest'>,\n",
       " <Image: 'autonomicbsc/workflow_server:latest'>,\n",
       " <Image: 'autonomicbsc/workflow_worker:latest'>,\n",
       " <Image: 'autonomicbsc/cluster_hadoop_spark_python:latest'>,\n",
       " <Image: 'gusseppe/sparkhadoopcluster:latest'>,\n",
       " <Image: 'ubuntu:16.04'>,\n",
       " <Image: 'mlflow-docker-example-c11e2a0:latest'>,\n",
       " <Image: 'mlflow-docker-example:latest'>,\n",
       " <Image: 'continuumio/miniconda3:latest'>,\n",
       " <Image: 'drp:latest'>,\n",
       " <Image: 'ubuntu:latest'>,\n",
       " <Image: 'gusseppe/catnip:latest'>,\n",
       " <Image: 'jupyter/pyspark-notebook:latest'>,\n",
       " <Image: 'continuumio/miniconda:4.5.4'>,\n",
       " <Image: 'python:3-onbuild'>,\n",
       " <Image: 'prakhar1989/static-site:latest'>]"
      ]
     },
     "execution_count": 6,
     "metadata": {},
     "output_type": "execute_result"
    }
   ],
   "source": [
    "client.images.list()"
   ]
  },
  {
   "cell_type": "code",
   "execution_count": 7,
   "metadata": {},
   "outputs": [
    {
     "data": {
      "text/plain": [
       "[<Image: 'hello-world:latest', 'hello-world:linux'>]"
      ]
     },
     "execution_count": 7,
     "metadata": {},
     "output_type": "execute_result"
    }
   ],
   "source": [
    "client.images.pull('hello-world')"
   ]
  },
  {
   "cell_type": "code",
   "execution_count": 15,
   "metadata": {},
   "outputs": [
    {
     "data": {
      "text/plain": [
       "'4f7ee4f89dc59100bdc45d400407b54a7f1f4d6b540f3e78adebe01fd10a2e10'"
      ]
     },
     "execution_count": 15,
     "metadata": {},
     "output_type": "execute_result"
    }
   ],
   "source": [
    "container = client.containers.run('hello-world', detach=True)\n",
    "container.id"
   ]
  },
  {
   "cell_type": "code",
   "execution_count": 23,
   "metadata": {},
   "outputs": [
    {
     "data": {
      "text/plain": [
       "'created'"
      ]
     },
     "execution_count": 23,
     "metadata": {},
     "output_type": "execute_result"
    }
   ],
   "source": [
    "container.status"
   ]
  },
  {
   "cell_type": "code",
   "execution_count": 25,
   "metadata": {},
   "outputs": [
    {
     "data": {
      "text/plain": [
       "b'\\nHello from Docker!\\nThis message shows that your installation appears to be working correctly.\\n\\nTo generate this message, Docker took the following steps:\\n 1. The Docker client contacted the Docker daemon.\\n 2. The Docker daemon pulled the \"hello-world\" image from the Docker Hub.\\n    (amd64)\\n 3. The Docker daemon created a new container from that image which runs the\\n    executable that produces the output you are currently reading.\\n 4. The Docker daemon streamed that output to the Docker client, which sent it\\n    to your terminal.\\n\\nTo try something more ambitious, you can run an Ubuntu container with:\\n $ docker run -it ubuntu bash\\n\\nShare images, automate workflows, and more with a free Docker ID:\\n https://hub.docker.com/\\n\\nFor more examples and ideas, visit:\\n https://docs.docker.com/get-started/\\n\\n'"
      ]
     },
     "execution_count": 25,
     "metadata": {},
     "output_type": "execute_result"
    }
   ],
   "source": [
    "client.containers.get(container.id).logs()"
   ]
  },
  {
   "cell_type": "code",
   "execution_count": 26,
   "metadata": {},
   "outputs": [],
   "source": [
    "container = client.containers.run('ubuntu', name='ubuntu_ctn', \n",
    "                                  command=\"/bin/bash\", tty=True,detach=True)"
   ]
  },
  {
   "cell_type": "markdown",
   "metadata": {},
   "source": [
    "# Rewritting"
   ]
  },
  {
   "cell_type": "code",
   "execution_count": 30,
   "metadata": {},
   "outputs": [
    {
     "name": "stdout",
     "output_type": "stream",
     "text": [
      "api_docker.py  Dockerfile.app_base    docker_python_sdk.ipynb  scripts\n",
      "build.sh       Dockerfile.app_master  LICENSE\t\t       start.sh\n",
      "config\t       Dockerfile.app_server  requirements.txt\t       steps_deploy_api\n",
      "data\t       Dockerfile.app_worker  run_api\t\t       stop.sh\n"
     ]
    }
   ],
   "source": [
    "!ls"
   ]
  },
  {
   "cell_type": "code",
   "execution_count": 11,
   "metadata": {},
   "outputs": [],
   "source": [
    "import os\n",
    "base_path = '/home/guess/Desktop/autodeploy/examples/workflow_sklearn'\n",
    "path = os.path.join(base_path, 'Dockerfile')"
   ]
  },
  {
   "cell_type": "code",
   "execution_count": 13,
   "metadata": {},
   "outputs": [],
   "source": [
    "image = client.images.build(path=base_path,tag='worker_test')"
   ]
  },
  {
   "cell_type": "code",
   "execution_count": 17,
   "metadata": {},
   "outputs": [],
   "source": [
    "\n",
    "image = client.images.build(path=base_path, dockerfile=path, tag='worker_test')"
   ]
  },
  {
   "cell_type": "code",
   "execution_count": 22,
   "metadata": {},
   "outputs": [
    {
     "data": {
      "text/plain": [
       "'/home/guess/Desktop/autodeploy/examples/workflow_sklearn'"
      ]
     },
     "execution_count": 22,
     "metadata": {},
     "output_type": "execute_result"
    }
   ],
   "source": [
    "os.path.dirname(path)"
   ]
  },
  {
   "cell_type": "code",
   "execution_count": 14,
   "metadata": {},
   "outputs": [
    {
     "data": {
      "text/plain": [
       "<Image: 'hello-world:latest', 'worker_test:latest'>"
      ]
     },
     "execution_count": 14,
     "metadata": {},
     "output_type": "execute_result"
    }
   ],
   "source": [
    "image[0]"
   ]
  },
  {
   "cell_type": "code",
   "execution_count": 54,
   "metadata": {},
   "outputs": [
    {
     "data": {
      "text/plain": [
       "{'ImagesDeleted': None, 'SpaceReclaimed': 0}"
      ]
     },
     "execution_count": 54,
     "metadata": {},
     "output_type": "execute_result"
    }
   ],
   "source": [
    "# client.images.remove('worker_test')\n",
    "client.images.prune()"
   ]
  },
  {
   "cell_type": "code",
   "execution_count": 56,
   "metadata": {},
   "outputs": [
    {
     "data": {
      "text/plain": [
       "{'ContainersDeleted': ['0f19c70aa3f842b4b51448b71a75d8a60d5823ab5b57c4fe244842b70b764ae4',\n",
       "  'f4efd3446d9f34a88e5bdbdf2540de49653946095d3c1ad382d5c209328fd86f',\n",
       "  '4f7ee4f89dc59100bdc45d400407b54a7f1f4d6b540f3e78adebe01fd10a2e10',\n",
       "  'b8a8cac4693dc09148bd0867718c1f465d5ac30018fc04a73053c74c07cdcac1',\n",
       "  'bb8762cf0f1234fad343fa5c5f544f59b6e669bef3103b8bccee361f11757318',\n",
       "  '152f8ee650b6edce423cc994bd35d6705defdf3160a0528a07df7eccfcd1dafb',\n",
       "  '986610c57ad2234eab304fe7a747629bd542aef5d4816b90502dc28997974650',\n",
       "  '6a87ac9cf9790564006949ddc6cbcf96e34b19062385f0b2d97bc6b83e6efb91',\n",
       "  '626d8db20490d874f753e069a18ffe1e2314f29d8e67d835b4155b7574b20b8d',\n",
       "  '1f560b17389da9f0c30e3a156950154a54db8d227943b8477959c19a842b6865'],\n",
       " 'SpaceReclaimed': 2075907165}"
      ]
     },
     "execution_count": 56,
     "metadata": {},
     "output_type": "execute_result"
    }
   ],
   "source": [
    "client.containers.prune()"
   ]
  },
  {
   "cell_type": "code",
   "execution_count": 61,
   "metadata": {},
   "outputs": [
    {
     "data": {
      "text/plain": [
       "[<Image: 'autonomicbsc/workflow_api:latest', 'my-model:latest'>,\n",
       " <Image: 'autonomicbsc/workflow_master:latest'>,\n",
       " <Image: 'autonomicbsc/workflow_server:latest'>,\n",
       " <Image: 'autonomicbsc/workflow_worker:latest'>,\n",
       " <Image: 'autonomicbsc/cluster_hadoop_spark_python:latest'>,\n",
       " <Image: 'gusseppe/sparkhadoopcluster:latest'>,\n",
       " <Image: 'ubuntu:16.04'>,\n",
       " <Image: 'mlflow-docker-example-c11e2a0:latest'>,\n",
       " <Image: 'mlflow-docker-example:latest'>,\n",
       " <Image: 'continuumio/miniconda3:latest'>,\n",
       " <Image: 'drp:latest'>,\n",
       " <Image: 'ubuntu:latest'>,\n",
       " <Image: 'gusseppe/catnip:latest'>,\n",
       " <Image: 'jupyter/pyspark-notebook:latest'>,\n",
       " <Image: 'hello-world:latest', 'hello-world:linux'>,\n",
       " <Image: 'continuumio/miniconda:4.5.4'>,\n",
       " <Image: 'python:3-onbuild'>,\n",
       " <Image: 'prakhar1989/static-site:latest'>]"
      ]
     },
     "execution_count": 61,
     "metadata": {},
     "output_type": "execute_result"
    }
   ],
   "source": [
    "client.images.list()"
   ]
  },
  {
   "cell_type": "code",
   "execution_count": 66,
   "metadata": {},
   "outputs": [],
   "source": [
    "client.containers.list()[0].stop()"
   ]
  },
  {
   "cell_type": "code",
   "execution_count": 68,
   "metadata": {},
   "outputs": [],
   "source": [
    "client.images.remove('fce289e99eb9', force=True)"
   ]
  },
  {
   "cell_type": "code",
   "execution_count": 139,
   "metadata": {},
   "outputs": [],
   "source": [
    "#!/usr/bin/python\n",
    "# -*- coding: utf-8 -*-\n",
    "\n",
    "# Author: Gusseppe Bravo <gbravor@uni.pe>\n",
    "# License: BSD 3 clause\n",
    "\n",
    "import docker\n",
    "import errno\n",
    "\n",
    "client = docker.from_env()\n",
    "\n",
    "class Setup:\n",
    "    def __init__(self,\n",
    "                 single_file,\n",
    "                 master_file=None,\n",
    "                 worker_file=None,\n",
    "                 n_workers=2,\n",
    "                 type_app='single'):\n",
    "        \"\"\"\n",
    "        Example:\n",
    "            setup = Setup(single_file='/home/user/Dockerfile')\n",
    "\n",
    "        Parameters:\n",
    "            single_file (str): Path to a Dockerfile, single mode.\n",
    "            master_file (str): Path to a Dockerfile, cluster mode.\n",
    "            worker_file (str): Path to a Dockerfile, cluster mode.\n",
    "            n_workers (int): if type_app=='cluster' then it means the \n",
    "                             number of slaves (workers)\n",
    "            type_app (str): Type of platform.\n",
    "        \n",
    "        \"\"\"    \n",
    "        self.type_app = type_app\n",
    "        self.single_file = single_file\n",
    "        self.master_file = master_file\n",
    "        self.worker_file = worker_file\n",
    "        self.n_workers = n_workers\n",
    "        self.tag_image = None\n",
    "        self.image = None\n",
    "        self.containers = None\n",
    "        \n",
    "    def build(self, name='app'):\n",
    "        \"\"\"\n",
    "        Build a platform with Docker images.\n",
    "        \n",
    "        Parameters:\n",
    "            name (str): Prefix of a Docker image.\n",
    "        Returns:\n",
    "            image (object): Docker image.\n",
    "        \"\"\"\n",
    "        if self.type_app == 'single':\n",
    "            base_path = os.path.dirname(self.single_file)\n",
    "            self.tag_image = name+'_'+self.type_app\n",
    "            image = client.images.build(path=base_path, \n",
    "                                        dockerfile=self.single_file, \n",
    "                                        tag=self.tag_image)\n",
    "            self.image = image\n",
    "            \n",
    "            return image\n",
    "        \n",
    "    def run(self, name='app'):\n",
    "        \"\"\"\n",
    "        Run a platform with Docker containers.\n",
    "        \n",
    "        Parameters:\n",
    "            name (str): Prefix of a Docker container.\n",
    "        Returns:\n",
    "            image (object): Docker container.\n",
    "        \"\"\"\n",
    "        if self.type_app == 'single':\n",
    "            ports = {'8001/tcp': 8001}  \n",
    "            host_path = os.path.join(os.path.abspath('.'), 'app_single')\n",
    "            try:\n",
    "                print(host_path)\n",
    "                os.makedirs(host_path)\n",
    "            except OSError as exception:\n",
    "                if exception.errno != errno.EEXIST:\n",
    "                    raise\n",
    "            container_path = '/root/project'\n",
    "            volumen = {host_path: {'bind': container_path, 'mode': 'rw'}}\n",
    "            container = client.containers.run(self.tag_image, name=self.tag_image, \n",
    "                                              tty=True, detach=True,\n",
    "                                              volumes=volumen, ports=ports)\n",
    "            \n",
    "            self.containers = [container]\n",
    "            \n",
    "            return container"
   ]
  },
  {
   "cell_type": "code",
   "execution_count": 140,
   "metadata": {},
   "outputs": [
    {
     "data": {
      "text/plain": [
       "<__main__.Setup at 0x7f5dd9bf5898>"
      ]
     },
     "execution_count": 140,
     "metadata": {},
     "output_type": "execute_result"
    }
   ],
   "source": [
    "single_file = '/home/guess/Desktop/autodeploy/examples/workflow_sklearn/Dockerfile.app'\n",
    "# single_file = '/home/guess/Desktop/autodeploy/examples/workflow_sklearn/Dockerfile'\n",
    "s = Setup(single_file)\n",
    "s"
   ]
  },
  {
   "cell_type": "code",
   "execution_count": 141,
   "metadata": {},
   "outputs": [
    {
     "data": {
      "text/plain": [
       "(<Image: 'app_single:latest'>, <itertools._tee at 0x7f5dd9c01288>)"
      ]
     },
     "execution_count": 141,
     "metadata": {},
     "output_type": "execute_result"
    }
   ],
   "source": [
    "image = s.build()\n",
    "image"
   ]
  },
  {
   "cell_type": "code",
   "execution_count": 121,
   "metadata": {},
   "outputs": [
    {
     "name": "stdout",
     "output_type": "stream",
     "text": [
      "/home/guess/Desktop/autodeploy/examples/workflow_sklearn/app_single\n"
     ]
    },
    {
     "data": {
      "text/plain": [
       "<Container: 2ce2fcc41b>"
      ]
     },
     "execution_count": 121,
     "metadata": {},
     "output_type": "execute_result"
    }
   ],
   "source": [
    "container = s.run()\n",
    "container"
   ]
  },
  {
   "cell_type": "code",
   "execution_count": 144,
   "metadata": {},
   "outputs": [
    {
     "data": {
      "text/plain": [
       "True"
      ]
     },
     "execution_count": 144,
     "metadata": {},
     "output_type": "execute_result"
    }
   ],
   "source": [
    "container.name"
   ]
  },
  {
   "cell_type": "code",
   "execution_count": 137,
   "metadata": {},
   "outputs": [
    {
     "data": {
      "text/plain": [
       "ExecResult(exit_code=0, output=b'inside python\\n')"
      ]
     },
     "execution_count": 137,
     "metadata": {},
     "output_type": "execute_result"
    }
   ],
   "source": [
    "container.exec_run(cmd='python test.py')"
   ]
  },
  {
   "cell_type": "code",
   "execution_count": null,
   "metadata": {},
   "outputs": [],
   "source": [
    "#!/usr/bin/python\n",
    "# -*- coding: utf-8 -*-\n",
    "\n",
    "# Author: Gusseppe Bravo <gbravor@uni.pe>\n",
    "# License: BSD 3 clause\n",
    "\n",
    "import docker\n",
    "import errno\n",
    "\n",
    "client = docker.from_env()\n",
    "\n",
    "class Deploy:\n",
    "    def __init__(self,\n",
    "                 container, workflow):\n",
    "        \"\"\"\n",
    "        Example:\n",
    "            deploy = Deploy(container, workflow)\n",
    "\n",
    "        Parameters:\n",
    "            container (object): Container, single mode.\n",
    "            workflow (dict): Dict of python files.\n",
    "        \n",
    "        \"\"\"    \n",
    "        self.container = container\n",
    "        self.workflow = workflow\n",
    "        \n",
    "    def run_workflow(self):\n",
    "        \"\"\"\n",
    "        Build a platform with Docker images.\n",
    "        \n",
    "        Parameters:\n",
    "            name (str): Prefix of a Docker image.\n",
    "        Returns:\n",
    "            image (object): Docker image.\n",
    "        \"\"\"\n",
    "        if self.type_app == 'single':\n",
    "            base_path = os.path.dirname(self.single_file)\n",
    "            self.tag_image = name+'_'+self.type_app\n",
    "            image = client.images.build(path=base_path, \n",
    "                                        dockerfile=self.single_file, \n",
    "                                        tag=self.tag_image)\n",
    "            return image\n",
    "        \n",
    "    def deploy(self, name='app'):\n",
    "        \"\"\"\n",
    "        Run a platform with Docker containers.\n",
    "        \n",
    "        Parameters:\n",
    "            name (str): Prefix of a Docker container.\n",
    "        Returns:\n",
    "            image (object): Docker container.\n",
    "        \"\"\"\n",
    "        if self.type_app == 'single':\n",
    "            ports = {'8001/tcp': 8001}  \n",
    "            host_path = os.path.join(os.path.abspath('.'), 'app_single')\n",
    "            try:\n",
    "                print(host_path)\n",
    "                os.makedirs(host_path)\n",
    "            except OSError as exception:\n",
    "                if exception.errno != errno.EEXIST:\n",
    "                    raise\n",
    "            container_path = '/root/project'\n",
    "            volumen = {host_path: {'bind': container_path, 'mode': 'rw'}}\n",
    "            container = client.containers.run(self.tag_image, name=self.tag_image, \n",
    "                                              tty=True, detach=True,\n",
    "                                              volumes=volumen, ports=ports)\n",
    "                       \n",
    "            return container"
   ]
  }
 ],
 "metadata": {
  "kernelspec": {
   "display_name": "Python 3",
   "language": "python",
   "name": "python3"
  },
  "language_info": {
   "codemirror_mode": {
    "name": "ipython",
    "version": 3
   },
   "file_extension": ".py",
   "mimetype": "text/x-python",
   "name": "python",
   "nbconvert_exporter": "python",
   "pygments_lexer": "ipython3",
   "version": "3.6.5"
  }
 },
 "nbformat": 4,
 "nbformat_minor": 2
}
