{
 "cells": [
  {
   "cell_type": "code",
   "execution_count": 1,
   "metadata": {},
   "outputs": [],
   "source": [
    "%load_ext autoreload\n",
    "%autoreload 2"
   ]
  },
  {
   "cell_type": "markdown",
   "metadata": {},
   "source": [
    "# Demo: version 1\n",
    "\n",
    "## Goal: Make a basic functional demo and refine in each iteration.\n",
    "\n",
    "\n",
    "**TODO:**\n",
    "\n",
    "- Create a Docker container for each node in the pipeline.\n",
    "- Commit those containers into Docker registry locally as images.\n",
    "- Gather images from registry on demand.\n"
   ]
  },
  {
   "cell_type": "markdown",
   "metadata": {},
   "source": [
    "![](autodeploy.png)"
   ]
  },
  {
   "cell_type": "markdown",
   "metadata": {},
   "source": [
    "## Create docker containers for each stage"
   ]
  },
  {
   "cell_type": "code",
   "execution_count": 1,
   "metadata": {},
   "outputs": [
    {
     "name": "stderr",
     "output_type": "stream",
     "text": [
      "05-Nov-19 14:34:37 -  INFO - Building platform, type: single.\n",
      "05-Nov-19 14:34:37 -  INFO - Dockerfile was found.\n",
      "05-Nov-19 14:34:37 -  INFO - MLproject was found.\n",
      "05-Nov-19 14:34:37 -  WARNING - Image: app_single already exists.\n",
      "05-Nov-19 14:34:37 -  INFO - Creating each container, type: single.\n",
      "05-Nov-19 14:34:38 -  INFO - Node is running as [gathering] container.\n",
      "05-Nov-19 14:34:38 -  INFO - Creating each container, type: single.\n",
      "05-Nov-19 14:34:39 -  INFO - Node is running as [preprocessing] container.\n",
      "05-Nov-19 14:34:39 -  INFO - Creating each container, type: single.\n",
      "05-Nov-19 14:34:39 -  INFO - Node is running as [modeling] container.\n"
     ]
    },
    {
     "data": {
      "text/plain": [
       "\n",
       "Platform = (\n",
       "    image: app_single,\n",
       "    container: None,\n",
       "    type=single),\n",
       "    server=0.0.0.0:8001),"
      ]
     },
     "execution_count": 1,
     "metadata": {},
     "output_type": "execute_result"
    }
   ],
   "source": [
    "from autodeploy.setup import setup\n",
    "\n",
    "# App folder\n",
    "app_dir = '/home/guess/Desktop/autodeploy/examples/leaf2'\n",
    "\n",
    "# Workflow\n",
    "workflow = {'gathering': 'gathering.py',\n",
    "            'preprocessing': 'preprocessing.py',\n",
    "            'modeling': 'modeling.py',\n",
    "            'main': 'main.py'}\n",
    "\n",
    "platform = setup.Setup(app_dir, workflow)\n",
    "\n",
    "platform.build()\n",
    "platform.run_each_node(node_name='gathering')\n",
    "platform.run_each_node(node_name='preprocessing')\n",
    "platform.run_each_node(node_name='modeling')\n",
    "\n",
    "\n",
    "platform"
   ]
  },
  {
   "cell_type": "code",
   "execution_count": 2,
   "metadata": {},
   "outputs": [
    {
     "data": {
      "text/plain": [
       "{'gathering': <Container: 2e4eb73fc1>,\n",
       " 'preprocessing': <Container: 0fbf8cafb6>,\n",
       " 'modeling': <Container: 39d147a12f>}"
      ]
     },
     "execution_count": 2,
     "metadata": {},
     "output_type": "execute_result"
    }
   ],
   "source": [
    "platform.pipeline"
   ]
  },
  {
   "cell_type": "code",
   "execution_count": 3,
   "metadata": {},
   "outputs": [
    {
     "name": "stdout",
     "output_type": "stream",
     "text": [
      "CONTAINER ID        IMAGE               COMMAND                  CREATED             STATUS              PORTS                    NAMES\n",
      "39d147a12f49        app_single          \"/usr/bin/tini -- /b…\"   6 seconds ago       Up 5 seconds                                 modeling\n",
      "0fbf8cafb61f        app_single          \"/usr/bin/tini -- /b…\"   7 seconds ago       Up 5 seconds                                 preprocessing\n",
      "2e4eb73fc104        app_single          \"/usr/bin/tini -- /b…\"   8 seconds ago       Up 6 seconds                                 gathering\n",
      "2bd3d42b8b31        registry:2          \"/entrypoint.sh /etc…\"   25 minutes ago      Up 25 minutes       0.0.0.0:5000->5000/tcp   registry\n"
     ]
    }
   ],
   "source": [
    "!docker ps"
   ]
  },
  {
   "cell_type": "markdown",
   "metadata": {},
   "source": [
    "## Docker Registry"
   ]
  },
  {
   "cell_type": "markdown",
   "metadata": {},
   "source": [
    "**What it is**\n",
    "\n",
    "The Registry is a stateless, highly scalable server side application that stores and lets you distribute Docker images. The Registry is open-source, under the permissive Apache license.\n",
    "\n",
    "**Why use it**\n",
    "\n",
    "You should use the Registry if you want to:\n",
    "\n",
    "tightly control where your images are being stored\n",
    "fully own your images distribution pipeline\n",
    "integrate image storage and distribution tightly into your in-house development workflow\n",
    "\n",
    "**Use cases**\n",
    "\n",
    "Running your own Registry is a great solution to integrate with and complement your CI/CD system. In a typical workflow, a commit to your source revision control system would trigger a build on your CI system, which would then push a new image to your Registry if the build is successful. A notification from the Registry would then trigger a deployment on a staging environment, or notify other systems that a new image is available.\n",
    "\n",
    "It’s also an essential component if you want to quickly deploy a new image over a large cluster of machines.\n",
    "\n",
    "Finally, it’s the best way to distribute images inside an isolated network.\n",
    "\n",
    "Source: Docker"
   ]
  },
  {
   "cell_type": "code",
   "execution_count": 5,
   "metadata": {},
   "outputs": [],
   "source": [
    "platform.create_registry()\n",
    "# platform"
   ]
  },
  {
   "cell_type": "code",
   "execution_count": 7,
   "metadata": {},
   "outputs": [
    {
     "name": "stdout",
     "output_type": "stream",
     "text": [
      "CONTAINER ID        IMAGE               COMMAND                  CREATED             STATUS              PORTS                    NAMES\n",
      "2bd3d42b8b31        registry:2          \"/entrypoint.sh /etc…\"   2 minutes ago       Up 2 minutes        0.0.0.0:5000->5000/tcp   registry\n",
      "cf7a204f5426        app_single          \"/usr/bin/tini -- /b…\"   8 minutes ago       Up 8 minutes                                 modeling\n",
      "ed31e4afa3bf        app_single          \"/usr/bin/tini -- /b…\"   8 minutes ago       Up 8 minutes                                 preprocessing\n",
      "cff897429f84        app_single          \"/usr/bin/tini -- /b…\"   8 minutes ago       Up 8 minutes                                 gathering\n"
     ]
    }
   ],
   "source": [
    "!docker ps"
   ]
  },
  {
   "cell_type": "code",
   "execution_count": 6,
   "metadata": {},
   "outputs": [],
   "source": [
    "# platform.stop_pipeline()"
   ]
  },
  {
   "cell_type": "markdown",
   "metadata": {},
   "source": [
    "### Commit each container into the registry"
   ]
  },
  {
   "cell_type": "code",
   "execution_count": 4,
   "metadata": {},
   "outputs": [
    {
     "name": "stderr",
     "output_type": "stream",
     "text": [
      "05-Nov-19 14:34:54 -  INFO - Committing containers, type: single.\n",
      "05-Nov-19 14:34:54 -  INFO - Committing [gathering] to registry [registry].\n",
      "05-Nov-19 14:34:55 -  INFO - Committing [preprocessing] to registry [registry].\n",
      "05-Nov-19 14:34:55 -  INFO - Committing [modeling] to registry [registry].\n"
     ]
    }
   ],
   "source": [
    "platform.commit_each_node(registry_name='registry')"
   ]
  },
  {
   "cell_type": "code",
   "execution_count": 5,
   "metadata": {},
   "outputs": [
    {
     "name": "stdout",
     "output_type": "stream",
     "text": [
      "REPOSITORY               TAG                 IMAGE ID            CREATED              SIZE\n",
      "registry                 modeling            90a5574e71b7        About a minute ago   887MB\n",
      "registry                 preprocessing       e58fb3caf3e4        About a minute ago   887MB\n",
      "registry                 gathering           779b8278dd58        About a minute ago   887MB\n",
      "app_single_api           latest              36c94ea8535c        8 days ago           2.93GB\n",
      "app_single               latest              4a17b70853c1        12 days ago          887MB\n",
      "ubuntu                   16.04               2a697363a870        5 months ago         119MB\n",
      "continuumio/miniconda3   latest              6b5cf97566c3        6 months ago         457MB\n",
      "registry                 2                   f32a97de94e1        8 months ago         25.8MB\n"
     ]
    }
   ],
   "source": [
    "!docker image ls"
   ]
  },
  {
   "cell_type": "code",
   "execution_count": 6,
   "metadata": {},
   "outputs": [
    {
     "name": "stdout",
     "output_type": "stream",
     "text": [
      "IMAGE               CREATED             CREATED BY                                      SIZE                COMMENT\n",
      "90a5574e71b7        7 minutes ago       /bin/bash                                       0B                  First commit\n",
      "4a17b70853c1        12 days ago         /bin/sh -c pip install -r requirements.txt      429MB               \n",
      "df08e700b449        12 days ago         /bin/sh -c #(nop) WORKDIR /root/project         0B                  \n",
      "edeae4e601e4        12 days ago         /bin/sh -c #(nop) ADD file:60f640951aa9fd36b…   47B                 \n",
      "90177221a03e        12 days ago         /bin/sh -c mkdir -p /root/project               0B                  \n",
      "217fefab8ec9        5 months ago        /bin/sh -c #(nop)  USER root                    0B                  \n",
      "6b5cf97566c3        6 months ago        /bin/sh -c #(nop)  CMD [\"/bin/bash\"]            0B                  \n",
      "<missing>           6 months ago        /bin/sh -c #(nop)  ENTRYPOINT [\"/usr/bin/tin…   0B                  \n",
      "<missing>           6 months ago        /bin/sh -c chmod +x /usr/bin/tini               20kB                \n",
      "<missing>           6 months ago        /bin/sh -c #(nop) ADD fcc011174ff1c034ee60c6…   20kB                \n",
      "<missing>           6 months ago        /bin/sh -c #(nop)  ENV TINI_VERSION=v0.16.1     0B                  \n",
      "<missing>           6 months ago        /bin/sh -c wget --quiet https://repo.anacond…   252MB               \n",
      "<missing>           6 months ago        /bin/sh -c apt-get update --fix-missing &&  …   105MB               \n",
      "<missing>           6 months ago        /bin/sh -c #(nop)  ENV PATH=/opt/conda/bin:/…   0B                  \n",
      "<missing>           6 months ago        /bin/sh -c #(nop)  ENV LANG=C.UTF-8 LC_ALL=C…   0B                  \n",
      "<missing>           7 months ago        /bin/sh -c #(nop)  CMD [\"bash\"]                 0B                  \n",
      "<missing>           7 months ago        /bin/sh -c #(nop) ADD file:843b8a2a9df1a0730…   101MB               \n"
     ]
    }
   ],
   "source": [
    "!docker history 90a5574e71b7"
   ]
  },
  {
   "cell_type": "markdown",
   "metadata": {},
   "source": [
    "![](https://github.com/CenturyLinkLabs/docker-image-graph/raw/master/sample-cmd.png)"
   ]
  },
  {
   "cell_type": "code",
   "execution_count": null,
   "metadata": {},
   "outputs": [],
   "source": [
    "\n"
   ]
  }
 ],
 "metadata": {
  "kernelspec": {
   "display_name": "Python 3",
   "language": "python",
   "name": "python3"
  },
  "language_info": {
   "codemirror_mode": {
    "name": "ipython",
    "version": 3
   },
   "file_extension": ".py",
   "mimetype": "text/x-python",
   "name": "python",
   "nbconvert_exporter": "python",
   "pygments_lexer": "ipython3",
   "version": "3.7.3"
  }
 },
 "nbformat": 4,
 "nbformat_minor": 2
}
