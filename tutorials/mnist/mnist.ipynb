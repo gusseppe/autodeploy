{
 "cells": [
  {
   "cell_type": "markdown",
   "metadata": {
    "slideshow": {
     "slide_type": "slide"
    },
    "tags": []
   },
   "source": [
    "# **End-to-end MNIST classifier** 🔢"
   ]
  },
  {
   "cell_type": "markdown",
   "metadata": {},
   "source": [
    "## **Installation** \n",
    "\n",
    "- Install Docker and Conda.\n",
    "- sudo usermod -aG docker \"$USER\" (on Linux)\n",
    "- conda create -n scanflow python=3.6\n",
    "- source activate scanflow\n",
    "- git clone https://github.com/gusseppe/scanflow\n",
    "- cd scanflow\n",
    "- pip install -r requirements.txt\n",
    "\n",
    "**In the future**\n",
    "\n",
    "> Install Docker and Conda.\n",
    "\n",
    "> pip install scanflow"
   ]
  },
  {
   "cell_type": "markdown",
   "metadata": {},
   "source": [
    "## **Run scanflow server** \n",
    "\n",
    "It starts the **Scanflow UI** (dashboard) and **Scanflow API** (REST):\n",
    "\n",
    "- python cli.py server\n",
    "\n",
    "Then go to:\n",
    "\n",
    "- http://localhost:8050\n",
    "\n",
    "Note: By default server_port = 8050.\n",
    "\n",
    "Use python cli.py --help for more information."
   ]
  },
  {
   "cell_type": "markdown",
   "metadata": {
    "slideshow": {
     "slide_type": "slide"
    },
    "tags": []
   },
   "source": [
    "## **Steps**\n",
    "\n",
    "- **Training**: Define the training executor using Pytorch and the MNIST data.\n",
    "- **Inference**: Define the inference executor to make predictions using a trained model.\n",
    "    - **Agents**: Define the Tracker, Checker, Improver and Planner agent.\n",
    "- **Detector training**: Define a detector training executor that will be trained on x_train. Built-in Scanflow executor (from submitted paper).\n",
    "- **Detector Inference**: Define a detector inference executor for both detect anomalies and pick a subset of them for retraining. It will be used by the Checker agent. Built-in Scanflow executor (from submitted paper).(https://colab.research.google.com/drive/1t0EgpPk5_mEMNb_AvN7yJ_Tz88bqgS9A). \n",
    "- **Retraining**: Define a retraining executor to retrain the model using x_train + x_chosen. It will be used by the Improver agent. Built-in Scanflow executor.\n",
    "- **Labeling**: Define a labeling executor to label the x_chosen artifact (Future work). \n",
    "- **Dashboard**: Call the inference executor from a web application."
   ]
  },
  {
   "cell_type": "markdown",
   "metadata": {},
   "source": [
    "# **Definition and Deployment** 📑"
   ]
  },
  {
   "cell_type": "markdown",
   "metadata": {
    "slideshow": {
     "slide_type": "slide"
    },
    "tags": []
   },
   "source": [
    "## Model (training)\n",
    "\n",
    "Let's get some MNIST data to train a CNN-based model."
   ]
  },
  {
   "cell_type": "code",
   "execution_count": 3,
   "metadata": {
    "slideshow": {
     "slide_type": "slide"
    },
    "tags": []
   },
   "outputs": [
    {
     "data": {
      "text/plain": [
       "(1000, 28, 28)"
      ]
     },
     "execution_count": 3,
     "metadata": {},
     "output_type": "execute_result"
    }
   ],
   "source": [
    "import utils\n",
    "x_train_sample, y_train_sample = utils.sample_train_mnist()\n",
    "x_train_sample.shape"
   ]
  },
  {
   "cell_type": "markdown",
   "metadata": {},
   "source": [
    "We load only 1k instances (from the original 60k) to make the training faster hence the accuracy will be lower as well."
   ]
  },
  {
   "cell_type": "code",
   "execution_count": 4,
   "metadata": {
    "slideshow": {
     "slide_type": "slide"
    },
    "tags": []
   },
   "outputs": [
    {
     "data": {
      "image/png": "[encoded data removed]",
      "text/plain": [
       "<Figure size 360x360 with 9 Axes>"
      ]
     },
     "metadata": {},
     "output_type": "display_data"
    }
   ],
   "source": [
    "utils.show_numbers(x_train_sample, y_train_sample, title=f\"MNIST sample\")"
   ]
  },
  {
   "cell_type": "markdown",
   "metadata": {},
   "source": [
    "Here we start the training executor definition. We need the following things:\n",
    "\n",
    "**Input**\n",
    "- Python script: training.py\n",
    "- Parameters for the script: model_name, x_train_path, y_train_path, etc.\n",
    "- requirements: req_training.txt, the required libraries to build the training image.\n",
    "\n",
    "**Output**\n",
    "- The input dataset for both training and testing (x_train, x_test, ...) will be saved in Tracker Repository (MLflow) to have a data version control.\n",
    "- Model (mnist_cnn) and version (1,2,3 and on) will be saved and registered in the Tracker Repository. It will save the artifacts (serialized model) and register the model in the Model Registry.\n",
    "\n",
    "Eventually, the data scientist will select a model version (from the Model Registry) and tag it as a \"Production\" Model. So that, this model will be use in the Inference stage."
   ]
  },
  {
   "cell_type": "code",
   "execution_count": 1,
   "metadata": {
    "slideshow": {
     "slide_type": "slide"
    },
    "tags": []
   },
   "outputs": [
    {
     "name": "stderr",
     "output_type": "stream",
     "text": [
      "27-Apr-21 00:17:10 -  INFO - [Tracker] Port 8002 is in use by Tracker.\n"
     ]
    },
    {
     "data": {
      "text/plain": [
       "\n",
       "Setup = (\n",
       "    Workflows: ['training-mnist']\n",
       ")"
      ]
     },
     "execution_count": 1,
     "metadata": {},
     "output_type": "execute_result"
    }
   ],
   "source": [
    "import matplotlib.pyplot as plt\n",
    "import os\n",
    "import sys\n",
    "\n",
    "sys.path.insert(1,'../..')\n",
    "from scanflow.setup import Setup, Executor, Workflow\n",
    "from scanflow.special import Tracker\n",
    "from scanflow.deploy import Deploy\n",
    "\n",
    "# workflow folder that contains all the scripts\n",
    "base_path = os.path.dirname(os.path.dirname(os.getcwd()))\n",
    "app_dir = os.path.join(base_path, \"examples/demo_mnist/\")\n",
    "\n",
    "# We can define a list of executors. In this case, we only have one executor.\n",
    "executors = [Executor(name='training', \n",
    "                      file='training.py',\n",
    "                      parameters={'model_name': 'mnist_cnn',\n",
    "                                  \n",
    "                                  'x_train_path': './mnist_sample/train_images.npy', \n",
    "                                  'y_train_path': './mnist_sample/train_labels.npy',\n",
    "                                  \n",
    "                                  'x_test_path': './mnist/test_images.npy',\n",
    "                                  'y_test_path': './mnist/test_labels.npy'},\n",
    "                      requirements='req_training.txt')           \n",
    "            ]\n",
    "\n",
    "# A workflow contains a list of executors and also special nodes. \n",
    "# In this case, we have only one offline special node: Tracker MLflow.\n",
    "workflow1 = Workflow(name='training-mnist', \n",
    "                     executors=executors,\n",
    "                     tracker=Tracker(mode='offline')) # No agents involved\n",
    "    \n",
    "setup = Setup(app_dir, workflows=[workflow1],\n",
    "                             verbose=True)\n",
    "\n",
    "setup"
   ]
  },
  {
   "cell_type": "markdown",
   "metadata": {},
   "source": [
    "All the experiments will be saved at MLflow UI: http://localhost:8002 (Tracker repository). It contains also the Model registry (where all the model versions are registered)."
   ]
  },
  {
   "cell_type": "markdown",
   "metadata": {},
   "source": [
    "Once we have defined the training executor we can then build the corresponding images and start the workflow."
   ]
  },
  {
   "cell_type": "code",
   "execution_count": 2,
   "metadata": {},
   "outputs": [
    {
     "name": "stderr",
     "output_type": "stream",
     "text": [
      "  0%|          | 0/1 [00:00<?, ?it/s]27-Apr-21 00:17:13 -  INFO - [++] Starting workflow: [training-mnist].\n",
      "27-Apr-21 00:17:13 -  INFO - [+] Starting env: [training-mnist:training].\n",
      "27-Apr-21 00:17:13 -  WARNING - [+] Environment: [training-mnist-training] is already running.\n",
      "27-Apr-21 00:17:13 -  INFO - [+] Starting image: [tracker-mlflow.\n",
      "27-Apr-21 00:17:13 -  WARNING - [+] Environment: [tracker-mlflow] is already running.\n",
      "27-Apr-21 00:17:13 -  INFO - [+] Loading [containers_alive.json].\n",
      "27-Apr-21 00:17:13 -  INFO - [-] Creating new [containers_alive.json].\n",
      "27-Apr-21 00:17:13 -  INFO - [Tracker]  'Scanflow' experiment loaded.\n",
      "27-Apr-21 00:17:14 -  INFO - [+] Workflow: [training-mnist] was started successfully.\n",
      "100%|██████████| 1/1 [00:00<00:00,  2.22it/s]\n"
     ]
    }
   ],
   "source": [
    "deployer = Deploy(setup)\n",
    "\n",
    "deployer.build_workflows()\n",
    "deployer.start_workflows(True)"
   ]
  },
  {
   "cell_type": "markdown",
   "metadata": {},
   "source": [
    "Now we have a Docker container of name: {workflow-name}-{executor-name} running on the computer.\n",
    "\n",
    "Then, we run the workflow to execute the script (in our case, training.py) inside the new created container. It performs the model training and then save a model version on Model Registry.\n"
   ]
  },
  {
   "cell_type": "code",
   "execution_count": 3,
   "metadata": {},
   "outputs": [
    {
     "name": "stderr",
     "output_type": "stream",
     "text": [
      "  0%|          | 0/1 [00:00<?, ?it/s]26-Apr-21 23:15:23 -  INFO - [++] Running workflow: [training-mnist].\n",
      "26-Apr-21 23:15:23 -  INFO - [+] Running env: [training-mnist:training].\n",
      "26-Apr-21 23:15:40 -  INFO - [+] Running (training.py). \n",
      "26-Apr-21 23:15:40 -  INFO - [+] Output:  Train Epoch: 1 [0/1000 (0%)]\tLoss: 2.299094\n",
      "Registered model 'mnist_cnn' already exists. Creating a new version of this model...\n",
      "2021/04/26 21:15:40 INFO mlflow.tracking._model_registry.client: Waiting up to 300 seconds for model version to finish creation.                     Model name: mnist_cnn, version 3\n",
      "Created version '3' of model 'mnist_cnn'.\n",
      " \n",
      "26-Apr-21 23:15:40 -  INFO - [+] Environment (training-mnist-training) finished successfully. \n",
      "26-Apr-21 23:15:40 -  INFO - [+] Workflow: [training-mnist] was run successfully.\n",
      "100%|██████████| 1/1 [00:17<00:00, 17.46s/it]\n",
      "26-Apr-21 23:15:40 -  INFO - [+] Elapsed time: 17.46 seconds\n"
     ]
    }
   ],
   "source": [
    "deployer.run_workflows(verbose=True)"
   ]
  },
  {
   "cell_type": "code",
   "execution_count": 10,
   "metadata": {},
   "outputs": [],
   "source": [
    "# Of course you can stop the workflows, it will stop and prune all the created containers.\n",
    "# deployer.stop_workflows()"
   ]
  },
  {
   "cell_type": "markdown",
   "metadata": {},
   "source": [
    "## Model (inference)\n",
    "\n"
   ]
  },
  {
   "cell_type": "markdown",
   "metadata": {},
   "source": [
    "Similar to the training part, we define the inference executor. We need the following:\n",
    "\n",
    "- Python script: inference-batch.py\n",
    "- Parameters for the script: x_inference_path, model_name and model_version.\n",
    "- requirements: req_inference_batch.txt, the required libraries to build the inference image."
   ]
  },
  {
   "cell_type": "markdown",
   "metadata": {},
   "source": [
    "Apart from the inference executor we also define the special agents:\n",
    "- **Tracker**: the one in charge of linking the multi agent system to the outside. For instance, it can get the x_inference and feed to the Checker agent.\n",
    "- **Checker**: this agent calls the detector to get the anomalies and the chosen instances to be considered for the retraining. The Checker's output is the feedback.\n",
    "- **Improver**: it decides what to do with the feedback. For instance, if n_anomalies > threshold, then perform a retraining with x_train + x_chosen.\n",
    "- **Planner**: this agent receives the order from the Improver to make some changes in the original workflow. For instance, change the current \"Production\" model by the new created model from the Improver."
   ]
  },
  {
   "cell_type": "code",
   "execution_count": 3,
   "metadata": {},
   "outputs": [
    {
     "name": "stderr",
     "output_type": "stream",
     "text": [
      "27-Apr-21 00:18:11 -  INFO - [Tracker] Port 8002 is in use by Tracker.\n",
      "27-Apr-21 00:18:11 -  INFO - [Checker] Port 8004 is set successfully.\n",
      "27-Apr-21 00:18:11 -  INFO - [Improver] Port 8006 is in use by Improver.\n",
      "27-Apr-21 00:18:11 -  INFO - [Planner] Port 8007 is in use by Planner.\n"
     ]
    },
    {
     "data": {
      "text/plain": [
       "\n",
       "Setup = (\n",
       "    Workflows: ['inference-mnist']\n",
       ")"
      ]
     },
     "execution_count": 3,
     "metadata": {},
     "output_type": "execute_result"
    }
   ],
   "source": [
    "import sys\n",
    "import numpy as np\n",
    "import os\n",
    "sys.path.insert(1,'../..')\n",
    "\n",
    "from scanflow.setup import Setup, Executor, Workflow\n",
    "from scanflow.special import Tracker, Checker, Improver, Planner, Predictor\n",
    "from scanflow.deploy import Deploy\n",
    "\n",
    "# workflow folder that contains all the scripts\n",
    "base_path = os.path.dirname(os.path.dirname(os.getcwd()))\n",
    "app_dir = os.path.join(base_path, \"examples/demo_mnist/\")\n",
    "\n",
    "# This executor can receive any mnist model name and version (from Model Registry).\n",
    "# This inference is of type \"batch\", meaning that the inference \n",
    "# is done by a python script (predict) and not an API (REST).\n",
    "\n",
    "executors = [Executor(name='inference-batch', \n",
    "                      file='inference-batch.py',\n",
    "                      parameters={'model_name':'mnist_cnn', 'model_version':1},\n",
    "                      requirements='req_inference_batch.txt')           \n",
    "            ]\n",
    "\n",
    "# \n",
    "workflow1 = Workflow(name='inference-mnist', \n",
    "                     executors=executors,\n",
    "                     tracker=Tracker(mode='online'),\n",
    "                     checker=Checker(mode='online'),\n",
    "                     improver=Improver(mode='online'),\n",
    "                     planner=Planner(mode='online'))\n",
    "    \n",
    "setup = Setup(app_dir, workflows=[workflow1],\n",
    "                             verbose=True)\n",
    "\n",
    "setup"
   ]
  },
  {
   "cell_type": "code",
   "execution_count": 4,
   "metadata": {},
   "outputs": [
    {
     "name": "stderr",
     "output_type": "stream",
     "text": [
      "  0%|          | 0/1 [00:00<?, ?it/s]27-Apr-21 00:18:13 -  INFO - [++] Starting workflow: [inference-mnist].\n",
      "27-Apr-21 00:18:13 -  INFO - [+] Starting env: [inference-mnist:inference-batch].\n",
      "27-Apr-21 00:18:13 -  WARNING - [+] Environment: [inference-mnist-inference-batch] is already running.\n",
      "27-Apr-21 00:18:13 -  INFO - [+] Starting image: [tracker-mlflow.\n",
      "27-Apr-21 00:18:13 -  WARNING - [+] Environment: [tracker-mlflow] is already running.\n",
      "27-Apr-21 00:18:13 -  WARNING - [+] Environment: [inference-mnist-tracker-agent] is already running.\n",
      "27-Apr-21 00:18:13 -  WARNING - [+] Environment: [inference-mnist-checker-agent] is already running.\n",
      "27-Apr-21 00:18:13 -  WARNING - [+] Environment: [inference-mnist-improver-agent] is already running.\n",
      "27-Apr-21 00:18:13 -  WARNING - [+] Environment: [inference-mnist-planner-agent] is already running.\n",
      "27-Apr-21 00:18:13 -  INFO - [+] Loading [containers_alive.json].\n",
      "27-Apr-21 00:18:13 -  INFO - [Tracker]  'Scanflow' experiment loaded.\n",
      "27-Apr-21 00:18:14 -  INFO - [+] Workflow: [inference-mnist] was started successfully.\n",
      "100%|██████████| 1/1 [00:00<00:00,  1.36it/s]\n"
     ]
    }
   ],
   "source": [
    "deployer = Deploy(setup)\n",
    "\n",
    "deployer.build_workflows()\n",
    "deployer.start_workflows(True)\n",
    "# deployer.pipeline() # Build, Start and Run all together"
   ]
  },
  {
   "cell_type": "markdown",
   "metadata": {},
   "source": [
    "## Detector (training)\n",
    "\n",
    "This executor trains the drift detector using the **x_train**. It should learn patterns in the original distribution to then detect if the **x_inference** follows a similar one."
   ]
  },
  {
   "cell_type": "code",
   "execution_count": 5,
   "metadata": {},
   "outputs": [
    {
     "name": "stderr",
     "output_type": "stream",
     "text": [
      "27-Apr-21 00:18:56 -  INFO - [Tracker] Port 8002 is in use by Tracker.\n"
     ]
    },
    {
     "data": {
      "text/plain": [
       "\n",
       "Setup = (\n",
       "    Workflows: ['detector-training-mnist']\n",
       ")"
      ]
     },
     "execution_count": 5,
     "metadata": {},
     "output_type": "execute_result"
    }
   ],
   "source": [
    "import sys\n",
    "import numpy as np\n",
    "import os\n",
    "sys.path.insert(0,'../..')\n",
    "\n",
    "from scanflow.setup import Setup, Executor, Workflow\n",
    "from scanflow.special import Tracker, Checker, Improver, Planner\n",
    "from scanflow.deploy import Deploy\n",
    "\n",
    "# workflow folder that contains all the scripts\n",
    "base_path = os.path.dirname(os.path.dirname(os.getcwd()))\n",
    "app_dir = os.path.join(base_path, \"examples/demo_mnist/\")\n",
    "\n",
    "# This detector-batch comprises an anomaly detector and a picker\n",
    "executors = [Executor(name='detector-training', \n",
    "                      file='detector-training.py',\n",
    "                      parameters={'name': 'detector_mnist',\n",
    "                                  'x_train_path': './mnist_sample/train_images.npy',\n",
    "                                  },\n",
    "                      requirements='req_detector.txt')           \n",
    "            ]\n",
    "\n",
    "\n",
    "workflow1 = Workflow(name='detector-training-mnist', \n",
    "                     executors=executors,\n",
    "                     tracker=Tracker(mode='offline'))\n",
    "    \n",
    "setup = Setup(app_dir, workflows=[workflow1],\n",
    "                             verbose=True)\n",
    "\n",
    "setup"
   ]
  },
  {
   "cell_type": "code",
   "execution_count": 6,
   "metadata": {},
   "outputs": [
    {
     "name": "stderr",
     "output_type": "stream",
     "text": [
      "  0%|          | 0/1 [00:00<?, ?it/s]27-Apr-21 00:18:58 -  INFO - [++] Starting workflow: [detector-training-mnist].\n",
      "27-Apr-21 00:18:58 -  INFO - [+] Starting env: [detector-training-mnist:detector-training].\n",
      "27-Apr-21 00:18:58 -  WARNING - [+] Environment: [detector-training-mnist-detector-training] is already running.\n",
      "27-Apr-21 00:18:58 -  INFO - [+] Starting image: [tracker-mlflow.\n",
      "27-Apr-21 00:18:58 -  WARNING - [+] Environment: [tracker-mlflow] is already running.\n",
      "27-Apr-21 00:18:58 -  INFO - [+] Loading [containers_alive.json].\n",
      "27-Apr-21 00:18:58 -  INFO - [Tracker]  'Scanflow' experiment loaded.\n",
      "27-Apr-21 00:18:59 -  INFO - [+] Workflow: [detector-training-mnist] was started successfully.\n",
      "100%|██████████| 1/1 [00:00<00:00,  4.03it/s]\n"
     ]
    }
   ],
   "source": [
    "deployer = Deploy(setup)\n",
    "\n",
    "deployer.build_workflows()\n",
    "deployer.start_workflows(True)\n",
    "# deployer.pipeline() # Build, Start and Run"
   ]
  },
  {
   "cell_type": "code",
   "execution_count": 7,
   "metadata": {},
   "outputs": [
    {
     "name": "stderr",
     "output_type": "stream",
     "text": [
      "  0%|          | 0/1 [00:00<?, ?it/s]27-Apr-21 00:00:44 -  INFO - [++] Running workflow: [detector-training-mnist].\n",
      "27-Apr-21 00:00:44 -  INFO - [+] Running env: [detector-training-mnist:detector-training].\n",
      "27-Apr-21 00:00:50 -  INFO - [+] Running (detector-training.py). \n",
      "27-Apr-21 00:00:50 -  INFO - [+] Output:  2021-04-26 22:00:45.680132: W tensorflow/stream_executor/platform/default/dso_loader.cc:60] Could not load dynamic library 'libcudart.so.11.0'; dlerror: libcudart.so.11.0: cannot open shared object file: No such file or directory\n",
      "2021-04-26 22:00:45.680344: I tensorflow/stream_executor/cuda/cudart_stub.cc:29] Ignore above cudart dlerror if you do not have a GPU set up on your machine.\n",
      "2021-04-26 22:00:47.872450: I tensorflow/compiler/jit/xla_cpu_device.cc:41] Not creating XLA devices, tf_xla_enable_xla_devices not set\n",
      "2021-04-26 22:00:47.873164: W tensorflow/stream_executor/platform/default/dso_loader.cc:60] Could not load dynamic library 'libcuda.so.1'; dlerror: libcuda.so.1: cannot open shared object file: No such file or directory\n",
      "2021-04-26 22:00:47.873185: W tensorflow/stream_executor/cuda/cuda_driver.cc:326] failed call to cuInit: UNKNOWN ERROR (303)\n",
      "2021-04-26 22:00:47.873220: I tensorflow/stream_executor/cuda/cuda_diagnostics.cc:156] kernel driver does not appear to be running on this host (28565acb16db): /proc/driver/nvidia/version does not exist\n",
      "2021-04-26 22:00:47.873502: I tensorflow/core/platform/cpu_feature_guard.cc:142] This TensorFlow binary is optimized with oneAPI Deep Neural Network Library (oneDNN) to use the following CPU instructions in performance-critical operations:  AVX2 FMA\n",
      "To enable them in other operations, rebuild TensorFlow with the appropriate compiler flags.\n",
      "2021-04-26 22:00:47.873720: I tensorflow/compiler/jit/xla_gpu_device.cc:99] Not creating XLA devices, tf_xla_enable_xla_devices not set\n",
      "2021-04-26 22:00:48.088457: I tensorflow/compiler/mlir/mlir_graph_optimization_pass.cc:116] None of the MLIR optimization passes are enabled (registered 2)\n",
      "2021-04-26 22:00:48.108370: I tensorflow/core/platform/profile_utils/cpu_utils.cc:112] CPU Frequency: 2899885000 Hz\n",
      "2021-04-26 22:00:48.741735: W tensorflow/core/framework/cpu_allocator_impl.cc:80] Allocation of 31610880 exceeds 10% of free system memory.\n",
      "2021-04-26 22:00:48.742173: W tensorflow/core/framework/cpu_allocator_impl.cc:80] Allocation of 31610880 exceeds 10% of free system memory.\n",
      "2021-04-26 22:00:48.793122: W tensorflow/core/framework/cpu_allocator_impl.cc:80] Allocation of 24159744 exceeds 10% of free system memory.\n",
      "2021-04-26 22:00:48.793229: W tensorflow/core/framework/cpu_allocator_impl.cc:80] Allocation of 24159744 exceeds 10% of free system memory.\n",
      "2021-04-26 22:00:48.800991: W tensorflow/core/framework/cpu_allocator_impl.cc:80] Allocation of 25454592 exceeds 10% of free system memory.\n",
      "[+] Training Checker\n",
      "8/8 [==============================] - 2s 152ms/step - loss: 0.2383 - val_loss: 0.2392\n",
      " \n",
      "27-Apr-21 00:00:50 -  INFO - [+] Environment (detector-training-mnist-detector-training) finished successfully. \n",
      "27-Apr-21 00:00:50 -  INFO - [+] Workflow: [detector-training-mnist] was run successfully.\n",
      "100%|██████████| 1/1 [00:05<00:00,  5.93s/it]\n",
      "27-Apr-21 00:00:50 -  INFO - [+] Elapsed time: 5.93 seconds\n"
     ]
    }
   ],
   "source": [
    "deployer.run_workflows(verbose=True)"
   ]
  },
  {
   "cell_type": "code",
   "execution_count": 13,
   "metadata": {},
   "outputs": [],
   "source": [
    "# deployer.stop_workflows()"
   ]
  },
  {
   "cell_type": "markdown",
   "metadata": {},
   "source": [
    "## Detector (inference)\n",
    "\n",
    "This executor contains the detector (for inference) and the picker. This detector will be used by the Checker agent."
   ]
  },
  {
   "cell_type": "code",
   "execution_count": 7,
   "metadata": {},
   "outputs": [
    {
     "name": "stderr",
     "output_type": "stream",
     "text": [
      "27-Apr-21 00:19:02 -  INFO - [Tracker] Port 8002 is in use by Tracker.\n"
     ]
    },
    {
     "data": {
      "text/plain": [
       "\n",
       "Setup = (\n",
       "    Workflows: ['detector-inference-mnist']\n",
       ")"
      ]
     },
     "execution_count": 7,
     "metadata": {},
     "output_type": "execute_result"
    }
   ],
   "source": [
    "import sys\n",
    "import numpy as np\n",
    "import os\n",
    "sys.path.insert(0,'../..')\n",
    "\n",
    "from scanflow.setup import Setup, Executor, Workflow\n",
    "from scanflow.special import Tracker, Checker, Improver, Planner\n",
    "from scanflow.deploy import Deploy\n",
    "\n",
    "# workflow folder that contains all the scripts\n",
    "base_path = os.path.dirname(os.path.dirname(os.getcwd()))\n",
    "app_dir = os.path.join(base_path, \"examples/demo_mnist/\")\n",
    "\n",
    "# This detector-batch comprises an anomaly detector and a picker\n",
    "# It requires the inference run_id from where to get the artifacts.\n",
    "# Apart from the run_id it requires the artifact paths. \n",
    "# Both run_id and artifact paths can be changed dynamically.\n",
    "\n",
    "executors = [Executor(name='detector-batch', \n",
    "                      file='detector-batch.py',\n",
    "                      parameters={'run_id': 'inference_run_id', \n",
    "                                  'x_inference_artifact': 'x_inference.npy',\n",
    "                                  'y_inference_artifact': 'y_inference.npy'\n",
    "                                 },\n",
    "                      requirements='req_detector.txt')           \n",
    "            ]\n",
    "\n",
    "workflow1 = Workflow(name='detector-inference-mnist', \n",
    "                     executors=executors,\n",
    "                     tracker=Tracker(mode='offline'))\n",
    "    \n",
    "setup = Setup(app_dir, workflows=[workflow1],\n",
    "                             verbose=True)\n",
    "\n",
    "setup"
   ]
  },
  {
   "cell_type": "code",
   "execution_count": 8,
   "metadata": {},
   "outputs": [
    {
     "name": "stderr",
     "output_type": "stream",
     "text": [
      "  0%|          | 0/1 [00:00<?, ?it/s]27-Apr-21 00:19:04 -  INFO - [++] Starting workflow: [detector-inference-mnist].\n",
      "27-Apr-21 00:19:04 -  INFO - [+] Starting env: [detector-inference-mnist:detector-batch].\n",
      "27-Apr-21 00:19:04 -  WARNING - [+] Environment: [detector-inference-mnist-detector-batch] is already running.\n",
      "27-Apr-21 00:19:04 -  INFO - [+] Starting image: [tracker-mlflow.\n",
      "27-Apr-21 00:19:04 -  WARNING - [+] Environment: [tracker-mlflow] is already running.\n",
      "27-Apr-21 00:19:04 -  INFO - [+] Loading [containers_alive.json].\n",
      "27-Apr-21 00:19:04 -  INFO - [Tracker]  'Scanflow' experiment loaded.\n",
      "27-Apr-21 00:19:05 -  INFO - [+] Workflow: [detector-inference-mnist] was started successfully.\n",
      "100%|██████████| 1/1 [00:00<00:00,  3.38it/s]\n"
     ]
    }
   ],
   "source": [
    "deployer = Deploy(setup)\n",
    "\n",
    "deployer.build_workflows()\n",
    "deployer.start_workflows(True)\n",
    "# deployer.pipeline() # Build, Start and Run"
   ]
  },
  {
   "cell_type": "code",
   "execution_count": 2,
   "metadata": {},
   "outputs": [],
   "source": [
    "# deployer.stop_workflows()"
   ]
  },
  {
   "cell_type": "code",
   "execution_count": 58,
   "metadata": {},
   "outputs": [],
   "source": [
    "# deployer.run_workflows(verbose=True)"
   ]
  },
  {
   "cell_type": "markdown",
   "metadata": {},
   "source": [
    "## Retraining\n",
    "\n",
    "This executor will be used by the Improver agent to retrain the model. So that, the new training dataset will be as follows:\n",
    "\n",
    "**Without human intervention**\n",
    "\n",
    "> x_new_train = x_train + x_chosen.\n",
    "\n",
    "> y_new_train = y_train + y_predicted.\n",
    "\n",
    "**With human intervention**\n",
    "\n",
    "> x_new_train = x_train + x_chosen.\n",
    "\n",
    "> y_new_train = y_train + y_human_labeled."
   ]
  },
  {
   "cell_type": "code",
   "execution_count": 1,
   "metadata": {},
   "outputs": [
    {
     "name": "stderr",
     "output_type": "stream",
     "text": [
      "27-Apr-21 01:06:51 -  INFO - [Tracker] Port 8002 is in use by Tracker.\n"
     ]
    },
    {
     "data": {
      "text/plain": [
       "\n",
       "Setup = (\n",
       "    Workflows: ['retraining-mnist']\n",
       ")"
      ]
     },
     "execution_count": 1,
     "metadata": {},
     "output_type": "execute_result"
    }
   ],
   "source": [
    "import sys\n",
    "import matplotlib.pyplot as plt\n",
    "import os\n",
    "sys.path.insert(0,'../..')\n",
    "\n",
    "from scanflow.setup import Setup, Executor, Workflow\n",
    "from scanflow.special import Tracker\n",
    "from scanflow.deploy import Deploy\n",
    "\n",
    "# workflow folder that contains all the scripts\n",
    "base_path = os.path.dirname(os.path.dirname(os.getcwd()))\n",
    "app_dir = os.path.join(base_path, \"examples/demo_mnist/\")\n",
    "\n",
    "\n",
    "executors = [Executor(name='retraining', \n",
    "                      file='retraining.py',\n",
    "                      parameters={'model_name': 'mnist_cnn_retrained',\n",
    "                                  'run_id': 'inference_run_id',\n",
    "                                  'x_new_train_artifact': 'x_inference.npy', \n",
    "                                  'y_new_train_artifact': 'y_inference.npy',\n",
    "                                  \n",
    "                                  'x_test_path': './mnist/test_images.npy',\n",
    "                                  'y_test_path': './mnist/test_labels.npy'},\n",
    "                      env='training-mnist-training') #reuse modeling image         \n",
    "            ]\n",
    "\n",
    "\n",
    "workflow1 = Workflow(name='retraining-mnist', \n",
    "                     executors=executors,\n",
    "                     tracker=Tracker(mode='offline'))\n",
    "    \n",
    "setup = Setup(app_dir, workflows=[workflow1],\n",
    "                             verbose=True)\n",
    "\n",
    "setup"
   ]
  },
  {
   "cell_type": "code",
   "execution_count": 2,
   "metadata": {},
   "outputs": [
    {
     "name": "stderr",
     "output_type": "stream",
     "text": [
      "100%|██████████| 1/1 [00:00<00:00,  3.25it/s]\n"
     ]
    }
   ],
   "source": [
    "deployer = Deploy(setup)\n",
    "\n",
    "deployer.build_workflows()\n",
    "deployer.start_workflows()"
   ]
  },
  {
   "cell_type": "code",
   "execution_count": 59,
   "metadata": {},
   "outputs": [],
   "source": [
    "# deployer.run_workflows(verbose=True)"
   ]
  },
  {
   "cell_type": "code",
   "execution_count": 18,
   "metadata": {},
   "outputs": [],
   "source": [
    "# deployer.stop_workflows()"
   ]
  },
  {
   "cell_type": "markdown",
   "metadata": {},
   "source": [
    "## Labeling (Human agent)\n",
    "\n",
    "It contains the Active learning step. Available soon"
   ]
  },
  {
   "cell_type": "code",
   "execution_count": null,
   "metadata": {},
   "outputs": [],
   "source": []
  },
  {
   "cell_type": "markdown",
   "metadata": {},
   "source": [
    "# **Productionizing** 🖥️"
   ]
  },
  {
   "cell_type": "markdown",
   "metadata": {},
   "source": [
    "## App: Batch / Online\n",
    "\n",
    "Now you can embed scanflow into your batch or online web application. For this example we will use gradio:\n",
    "\n",
    "- pip install gradio\n",
    "- python app-batch.py (or python app-online.py)"
   ]
  },
  {
   "cell_type": "markdown",
   "metadata": {},
   "source": [
    "## Agent Trigger Reactivity"
   ]
  },
  {
   "cell_type": "code",
   "execution_count": null,
   "metadata": {},
   "outputs": [],
   "source": [
    "import json\n",
    "\n",
    "def trigger_mas():\n",
    "    import requests\n",
    "\n",
    "    url = 'http://localhost:8003/send/checker/anomaly'\n",
    "    response = requests.get(\n",
    "        url=url,\n",
    "        headers={\"accept\": \"application/json\"})\n",
    "\n",
    "    response_json = json.loads(response.text)\n",
    "    print(response_json)\n",
    "    \n",
    "trigger_mas()"
   ]
  },
  {
   "cell_type": "code",
   "execution_count": 3,
   "metadata": {},
   "outputs": [
    {
     "name": "stdout",
     "output_type": "stream",
     "text": [
      "{\"feedback\":{\"inference_run_id\":\"3480177f9e39448693609bc7cad79ea2\",\"x_inference_artifact\":\"x_inference.npy\",\"y_inference_artifact\":\"y_inference.npy\",\"detector_run_id\":\"ef27df67e6044791833edbb98c87c3c1\",\"x_chosen_artifact\":\"x_inference_chosen.npy\",\"y_chosen_artifact\":\"x_inference_chosen.npy\",\"x_new_train_artifact\":\"x_new_train.npy\",\"y_new_train_artifact\":\"y_new_train.npy\",\"n_anomalies\":8,\"percentage_anomalies\":0.36363636363636365,\"checker_agent_run_id\":\"633656f6f1ac4519909d6423d5e604f7\"},\"conclusions\":{\"action\":\"Retraining the model using the new augmented data=x_new_train.npy\",\"reason\":\"current_metric=73.91 < new_metric=73.91\",\"planner\":{\"Plan\":{\"order\":\"Transition\",\"current_model_name\":\"mnist_cnn\",\"current_model_version\":\"3\",\"new_model_name\":\"mnist_cnn_new\",\"new_model_version\":\"3\",\"result\":\"Current model has been archived. New model is labeled as 'Production'\"}}}}"
     ]
    }
   ],
   "source": [
    "!curl -X 'GET' \\\n",
    "  'http://localhost:8003/send/checker/anomaly' \\\n",
    "  -H 'accept: application/json'"
   ]
  },
  {
   "cell_type": "markdown",
   "metadata": {},
   "source": [
    "# Remove all the metadata\n",
    "\n",
    "It will remove artifacts, metrics, params and also registered models."
   ]
  },
  {
   "cell_type": "code",
   "execution_count": 1,
   "metadata": {},
   "outputs": [],
   "source": [
    "import pandas as pd\n",
    "import os\n",
    "import sys\n",
    "sys.path.insert(0,'../..')\n",
    "\n",
    "from scanflow import track\n",
    "\n",
    "base_path = os.path.dirname(os.path.dirname(os.getcwd()))\n",
    "app_dir = os.path.join(base_path, \"examples/demo_mnist/\")\n",
    "tracker = track.Tracker(app_dir)\n",
    "# last_artifacts = tracker.list_artifacts(workflow_name='mnist')\n",
    "# print(last_artifacts.keys())\n"
   ]
  },
  {
   "cell_type": "code",
   "execution_count": 9,
   "metadata": {},
   "outputs": [],
   "source": [
    "# tracker.delete_tracked_data()"
   ]
  },
  {
   "cell_type": "code",
   "execution_count": null,
   "metadata": {},
   "outputs": [],
   "source": []
  }
 ],
 "metadata": {
  "kernelspec": {
   "display_name": "Python 3",
   "language": "python",
   "name": "python3"
  },
  "language_info": {
   "codemirror_mode": {
    "name": "ipython",
    "version": 3
   },
   "file_extension": ".py",
   "mimetype": "text/x-python",
   "name": "python",
   "nbconvert_exporter": "python",
   "pygments_lexer": "ipython3",
   "version": "3.7.5"
  },
  "toc-autonumbering": true,
  "toc-showmarkdowntxt": false,
  "toc-showtags": false
 },
 "nbformat": 4,
 "nbformat_minor": 4
}
