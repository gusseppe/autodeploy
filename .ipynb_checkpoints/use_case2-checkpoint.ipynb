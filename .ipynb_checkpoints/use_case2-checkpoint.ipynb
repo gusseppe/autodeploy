{
 "cells": [
  {
   "cell_type": "markdown",
   "source": [
    "# Use case 2: \n"
   ],
   "metadata": {
    "collapsed": false
   }
  },
  {
   "cell_type": "markdown",
   "source": [
    "\n",
    "## Dataset: Breast cancer\n",
    "## Goal: Deploy a Machine Learning model."
   ],
   "metadata": {
    "collapsed": false
   }
  },
  {
   "cell_type": "markdown",
   "source": [
    "### Input:\n",
    "\n",
    "Three ML steps, dataset, and a list of requirements libraries.\n",
    "\n",
    "- gathering.py, preprocessing.py, modeling.py\n",
    "\n",
    "- breast-cancer.csv\n",
    "\n",
    "- requirements.txt\n",
    "\n",
    "    #### [gathering] -> [preprocessing] -> [modeling] -> [API]\n",
    "\n",
    "### Output:\n",
    "\n",
    "- 1 docker image. It contains the workflow's platform.\n",
    "- 1 docker container. Based on the previous image, start up a dashboard with the workflow metrics.\n",
    "\n",
    "- 1 docker image. It contains the API image.\n",
    "- 1 docker container. API where predictions are made.\n",
    "\n",
    "    #### [image] - [container]\n",
    "    #### [image] - [container]"
   ],
   "metadata": {
    "collapsed": false,
    "pycharm": {
     "name": "#%% md\n"
    }
   }
  },
  {
   "cell_type": "markdown",
   "source": [
    "# Autodeploy\n"
   ],
   "metadata": {
    "collapsed": false
   }
  },
  {
   "cell_type": "markdown",
   "metadata": {},
   "source": [
    "## Setup\n",
    "\n",
    "- Input: Folder with the python files, data set and requirements.\n",
    "- Output: Platform and server to see the workflow metrics at  http://localhost:8001/#/\n"
   ]
  },
  {
   "cell_type": "code",
   "execution_count": 3,
   "metadata": {
    "pycharm": {
     "is_executing": false
    }
   },
   "outputs": [
    {
     "name": "stderr",
     "text": [
      "27-Oct-19 21:05:20 -  INFO - Building platform, type: single.\n",
      "27-Oct-19 21:05:20 -  INFO - Dockerfile was found.\n",
      "27-Oct-19 21:05:20 -  WARNING - Image: app_single already exists.\n",
      "27-Oct-19 21:05:20 -  INFO - Running platform, type: single.\n",
      "27-Oct-19 21:05:20 -  ERROR - 409 Client Error: Conflict (\"Conflict. The container name \"/app_single\" is already in use by container \"8c597ef99360f1251126bfe6aa5b19ed08e9cf8891d71830c3e5a0ab28a565b8\". You have to remove (or rename) that container to be able to reuse that name.\")\n",
      "27-Oct-19 21:05:20 -  ERROR - Container creation failed.\n"
     ],
     "output_type": "stream"
    },
    {
     "data": {
      "text/plain": "<autodeploy.setup.setup.Setup at 0x7fab19e0af98>"
     },
     "metadata": {},
     "output_type": "execute_result",
     "execution_count": 3
    }
   ],
   "source": [
    "from autodeploy.setup import setup\n",
    "\n",
    "\n",
    "app_dir = '/home/guess/Desktop/autodeploy/examples/leaf'\n",
    "workflow = {'gathering': 'gathering.py',\n",
    "            'preprocessing': 'preprocessing.py',\n",
    "            'modeling': 'modeling.py',\n",
    "            'main': 'main.py'}\n",
    "\n",
    "platform = setup.Setup(app_dir, workflow)\n",
    "\n",
    "platform.build()\n",
    "platform.run()\n",
    "\n",
    "platform"
   ]
  },
  {
   "cell_type": "markdown",
   "metadata": {},
   "source": [
    "# Deploy\n",
    "\n",
    "Run the steps and deploy the trained model."
   ]
  },
  {
   "cell_type": "markdown",
   "metadata": {},
   "source": [
    "**Input**: \n",
    "- Platform.\n",
    "\n",
    "**Output**: \n",
    "\n",
    "- Dashboard at http://localhost:8001 for metrics. \n",
    "- API model at http://localhost:5001 for predictions."
   ]
  },
  {
   "cell_type": "code",
   "execution_count": 8,
   "metadata": {
    "pycharm": {
     "is_executing": false
    }
   },
   "outputs": [
    {
     "name": "stderr",
     "text": [
      "25-Oct-19 16:43:34 - Running workflow: type=single .\n",
      "25-Oct-19 16:43:34 - Using given container: app_single\n",
      "25-Oct-19 16:43:40 -  Main file (main.py) output:  Run matched, but is not FINISHED, so skipping (run_id=e48d762176914bfa807563d6dba8bc5c, status=FINISHED)\nRun matched, but is not FINISHED, so skipping (run_id=8fd33bc89be1452e8ea568fbdf4f9fc7, status=FINISHED)\nNo matching run has been found.\n2019/10/25 14:43:36 INFO mlflow.projects: === Created directory /tmp/tmp0w29dabq for downloading remote URIs passed to arguments of type 'path' ===\n2019/10/25 14:43:36 INFO mlflow.projects: === Running command 'python gathering.py' in run with ID '1bd37a93280d4fd0859b2f1ce6542491' === \n   species  specimen_number  eccentricity  ...  third_moment  uniformity  entropy\n0        1                1       0.72694  ...      0.005232    0.000275  1.17560\n1        1                2       0.74173  ...      0.002708    0.000075  0.69659\n2        1                3       0.76722  ...      0.000921    0.000038  0.44348\n3        1                4       0.73797  ...      0.001154    0.000066  0.58785\n4        1                5       0.82301  ...      0.000560    0.000024  0.34214\n\n[5 rows x 16 columns]\n2019/10/25 14:43:37 INFO mlflow.projects: === Run (ID '1bd37a93280d4fd0859b2f1ce6542491') succeeded ===\nRun matched, but is not FINISHED, so skipping (run_id=be0f091edf5645eab1eddbc9f795f977, status=FINISHED)\nRun matched, but is not FINISHED, so skipping (run_id=650463c497634946b3eaf4a3a7e17b14, status=FINISHED)\nNo matching run has been found.\n2019/10/25 14:43:38 INFO mlflow.projects: === Created directory /tmp/tmpdv2n0q_x for downloading remote URIs passed to arguments of type 'path' ===\n2019/10/25 14:43:38 INFO mlflow.projects: === Running command 'python preprocessing.py' in run with ID 'ef60f577cef44b799b4e18190702b6ee' === \n/opt/conda/lib/python3.7/site-packages/pandas/core/frame.py:3509: SettingWithCopyWarning: \nA value is trying to be set on a copy of a slice from a DataFrame.\nTry using .loc[row_indexer,col_indexer] = value instead\n\nSee the caveats in the documentation: http://pandas.pydata.org/pandas-docs/stable/user_guide/indexing.html#returning-a-view-versus-a-copy\n  self[k1] = value[k2]\npreprocessing.py:25: SettingWithCopyWarning: \nA value is trying to be set on a copy of a slice from a DataFrame.\nTry using .loc[row_indexer,col_indexer] = value instead\n\nSee the caveats in the documentation: http://pandas.pydata.org/pandas-docs/stable/user_guide/indexing.html#returning-a-view-versus-a-copy\n  df_cleaned['species'] = df_cleaned['species'].astype(int)\n2019/10/25 14:43:39 INFO mlflow.projects: === Run (ID 'ef60f577cef44b799b4e18190702b6ee') succeeded ===\nRun matched, but is not FINISHED, so skipping (run_id=7ec4c13870fc406581223fc3cc452ead, status=FINISHED)\nRun matched, but is not FINISHED, so skipping (run_id=47e56d5a69544f5981151ee5e91da8a9, status=FINISHED)\nNo matching run has been found.\n2019/10/25 14:43:39 INFO mlflow.projects: === Created directory /tmp/tmph2lm3we7 for downloading remote URIs passed to arguments of type 'path' ===\n2019/10/25 14:43:39 INFO mlflow.projects: === Running command 'python modeling.py' in run with ID 'a1e506e932944162825f1bcd834fc176' === \nmodeling.py:61: FutureWarning: The signature of `Series.to_csv` was aligned to that of `DataFrame.to_csv`, and argument 'header' will change its default value from False to True: please pass an explicit value to suppress this warning.\n  y_train.to_csv('y_train.csv', index=False)\nmodeling.py:64: FutureWarning: The signature of `Series.to_csv` was aligned to that of `DataFrame.to_csv`, and argument 'header' will change its default value from False to True: please pass an explicit value to suppress this warning.\n  y_test.to_csv('y_test.csv', index=False)\nAccuracy: 0.765\n2019/10/25 14:43:40 INFO mlflow.projects: === Run (ID 'a1e506e932944162825f1bcd834fc176') succeeded ===\nLaunching new run for entrypoint=gathering and parameters={}\nLaunching new run for entrypoint=preprocessing and parameters={}\nLaunching new run for entrypoint=modeling and parameters={}\n \n",
      "25-Oct-19 16:43:40 -  Workflow finished successfully. \n"
     ],
     "output_type": "stream"
    }
   ],
   "source": [
    "from autodeploy.deploy import deploy\n",
    "\n",
    "deployer = deploy.Deploy(platform)\n",
    "\n",
    "# deployer.pipeline()\n",
    "deployer.run_workflow(plat_container_name='app_single')\n",
    "deployer.deploy()"
   ]
  },
  {
   "cell_type": "markdown",
   "metadata": {},
   "source": [
    "## Track\n",
    "\n",
    "Compare if there is a draft distribution."
   ]
  },
  {
   "cell_type": "markdown",
   "metadata": {},
   "source": [
    "- Input: Values to predict.\n",
    "- Output: Predictions and tracking."
   ]
  },
  {
   "cell_type": "code",
   "execution_count": 48,
   "metadata": {
    "pycharm": {
     "is_executing": false,
     "name": "#%%\n"
    }
   },
   "outputs": [
    {
     "name": "stderr",
     "text": [
      "25-Oct-19 18:15:34 - Predicting from port: 5001\n",
      "25-Oct-19 18:15:34 - Time elapsed: 0.03395390510559082\n",
      "25-Oct-19 18:15:34 - Input and predictions were saved at: /home/guess/Desktop/autodeploy/examples/leaf/predictions.csv\n"
     ],
     "output_type": "stream"
    },
    {
     "data": {
      "text/plain": "   eccentricity  aspect_ratio  elongation  solidity  stochastic_convexity  \\\n0      0.962836      2.056819    0.581587  0.877724              1.065708   \n1      0.492734      0.938142    0.583616  0.557056              0.806781   \n2      0.893069      1.547114    0.411728  0.928306              0.756448   \n3      0.721273      1.869913    0.279263  0.789140              0.945465   \n4      0.892118      2.885471    0.552930  1.120129              0.827609   \n\n   isoperimetric_factor  maximal_indentation_depth  lobedness  \\\n0              0.547527                  -0.042108   0.114637   \n1              0.307083                   0.288686   3.783100   \n2              0.898230                  -0.081605   0.145631   \n3              0.595992                   0.199522   0.217032   \n4              0.493065                  -0.026632   0.207923   \n\n   average_intensity  average_contrast  smoothness  third_moment  uniformity  \\\n0          -0.104422          0.082302   -0.022188      0.121614    0.172162   \n1           0.163110          0.322717    0.043207      0.090523    0.026810   \n2           0.008095          0.027031   -0.028931     -0.014401    0.100738   \n3           0.118716          0.031740    0.063783     -0.055206    0.033945   \n4           0.099854          0.212146   -0.033255     -0.175371   -0.127021   \n\n    entropy  pred  \n0  1.414523     7  \n1  0.939214    10  \n2  0.643770     1  \n3  1.221093     7  \n4  1.815634    30  ",
      "text/html": "<div>\n<style scoped>\n    .dataframe tbody tr th:only-of-type {\n        vertical-align: middle;\n    }\n\n    .dataframe tbody tr th {\n        vertical-align: top;\n    }\n\n    .dataframe thead th {\n        text-align: right;\n    }\n</style>\n<table border=\"1\" class=\"dataframe\">\n  <thead>\n    <tr style=\"text-align: right;\">\n      <th></th>\n      <th>eccentricity</th>\n      <th>aspect_ratio</th>\n      <th>elongation</th>\n      <th>solidity</th>\n      <th>stochastic_convexity</th>\n      <th>isoperimetric_factor</th>\n      <th>maximal_indentation_depth</th>\n      <th>lobedness</th>\n      <th>average_intensity</th>\n      <th>average_contrast</th>\n      <th>smoothness</th>\n      <th>third_moment</th>\n      <th>uniformity</th>\n      <th>entropy</th>\n      <th>pred</th>\n    </tr>\n  </thead>\n  <tbody>\n    <tr>\n      <td>0</td>\n      <td>0.962836</td>\n      <td>2.056819</td>\n      <td>0.581587</td>\n      <td>0.877724</td>\n      <td>1.065708</td>\n      <td>0.547527</td>\n      <td>-0.042108</td>\n      <td>0.114637</td>\n      <td>-0.104422</td>\n      <td>0.082302</td>\n      <td>-0.022188</td>\n      <td>0.121614</td>\n      <td>0.172162</td>\n      <td>1.414523</td>\n      <td>7</td>\n    </tr>\n    <tr>\n      <td>1</td>\n      <td>0.492734</td>\n      <td>0.938142</td>\n      <td>0.583616</td>\n      <td>0.557056</td>\n      <td>0.806781</td>\n      <td>0.307083</td>\n      <td>0.288686</td>\n      <td>3.783100</td>\n      <td>0.163110</td>\n      <td>0.322717</td>\n      <td>0.043207</td>\n      <td>0.090523</td>\n      <td>0.026810</td>\n      <td>0.939214</td>\n      <td>10</td>\n    </tr>\n    <tr>\n      <td>2</td>\n      <td>0.893069</td>\n      <td>1.547114</td>\n      <td>0.411728</td>\n      <td>0.928306</td>\n      <td>0.756448</td>\n      <td>0.898230</td>\n      <td>-0.081605</td>\n      <td>0.145631</td>\n      <td>0.008095</td>\n      <td>0.027031</td>\n      <td>-0.028931</td>\n      <td>-0.014401</td>\n      <td>0.100738</td>\n      <td>0.643770</td>\n      <td>1</td>\n    </tr>\n    <tr>\n      <td>3</td>\n      <td>0.721273</td>\n      <td>1.869913</td>\n      <td>0.279263</td>\n      <td>0.789140</td>\n      <td>0.945465</td>\n      <td>0.595992</td>\n      <td>0.199522</td>\n      <td>0.217032</td>\n      <td>0.118716</td>\n      <td>0.031740</td>\n      <td>0.063783</td>\n      <td>-0.055206</td>\n      <td>0.033945</td>\n      <td>1.221093</td>\n      <td>7</td>\n    </tr>\n    <tr>\n      <td>4</td>\n      <td>0.892118</td>\n      <td>2.885471</td>\n      <td>0.552930</td>\n      <td>1.120129</td>\n      <td>0.827609</td>\n      <td>0.493065</td>\n      <td>-0.026632</td>\n      <td>0.207923</td>\n      <td>0.099854</td>\n      <td>0.212146</td>\n      <td>-0.033255</td>\n      <td>-0.175371</td>\n      <td>-0.127021</td>\n      <td>1.815634</td>\n      <td>30</td>\n    </tr>\n  </tbody>\n</table>\n</div>"
     },
     "metadata": {},
     "output_type": "execute_result",
     "execution_count": 48
    }
   ],
   "source": [
    "import pandas as pd\n",
    "import os\n",
    "\n",
    "from autodeploy.track import track\n",
    "from autodeploy.track import tools\n",
    "\n",
    "tracker = track.Track(port=5001)\n",
    "\n",
    "path = '/home/guess/Desktop/autodeploy/examples/leaf'\n",
    "df_input = pd.read_csv(os.path.join(path, 'workflow', 'X_train.csv'))\n",
    "df_noise = tools.add_noise(df_input, sigma=0.11)\n",
    "\n",
    "\n",
    "predictions = tracker.predict(df_noise, to_save=True, path_pred=path)\n",
    "# tracker.save_prediction(path)\n",
    "\n",
    "predictions.head()\n",
    "# print(f'Predictions: \\n {predictions}')\n"
   ]
  },
  {
   "cell_type": "code",
   "execution_count": 51,
   "outputs": [
    {
     "name": "stdout",
     "text": [
      "########## Comparing two numerical dataframes ##########\n\n######## Kolmogorov-Smirnov test ########\n",
      "        eccentricity aspect_ratio\np_value     0.073069      0.59161\nexplain    Different   Comparable\n"
     ],
     "output_type": "stream"
    },
    {
     "data": {
      "text/plain": "<Figure size 504x504 with 2 Axes>",
      "image/png": "[encoded data removed]"
     },
     "metadata": {
      "needs_background": "light"
     },
     "output_type": "display_data"
    }
   ],
   "source": [
    "X_old = pd.read_csv(os.path.join(app_dir, 'workflow', 'X_train.csv'))\n",
    "X_new = predictions.loc[:, predictions.columns != 'pred']\n",
    "\n",
    "tools.overall_test(X_old.sample(len(X_new)), X_new, \n",
    "                   verbose=True, n_cols=2)\n",
    "\n",
    "\n",
    "# X_old.head()\n",
    "# assert integrity_checker(X_old) == integrity_checker(X_new)\n",
    "# tracker.overall_test(X_old, X_new)\n",
    "\n"
   ],
   "metadata": {
    "collapsed": false,
    "pycharm": {
     "name": "#%%\n",
     "is_executing": false
    }
   }
  }
 ],
 "metadata": {
  "kernelspec": {
   "display_name": "Python 3",
   "language": "python",
   "name": "python3"
  },
  "language_info": {
   "codemirror_mode": {
    "name": "ipython",
    "version": 3
   },
   "file_extension": ".py",
   "mimetype": "text/x-python",
   "name": "python",
   "nbconvert_exporter": "python",
   "pygments_lexer": "ipython3",
   "version": "3.7.3"
  },
  "pycharm": {
   "stem_cell": {
    "cell_type": "raw",
    "source": [],
    "metadata": {
     "collapsed": false
    }
   }
  }
 },
 "nbformat": 4,
 "nbformat_minor": 2
}
