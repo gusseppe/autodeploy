{
 "cells": [
  {
   "cell_type": "markdown",
   "metadata": {
    "slideshow": {
     "slide_type": "slide"
    },
    "tags": []
   },
   "source": [
    "# **End-to-end MNIST app using scanflow with agents**"
   ]
  },
  {
   "cell_type": "markdown",
   "metadata": {
    "slideshow": {
     "slide_type": "slide"
    },
    "tags": []
   },
   "source": [
    "### **Steps**\n",
    "\n",
    "- **Training**: Define the training executor using Pytorch and the MNIST data.\n",
    "- **Inference**: Define the inference executor to make predictions using a trained model.\n",
    "    - **Agents**: Define the Tracker, Checker, Improver and Planner agent.\n",
    "- **Detector**: Define a detector executor to both detect anomalies and pick a subset of them for retraining. It will be used by the Checker agent. Built-in Scanflow executor (from the paper).(https://colab.research.google.com/drive/1t0EgpPk5_mEMNb_AvN7yJ_Tz88bqgS9A). \n",
    "- **Retraining**: Define a retraining executor to retrain the model using x_train + x_chosen. It will be used by the Improver agent. Built-in Scanflow executor.\n",
    "- **Dashboard**: Call the inference executor from a web application."
   ]
  },
  {
   "cell_type": "markdown",
   "metadata": {
    "slideshow": {
     "slide_type": "slide"
    },
    "tags": []
   },
   "source": [
    "# Training\n",
    "\n",
    "Let's get some MNIST data to train a CNN-based model."
   ]
  },
  {
   "cell_type": "code",
   "execution_count": 1,
   "metadata": {
    "slideshow": {
     "slide_type": "slide"
    },
    "tags": []
   },
   "outputs": [
    {
     "data": {
      "text/plain": [
       "(1000, 28, 28)"
      ]
     },
     "execution_count": 1,
     "metadata": {},
     "output_type": "execute_result"
    }
   ],
   "source": [
    "import utils\n",
    "x_train_sample, y_train_sample = utils.sample_train_mnist()\n",
    "x_train_sample.shape"
   ]
  },
  {
   "cell_type": "markdown",
   "metadata": {},
   "source": [
    "We load 1k instances (from the original 60k) to make the training faster."
   ]
  },
  {
   "cell_type": "code",
   "execution_count": 2,
   "metadata": {
    "slideshow": {
     "slide_type": "slide"
    },
    "tags": []
   },
   "outputs": [
    {
     "data": {
      "image/png": "[encoded data removed]",
      "text/plain": [
       "<Figure size 360x360 with 9 Axes>"
      ]
     },
     "metadata": {},
     "output_type": "display_data"
    }
   ],
   "source": [
    "utils.show_numbers(x_train_sample, y_train_sample, title=f\"MNIST sample\")"
   ]
  },
  {
   "cell_type": "markdown",
   "metadata": {},
   "source": [
    "Here we start the training executor definition. We need the following things:\n",
    "\n",
    "- Python script: training.py\n",
    "- Parameters for the script: model_name, x_train_path, y_train_path, etc.\n",
    "- requirements: req_training.txt, the required libraries to build the training image."
   ]
  },
  {
   "cell_type": "code",
   "execution_count": 9,
   "metadata": {
    "slideshow": {
     "slide_type": "slide"
    },
    "tags": []
   },
   "outputs": [
    {
     "name": "stderr",
     "output_type": "stream",
     "text": [
      "12-Apr-21 23:12:39 -  INFO - [Tracker] Port 8002 is set successfully.\n"
     ]
    },
    {
     "data": {
      "text/plain": [
       "\n",
       "Setup = (\n",
       "    Workflows: ['training-mnist']\n",
       ")"
      ]
     },
     "execution_count": 9,
     "metadata": {},
     "output_type": "execute_result"
    }
   ],
   "source": [
    "import matplotlib.pyplot as plt\n",
    "import os\n",
    "import sys\n",
    "\n",
    "sys.path.insert(1,'../..')\n",
    "from scanflow.setup import Setup, Executor, Workflow\n",
    "from scanflow.special import Tracker\n",
    "from scanflow.deploy import Deploy\n",
    "\n",
    "# workflow folder that contains all the scripts\n",
    "base_path = os.path.dirname(os.path.dirname(os.getcwd()))\n",
    "app_dir = os.path.join(base_path, \"examples/demo_mnist/\")\n",
    "\n",
    "# We can define a list of executors. In this case, we only have one executor.\n",
    "executors = [Executor(name='training', \n",
    "                      file='training.py',\n",
    "                      parameters={'model_name': 'mnist_cnn',\n",
    "                                  \n",
    "                                  'x_train_path': './mnist_sample/train_images.npy', \n",
    "                                  'y_train_path': './mnist_sample/train_labels.npy',\n",
    "                                  \n",
    "                                  'x_test_path': './mnist/test_images.npy',\n",
    "                                  'y_test_path': './mnist/test_labels.npy'},\n",
    "                      requirements='req_training.txt')           \n",
    "            ]\n",
    "\n",
    "# A workflow contains a list of executors and also special nodes. \n",
    "# In this case, we have only one offline special node: Tracker MLflow.\n",
    "workflow1 = Workflow(name='training-mnist', \n",
    "                     executors=executors,\n",
    "                     tracker=Tracker(mode='offline')) # No agents involved\n",
    "    \n",
    "setup = Setup(app_dir, workflows=[workflow1],\n",
    "                             verbose=True)\n",
    "\n",
    "setup"
   ]
  },
  {
   "cell_type": "markdown",
   "metadata": {},
   "source": [
    "All the experiments will be saved at MLflow UI: http://localhost:8002 (Offline Tracker)"
   ]
  },
  {
   "cell_type": "markdown",
   "metadata": {},
   "source": [
    "Once we have defined training executor we build the images and start the containers."
   ]
  },
  {
   "cell_type": "code",
   "execution_count": 10,
   "metadata": {},
   "outputs": [
    {
     "name": "stderr",
     "output_type": "stream",
     "text": [
      "100%|██████████| 1/1 [00:01<00:00,  1.77s/it]\n"
     ]
    }
   ],
   "source": [
    "deployer = Deploy(setup)\n",
    "\n",
    "deployer.build_workflows()\n",
    "deployer.start_workflows()"
   ]
  },
  {
   "cell_type": "markdown",
   "metadata": {},
   "source": [
    "We run the workflow to actually run the scripts inside the containers.\n",
    "\n",
    "In this case, this running will perform the training so it will take some seconds."
   ]
  },
  {
   "cell_type": "code",
   "execution_count": 11,
   "metadata": {},
   "outputs": [
    {
     "name": "stderr",
     "output_type": "stream",
     "text": [
      "  0%|          | 0/1 [00:00<?, ?it/s]12-Apr-21 23:12:47 -  INFO - [++] Running workflow: [training-mnist].\n",
      "12-Apr-21 23:12:47 -  INFO - [+] Running env: [training-mnist:training].\n",
      "12-Apr-21 23:13:00 -  INFO - [+] Running (training.py). \n",
      "12-Apr-21 23:13:00 -  INFO - [+] Output:  Train Epoch: 1 [0/1000 (0%)]\tLoss: 2.299094\n",
      "Successfully registered model 'mnist_cnn'.\n",
      "2021/04/12 21:13:00 INFO mlflow.tracking._model_registry.client: Waiting up to 300 seconds for model version to finish creation.                     Model name: mnist_cnn, version 1\n",
      "Created version '1' of model 'mnist_cnn'.\n",
      " \n",
      "12-Apr-21 23:13:00 -  INFO - [+] Environment (training-mnist-training) finished successfully. \n",
      "12-Apr-21 23:13:00 -  INFO - [+] Workflow: [training-mnist] was run successfully.\n",
      "100%|██████████| 1/1 [00:13<00:00, 13.09s/it]"
     ]
    },
    {
     "name": "stdout",
     "output_type": "stream",
     "text": [
      "Elapsed time: 13.098422288894653\n"
     ]
    },
    {
     "name": "stderr",
     "output_type": "stream",
     "text": [
      "\n"
     ]
    }
   ],
   "source": [
    "deployer.run_workflows(verbose=True)"
   ]
  },
  {
   "cell_type": "code",
   "execution_count": 12,
   "metadata": {},
   "outputs": [],
   "source": [
    "# deployer.stop_workflows()"
   ]
  },
  {
   "cell_type": "markdown",
   "metadata": {},
   "source": [
    "# Inference\n",
    "\n"
   ]
  },
  {
   "cell_type": "markdown",
   "metadata": {},
   "source": [
    "We load 1k of testing data to make predictions."
   ]
  },
  {
   "cell_type": "code",
   "execution_count": 76,
   "metadata": {},
   "outputs": [
    {
     "name": "stdout",
     "output_type": "stream",
     "text": [
      "(1000, 28, 28)\n"
     ]
    },
    {
     "data": {
      "image/png": "[encoded data removed]",
      "text/plain": [
       "<Figure size 360x360 with 9 Axes>"
      ]
     },
     "metadata": {},
     "output_type": "display_data"
    }
   ],
   "source": [
    "import utils\n",
    "\n",
    "x_test_sample, y_test_sample = utils.sample_test_mnist()\n",
    "print(x_test_sample.shape)\n",
    "utils.show_numbers(x_test_sample, y_test_sample, title=f\"MNIST_test\")"
   ]
  },
  {
   "cell_type": "markdown",
   "metadata": {},
   "source": [
    "Similar to the training part, we define the inference executor. We need the following:\n",
    "\n",
    "- Python script: inference-batch.py\n",
    "- Parameters for the script: x_inference_path, model_name and model_version.\n",
    "- requirements: req_inference_batch.txt, the required libraries to build the inference image."
   ]
  },
  {
   "cell_type": "markdown",
   "metadata": {},
   "source": [
    "Apart from the inference executor we also define the special agents:\n",
    "- **Tracker**: the one in charge of linking the multi agent system to the outside. For instance, it can get the x_inference and pass to the Checker agent.\n",
    "- **Checker**: this agent calls the detector to get the anomalies and the chosen instances to be considered for the retraining. The Checker's output is the feedback.\n",
    "- **Improver**: it decides what to do with the feedback. For instance, if n_anomalies > threshold, then perform a retraining with x_train + x_chosen.\n",
    "- **Planner**: this agent receives the order from the Improver to make some changes in the original workflow. For instance, build a new inference executor."
   ]
  },
  {
   "cell_type": "code",
   "execution_count": 77,
   "metadata": {},
   "outputs": [
    {
     "name": "stderr",
     "output_type": "stream",
     "text": [
      "13-Apr-21 15:41:46 -  INFO - [Tracker] Port 8002 is in use by Tracker.\n",
      "13-Apr-21 15:41:46 -  INFO - [Checker] Port 8004 is set successfully.\n",
      "13-Apr-21 15:41:46 -  INFO - [Improver] Port 8006 is in use by Improver.\n",
      "13-Apr-21 15:41:46 -  INFO - [Planner] Port 8007 is in use by Planner.\n"
     ]
    },
    {
     "data": {
      "text/plain": [
       "\n",
       "Setup = (\n",
       "    Workflows: ['inference-mnist']\n",
       ")"
      ]
     },
     "execution_count": 77,
     "metadata": {},
     "output_type": "execute_result"
    }
   ],
   "source": [
    "import sys\n",
    "import numpy as np\n",
    "import os\n",
    "sys.path.insert(1,'../..')\n",
    "\n",
    "from scanflow.setup import Setup, Executor, Workflow\n",
    "from scanflow.special import Tracker, Checker, Improver, Planner, Predictor\n",
    "from scanflow.deploy import Deploy\n",
    "\n",
    "# workflow folder that contains all the scripts\n",
    "base_path = os.path.dirname(os.path.dirname(os.getcwd()))\n",
    "app_dir = os.path.join(base_path, \"examples/demo_mnist/\")\n",
    "\n",
    "# This executor needs the path where to feed the model to make predictions.\n",
    "# It also needs a model name and version. This information can be found in the MLflow UI.\n",
    "# This inference is of type \"batch\", meaning that predictor is a python script inside a container.\n",
    "\n",
    "executors = [Executor(name='inference-batch', \n",
    "                      file='inference-batch.py',\n",
    "                      parameters={'x_inference_path': './mnist_sample/test_images.npy',\n",
    "                                 'model_name':'mnist_cnn', 'model_version':1},\n",
    "                      requirements='req_inference_batch.txt')           \n",
    "            ]\n",
    "\n",
    "# \n",
    "workflow1 = Workflow(name='inference-mnist', \n",
    "                     executors=executors,\n",
    "                     tracker=Tracker(mode='online'),\n",
    "                     checker=Checker(mode='online'),\n",
    "                     improver=Improver(mode='online'),\n",
    "                     planner=Planner(mode='online'))\n",
    "    \n",
    "setup = Setup(app_dir, workflows=[workflow1],\n",
    "                             verbose=True)\n",
    "\n",
    "setup"
   ]
  },
  {
   "cell_type": "code",
   "execution_count": 78,
   "metadata": {},
   "outputs": [
    {
     "name": "stderr",
     "output_type": "stream",
     "text": [
      "100%|██████████| 1/1 [00:00<00:00, 35.81it/s]\n"
     ]
    }
   ],
   "source": [
    "deployer = Deploy(setup)\n",
    "\n",
    "deployer.build_workflows()\n",
    "deployer.start_workflows()\n",
    "# deployer.pipeline() # Build, Start and Run"
   ]
  },
  {
   "cell_type": "markdown",
   "metadata": {},
   "source": [
    "Let's test this executor, to see if it is working. "
   ]
  },
  {
   "cell_type": "code",
   "execution_count": 79,
   "metadata": {},
   "outputs": [
    {
     "name": "stderr",
     "output_type": "stream",
     "text": [
      "  0%|          | 0/1 [00:00<?, ?it/s]13-Apr-21 15:41:51 -  INFO - [++] Running workflow: [inference-mnist].\n",
      "13-Apr-21 15:41:51 -  INFO - [+] Running env: [inference-mnist:inference-batch].\n",
      "13-Apr-21 15:41:54 -  INFO - [+] Running (inference-batch.py). \n",
      "13-Apr-21 15:41:54 -  INFO - [+] Output:     predictions\n",
      "0            6\n",
      "1            2\n",
      "2            3\n",
      "3            4\n",
      "4            9\n",
      "5            2\n",
      "6            3\n",
      "7            4\n",
      "8            9\n",
      "9            6\n",
      " \n",
      "13-Apr-21 15:41:54 -  INFO - [+] Environment (inference-mnist-inference-batch) finished successfully. \n",
      "13-Apr-21 15:41:54 -  INFO - [+] Workflow: [inference-mnist] was run successfully.\n",
      "100%|██████████| 1/1 [00:02<00:00,  2.66s/it]\n",
      "13-Apr-21 15:41:54 -  INFO - [+] Elapsed time: 2.66 seconds\n"
     ]
    }
   ],
   "source": [
    "deployer.run_workflows(verbose=True)"
   ]
  },
  {
   "cell_type": "code",
   "execution_count": 21,
   "metadata": {},
   "outputs": [],
   "source": [
    "# deployer.stop_workflows()"
   ]
  },
  {
   "cell_type": "markdown",
   "metadata": {},
   "source": [
    "# Detector\n",
    "\n",
    "This executor contains the detector and the picker. In the sake of simplicity, we ommited the detector training part, instead, we provide the \"detector inference\" based on a pretrained model (detector.hdf5)."
   ]
  },
  {
   "cell_type": "code",
   "execution_count": 38,
   "metadata": {},
   "outputs": [
    {
     "data": {
      "text/plain": [
       "\n",
       "Setup = (\n",
       "    Workflows: ['detector-mnist']\n",
       ")"
      ]
     },
     "execution_count": 38,
     "metadata": {},
     "output_type": "execute_result"
    }
   ],
   "source": [
    "import sys\n",
    "import numpy as np\n",
    "import os\n",
    "sys.path.insert(0,'../..')\n",
    "\n",
    "from scanflow.setup import Setup, Executor, Workflow\n",
    "from scanflow.special import Tracker, Checker, Improver, Planner\n",
    "from scanflow.deploy import Deploy\n",
    "\n",
    "# workflow folder that contains all the scripts\n",
    "base_path = os.path.dirname(os.path.dirname(os.getcwd()))\n",
    "app_dir = os.path.join(base_path, \"examples/demo_mnist/\")\n",
    "\n",
    "# This detector-batch comprises an anomaly detector and a picker\n",
    "# It requires the inference run_id from where to get the artifacts.\n",
    "executors = [Executor(name='detector-batch', \n",
    "                      file='detector-batch.py',\n",
    "                      parameters={'run_id': 'df7703c691f146c4a13b60287dd45abe', \n",
    "                                  'x_inference_artifact': 'x_inference.npy',\n",
    "                                  'y_inference_artifact': 'y_inference.npy'\n",
    "                                 },\n",
    "                      requirements='req_detector.txt')           \n",
    "            ]\n",
    "\n",
    "\n",
    "workflow1 = Workflow(name='detector-mnist', \n",
    "                     executors=executors,\n",
    "                     tracker=Tracker(mode='offline'))\n",
    "    \n",
    "setup = Setup(app_dir, workflows=[workflow1],\n",
    "                             verbose=True)\n",
    "\n",
    "setup"
   ]
  },
  {
   "cell_type": "code",
   "execution_count": 39,
   "metadata": {},
   "outputs": [
    {
     "name": "stderr",
     "output_type": "stream",
     "text": [
      "100%|██████████| 1/1 [00:00<00:00,  1.24it/s]\n"
     ]
    }
   ],
   "source": [
    "deployer = Deploy(setup)\n",
    "\n",
    "deployer.build_workflows()\n",
    "deployer.start_workflows()\n",
    "# deployer.pipeline() # Build, Start and Run"
   ]
  },
  {
   "cell_type": "code",
   "execution_count": 40,
   "metadata": {},
   "outputs": [
    {
     "name": "stderr",
     "output_type": "stream",
     "text": [
      "  0%|          | 0/1 [00:00<?, ?it/s]13-Apr-21 11:01:51 -  INFO - [++] Running workflow: [detector-mnist].\n",
      "13-Apr-21 11:01:51 -  INFO - [+] Running env: [detector-mnist:detector-batch].\n",
      "13-Apr-21 11:01:56 -  INFO - [+] Running (detector-batch.py). \n",
      "13-Apr-21 11:01:56 -  INFO - [+] Output:  2021-04-13 09:01:52.458648: W tensorflow/stream_executor/platform/default/dso_loader.cc:60] Could not load dynamic library 'libcudart.so.11.0'; dlerror: libcudart.so.11.0: cannot open shared object file: No such file or directory\n",
      "2021-04-13 09:01:52.458706: I tensorflow/stream_executor/cuda/cudart_stub.cc:29] Ignore above cudart dlerror if you do not have a GPU set up on your machine.\n",
      "2021-04-13 09:01:54.766991: I tensorflow/compiler/jit/xla_cpu_device.cc:41] Not creating XLA devices, tf_xla_enable_xla_devices not set\n",
      "2021-04-13 09:01:54.768653: W tensorflow/stream_executor/platform/default/dso_loader.cc:60] Could not load dynamic library 'libcuda.so.1'; dlerror: libcuda.so.1: cannot open shared object file: No such file or directory\n",
      "2021-04-13 09:01:54.768770: W tensorflow/stream_executor/cuda/cuda_driver.cc:326] failed call to cuInit: UNKNOWN ERROR (303)\n",
      "2021-04-13 09:01:54.768883: I tensorflow/stream_executor/cuda/cuda_diagnostics.cc:156] kernel driver does not appear to be running on this host (8700f0562ccc): /proc/driver/nvidia/version does not exist\n",
      "2021-04-13 09:01:54.769798: I tensorflow/core/platform/cpu_feature_guard.cc:142] This TensorFlow binary is optimized with oneAPI Deep Neural Network Library (oneDNN) to use the following CPU instructions in performance-critical operations:  AVX2 FMA\n",
      "To enable them in other operations, rebuild TensorFlow with the appropriate compiler flags.\n",
      "2021-04-13 09:01:54.770857: I tensorflow/compiler/jit/xla_gpu_device.cc:99] Not creating XLA devices, tf_xla_enable_xla_devices not set\n",
      "2021-04-13 09:01:55.077525: I tensorflow/compiler/mlir/mlir_graph_optimization_pass.cc:116] None of the MLIR optimization passes are enabled (registered 2)\n",
      "2021-04-13 09:01:55.099087: I tensorflow/core/platform/profile_utils/cpu_utils.cc:112] CPU Frequency: 2899885000 Hz\n",
      "[+] Loading Checker\n",
      "Anomalies=100|Wanted=50\n",
      "100\n",
      "True\n",
      "Mean real 0.2174782007932663 | Mean sampled: 0.2189836949110031\n",
      "Chosen: 50\n",
      "                            Loss_mae  Anomaly\n",
      "2021-04-13 09:01:54.803394  0.136659    False\n",
      "2021-04-13 09:01:54.803494  0.082544    False\n",
      "2021-04-13 09:01:54.803594  0.246346    False\n",
      "2021-04-13 09:01:54.803694  0.053437     True\n",
      "2021-04-13 09:01:54.803794  0.149315    False\n",
      " \n",
      "13-Apr-21 11:01:56 -  INFO - [+] Environment (detector-mnist-detector-batch) finished successfully. \n",
      "13-Apr-21 11:01:56 -  INFO - [+] Workflow: [detector-mnist] was run successfully.\n",
      "100%|██████████| 1/1 [00:04<00:00,  4.97s/it]\n",
      "13-Apr-21 11:01:56 -  INFO - [+] Elapsed time: 4.98 seconds\n"
     ]
    }
   ],
   "source": [
    "deployer.run_workflows(verbose=True)"
   ]
  },
  {
   "cell_type": "markdown",
   "metadata": {},
   "source": [
    "# Retraining\n",
    "\n",
    "This executor will be used by the Improver agent to retrain the model:\n",
    "\n",
    "x_new_train = x_train+x_chosen"
   ]
  },
  {
   "cell_type": "code",
   "execution_count": 9,
   "metadata": {},
   "outputs": [
    {
     "name": "stderr",
     "output_type": "stream",
     "text": [
      "13-Apr-21 01:42:20 -  INFO - [Tracker] Port 8002 is in use by Tracker.\n"
     ]
    },
    {
     "data": {
      "text/plain": [
       "\n",
       "Setup = (\n",
       "    Workflows: ['retraining-mnist']\n",
       ")"
      ]
     },
     "execution_count": 9,
     "metadata": {},
     "output_type": "execute_result"
    }
   ],
   "source": [
    "import sys\n",
    "import matplotlib.pyplot as plt\n",
    "import os\n",
    "sys.path.insert(0,'../..')\n",
    "\n",
    "from scanflow.setup import Setup, Executor, Workflow\n",
    "from scanflow.special import Tracker\n",
    "from scanflow.deploy import Deploy\n",
    "\n",
    "# workflow folder that contains all the scripts\n",
    "base_path = os.path.dirname(os.path.dirname(os.getcwd()))\n",
    "app_dir = os.path.join(base_path, \"examples/demo_mnist/\")\n",
    "\n",
    "\n",
    "executors = [Executor(name='retraining', \n",
    "                      file='retraining.py',\n",
    "                      parameters={'model_name': 'mnist_cnn_retrained',\n",
    "                                  'run_id': 'be066cefe8784a248aa3f6e89f70d4f6',\n",
    "                                  'x_new_train_artifact': 'x_inference.npy', \n",
    "                                  'y_new_train_artifact': 'y_inference.npy',\n",
    "                                  \n",
    "                                  'x_test_path': './mnist/test_images.npy',\n",
    "                                  'y_test_path': './mnist/test_labels.npy'},\n",
    "                      env='training-mnist-modeling') #reuse modeling image         \n",
    "            ]\n",
    "\n",
    "\n",
    "workflow1 = Workflow(name='retraining-mnist', \n",
    "                     executors=executors,\n",
    "                     tracker=Tracker(mode='offline'))\n",
    "    \n",
    "setup = Setup(app_dir, workflows=[workflow1],\n",
    "                             verbose=True)\n",
    "\n",
    "setup"
   ]
  },
  {
   "cell_type": "code",
   "execution_count": 10,
   "metadata": {},
   "outputs": [
    {
     "name": "stderr",
     "output_type": "stream",
     "text": [
      "13-Apr-21 01:42:34 -  WARNING - [+] Network: [network_scanflow] is already running.\n",
      "13-Apr-21 01:42:34 -  INFO - [+] Compose file [/home/guess/Desktop/scanflow/examples/demo_mnist/stuff/meta/compose-repository/docker-compose.yml] was created successfully.\n",
      "13-Apr-21 01:42:34 -  INFO - [+] Main file [/home/guess/Desktop/scanflow/examples/demo_mnist/stuff/meta/compose-repository/main.py] was created successfully.\n",
      "13-Apr-21 01:42:34 -  INFO - [+] Compose file [/home/guess/Desktop/scanflow/examples/demo_mnist/stuff/meta/compose-verbose/docker-compose.yml] was created successfully.\n",
      "13-Apr-21 01:42:34 -  INFO - [+] Main file [/home/guess/Desktop/scanflow/examples/demo_mnist/stuff/meta/compose-verbose/main.py] was created successfully.\n",
      "13-Apr-21 01:42:34 -  INFO - [+] Compose file [/home/guess/Desktop/scanflow/examples/demo_mnist/stuff/meta/compose-swarm/docker-compose.yml] was created successfully.\n",
      "13-Apr-21 01:42:34 -  INFO - [+] Main file [/home/guess/Desktop/scanflow/examples/demo_mnist/stuff/meta/compose-swarm/main.py] was created successfully.\n",
      "13-Apr-21 01:42:34 -  INFO - [+] Compose file [/home/guess/Desktop/scanflow/examples/demo_mnist/stuff/meta/compose-kubernetes/docker-compose.yml] was created successfully.\n",
      "13-Apr-21 01:42:34 -  INFO - [+] Main file [/home/guess/Desktop/scanflow/examples/demo_mnist/stuff/meta/compose-kubernetes/main.py] was created successfully.\n",
      "13-Apr-21 01:42:34 -  INFO - [++] Building workflow: [retraining-mnist].\n",
      "13-Apr-21 01:42:34 -  INFO - [+] Building env: [retraining-mnist:retraining].\n",
      "13-Apr-21 01:42:34 -  INFO - [+] Dockerfile: [Dockerfile_tracker_retraining-mnist] was created successfully.\n",
      "13-Apr-21 01:42:34 -  WARNING - [+] Image [tracker-mlflow] already exists.\n",
      "13-Apr-21 01:42:34 -  INFO - [+] Image [tracker-mlflow] was loaded successfully.\n",
      "13-Apr-21 01:42:34 -  INFO - [+] Workflow: [retraining-mnist] was built successfully.\n",
      "  0%|          | 0/1 [00:00<?, ?it/s]13-Apr-21 01:42:34 -  INFO - [++] Starting workflow: [retraining-mnist].\n",
      "13-Apr-21 01:42:34 -  INFO - [+] Starting env: [retraining-mnist:retraining].\n",
      "13-Apr-21 01:42:34 -  INFO - [+] Environment: [retraining-mnist-retraining] has not been started in local. Starting a new one.\n",
      "13-Apr-21 01:42:35 -  INFO - [+] Starting image: [tracker-mlflow.\n",
      "13-Apr-21 01:42:35 -  WARNING - [+] Environment: [tracker-mlflow] is already running.\n",
      "13-Apr-21 01:42:35 -  INFO - [+] Workflow: [retraining-mnist] was started successfully.\n",
      "100%|██████████| 1/1 [00:00<00:00,  1.44it/s]\n"
     ]
    }
   ],
   "source": [
    "deployer = Deploy(setup)\n",
    "\n",
    "deployer.build_workflows(True)\n",
    "deployer.start_workflows(True)"
   ]
  },
  {
   "cell_type": "code",
   "execution_count": 14,
   "metadata": {},
   "outputs": [
    {
     "name": "stderr",
     "output_type": "stream",
     "text": [
      "  0%|          | 0/1 [00:00<?, ?it/s]13-Apr-21 01:48:14 -  INFO - [++] Running workflow: [retraining-mnist].\n",
      "13-Apr-21 01:48:14 -  INFO - [+] Running env: [retraining-mnist:retraining].\n",
      "13-Apr-21 01:48:30 -  INFO - [+] Running (retraining.py). \n",
      "13-Apr-21 01:48:30 -  INFO - [+] Output:  Train Epoch: 1 [0/1000 (0%)]\tLoss: 2.323571\n",
      "Registered model 'mnist_cnn_retrained' already exists. Creating a new version of this model...\n",
      "2021/04/12 23:48:30 INFO mlflow.tracking._model_registry.client: Waiting up to 300 seconds for model version to finish creation.                     Model name: mnist_cnn_retrained, version 3\n",
      "Created version '3' of model 'mnist_cnn_retrained'.\n",
      " \n",
      "13-Apr-21 01:48:30 -  INFO - [+] Environment (retraining-mnist-retraining) finished successfully. \n",
      "13-Apr-21 01:48:30 -  INFO - [+] Workflow: [retraining-mnist] was run successfully.\n",
      "100%|██████████| 1/1 [00:16<00:00, 16.80s/it]\n",
      "13-Apr-21 01:48:30 -  INFO - [+] Elapsed time: 16.8 seconds\n"
     ]
    }
   ],
   "source": [
    "deployer.run_workflows(verbose=True)"
   ]
  },
  {
   "cell_type": "code",
   "execution_count": 11,
   "metadata": {},
   "outputs": [],
   "source": [
    "# deployer.stop_workflows()"
   ]
  },
  {
   "cell_type": "markdown",
   "metadata": {},
   "source": [
    "# App: Batch\n",
    "\n",
    "Now you can embed scanflow into your batch or online web application. For this example we will use gradio:\n",
    "\n",
    "- pip install gradio"
   ]
  },
  {
   "cell_type": "code",
   "execution_count": null,
   "metadata": {},
   "outputs": [],
   "source": [
    "scanflow.list_workflows()\n",
    "scanflow.inspect_workflow('inference-mnist')\n"
   ]
  },
  {
   "cell_type": "code",
   "execution_count": 67,
   "metadata": {
    "collapsed": true,
    "jupyter": {
     "outputs_hidden": true
    },
    "tags": []
   },
   "outputs": [
    {
     "name": "stdout",
     "output_type": "stream",
     "text": [
      "Running locally at: http://127.0.0.1:7876/\n",
      "To create a public link, set `share=True` in `launch()`.\n",
      "Interface loading below...\n"
     ]
    },
    {
     "data": {
      "text/html": [
       "\n",
       "        <iframe\n",
       "            width=\"1000\"\n",
       "            height=\"500\"\n",
       "            src=\"http://127.0.0.1:7876/\"\n",
       "            frameborder=\"0\"\n",
       "            allowfullscreen\n",
       "        ></iframe>\n",
       "        "
      ],
      "text/plain": [
       "<IPython.lib.display.IFrame at 0x7fb7c7f62910>"
      ]
     },
     "metadata": {},
     "output_type": "display_data"
    },
    {
     "name": "stderr",
     "output_type": "stream",
     "text": [
      "  0%|          | 0/1 [00:00<?, ?it/s]13-Apr-21 11:54:21 -  INFO - [++] Running workflow: [inference-mnist].\n",
      "13-Apr-21 11:54:21 -  INFO - [+] Running env: [inference-mnist:inference-batch].\n",
      "13-Apr-21 11:54:23 -  INFO - [+] Running (inference-batch.py). \n",
      "13-Apr-21 11:54:23 -  INFO - [+] Output:     predictions\n",
      "0            7\n",
      "1            6\n",
      "2            6\n",
      "3            0\n",
      "4            9\n",
      "5            9\n",
      "6            1\n",
      "7            1\n",
      "8            8\n",
      "9            0\n",
      " \n",
      "13-Apr-21 11:54:23 -  INFO - [+] Environment (inference-mnist-inference-batch) finished successfully. \n",
      "13-Apr-21 11:54:23 -  INFO - [+] Workflow: [inference-mnist] was run successfully.\n",
      "100%|██████████| 1/1 [00:02<00:00,  2.08s/it]\n",
      "13-Apr-21 11:54:23 -  INFO - [+] Elapsed time: 2.08 seconds\n"
     ]
    },
    {
     "name": "stdout",
     "output_type": "stream",
     "text": [
      "   predictions\n",
      "0            7\n",
      "1            6\n",
      "2            6\n",
      "3            0\n",
      "4            9\n",
      "5            9\n",
      "6            1\n",
      "7            1\n",
      "8            8\n",
      "9            0\n",
      "\n"
     ]
    },
    {
     "ename": "KeyboardInterrupt",
     "evalue": "",
     "output_type": "error",
     "traceback": [
      "\u001b[0;31m------------------------------------------------------\u001b[0m",
      "\u001b[0;31mKeyboardInterrupt\u001b[0m    Traceback (most recent call last)",
      "\u001b[0;32m<ipython-input-67-6b6cef408258>\u001b[0m in \u001b[0;36m<module>\u001b[0;34m\u001b[0m\n\u001b[1;32m     68\u001b[0m \u001b[0miface\u001b[0m \u001b[0;34m=\u001b[0m \u001b[0mgr\u001b[0m\u001b[0;34m.\u001b[0m\u001b[0mInterface\u001b[0m\u001b[0;34m(\u001b[0m\u001b[0mclassifier\u001b[0m\u001b[0;34m,\u001b[0m \u001b[0mtextbox\u001b[0m\u001b[0;34m,\u001b[0m \u001b[0;34m\"dataframe\"\u001b[0m\u001b[0;34m)\u001b[0m\u001b[0;34m\u001b[0m\u001b[0;34m\u001b[0m\u001b[0m\n\u001b[1;32m     69\u001b[0m \u001b[0;34m\u001b[0m\u001b[0m\n\u001b[0;32m---> 70\u001b[0;31m \u001b[0miface\u001b[0m\u001b[0;34m.\u001b[0m\u001b[0mlaunch\u001b[0m\u001b[0;34m(\u001b[0m\u001b[0minline\u001b[0m\u001b[0;34m=\u001b[0m\u001b[0;32mTrue\u001b[0m\u001b[0;34m,\u001b[0m \u001b[0mdebug\u001b[0m\u001b[0;34m=\u001b[0m\u001b[0;32mTrue\u001b[0m\u001b[0;34m)\u001b[0m \u001b[0;31m# Change inline=False in script.py\u001b[0m\u001b[0;34m\u001b[0m\u001b[0;34m\u001b[0m\u001b[0m\n\u001b[0m",
      "\u001b[0;32m~/anaconda3/envs/venv2/lib/python3.7/site-packages/gradio/interface.py\u001b[0m in \u001b[0;36mlaunch\u001b[0;34m(self, inline, inbrowser, share, debug, auth)\u001b[0m\n\u001b[1;32m    456\u001b[0m             \u001b[0;32mwhile\u001b[0m \u001b[0;32mTrue\u001b[0m\u001b[0;34m:\u001b[0m\u001b[0;34m\u001b[0m\u001b[0;34m\u001b[0m\u001b[0m\n\u001b[1;32m    457\u001b[0m                 \u001b[0msys\u001b[0m\u001b[0;34m.\u001b[0m\u001b[0mstdout\u001b[0m\u001b[0;34m.\u001b[0m\u001b[0mflush\u001b[0m\u001b[0;34m(\u001b[0m\u001b[0;34m)\u001b[0m\u001b[0;34m\u001b[0m\u001b[0;34m\u001b[0m\u001b[0m\n\u001b[0;32m--> 458\u001b[0;31m                 \u001b[0mtime\u001b[0m\u001b[0;34m.\u001b[0m\u001b[0msleep\u001b[0m\u001b[0;34m(\u001b[0m\u001b[0;36m0.1\u001b[0m\u001b[0;34m)\u001b[0m\u001b[0;34m\u001b[0m\u001b[0;34m\u001b[0m\u001b[0m\n\u001b[0m\u001b[1;32m    459\u001b[0m         \u001b[0mis_in_interactive_mode\u001b[0m \u001b[0;34m=\u001b[0m \u001b[0mbool\u001b[0m\u001b[0;34m(\u001b[0m\u001b[0mgetattr\u001b[0m\u001b[0;34m(\u001b[0m\u001b[0msys\u001b[0m\u001b[0;34m,\u001b[0m \u001b[0;34m'ps1'\u001b[0m\u001b[0;34m,\u001b[0m \u001b[0msys\u001b[0m\u001b[0;34m.\u001b[0m\u001b[0mflags\u001b[0m\u001b[0;34m.\u001b[0m\u001b[0minteractive\u001b[0m\u001b[0;34m)\u001b[0m\u001b[0;34m)\u001b[0m\u001b[0;34m\u001b[0m\u001b[0;34m\u001b[0m\u001b[0m\n\u001b[1;32m    460\u001b[0m         \u001b[0;32mif\u001b[0m \u001b[0;32mnot\u001b[0m \u001b[0mis_in_interactive_mode\u001b[0m\u001b[0;34m:\u001b[0m\u001b[0;34m\u001b[0m\u001b[0;34m\u001b[0m\u001b[0m\n",
      "\u001b[0;31mKeyboardInterrupt\u001b[0m: "
     ]
    }
   ],
   "source": [
    "# !pip install gradio\n",
    "import os\n",
    "import pandas as pd\n",
    "import json\n",
    "import numpy as np\n",
    "import imageio\n",
    "import gradio as gr\n",
    "import glob\n",
    "from zipfile import ZipFile\n",
    "\n",
    "import sys\n",
    "sys.path.insert(0,'../..')\n",
    "from scanflow import tools\n",
    "from scanflow.deploy import Deploy\n",
    "\n",
    "base_path = os.path.dirname(os.path.dirname(os.getcwd()))\n",
    "app_dir = os.path.join(base_path, \"examples/demo_mnist/\")\n",
    "\n",
    "content = {'app_dir': app_dir, 'name': 'inference-mnist'}\n",
    "\n",
    "def inference(x_inference):\n",
    "    filename = 'x_inference_dashboard.npy'\n",
    "    x_inference_path = os.path.join(content['app_dir'], 'workflow',\n",
    "                                filename)\n",
    "    y_inference_path = os.path.join(content['app_dir'], 'workflow',\n",
    "                            'y_inference.csv')\n",
    "    with open(x_inference_path, 'wb') as f:\n",
    "        np.save(f, x_inference)\n",
    "\n",
    "    paths = tools.get_scanflow_paths(content['app_dir'])\n",
    "    meta_dir = paths['meta_dir']\n",
    "\n",
    "    workflows_metadata_name = f\"{content['name']}.json\"\n",
    "    workflows_metadata_path = os.path.join(meta_dir, workflows_metadata_name)\n",
    "\n",
    "    with open(workflows_metadata_path) as fread:\n",
    "        setup_json = json.load(fread)\n",
    "        \n",
    "    setup_json['executors'][0]['parameters']['x_inference_path'] = filename\n",
    "    setup_json['executors'][0]['parameters']['version'] = 2\n",
    "    \n",
    "    deployer = Deploy(setup_json)\n",
    "    deployer.run_workflows(verbose=True)\n",
    "#     result = deployer.logs_run_workflow[0]['envs'][0]['result']\n",
    "    \n",
    "    predictions = pd.read_csv(y_inference_path)\n",
    "    \n",
    "    return predictions['predictions'].values\n",
    "    \n",
    "def classifier(folder):\n",
    "    result = dict()\n",
    "    images_numpy = list()\n",
    "    images_path = list()\n",
    "    \n",
    "    images = []\n",
    "    for im_path in glob.glob(f\"{folder}/*.png\"):\n",
    "        im = imageio.imread(im_path)\n",
    "        images_path.append(im_path)\n",
    "        images_numpy.append(im)\n",
    "     \n",
    "    images_numpy = np.array(images_numpy)\n",
    "    predictions = inference(images_numpy)\n",
    "        \n",
    "    result['image'] = images_path\n",
    "    result['prediction'] = predictions\n",
    "    \n",
    "    df = pd.DataFrame(result)\n",
    "    \n",
    "    return df\n",
    "\n",
    "textbox = gr.inputs.Textbox(label=\"Folder\", default='images/mix')\n",
    "iface = gr.Interface(classifier, textbox, \"dataframe\")\n",
    "\n",
    "iface.launch(inline=True, debug=True) # Change inline=False in script.py"
   ]
  },
  {
   "cell_type": "markdown",
   "metadata": {},
   "source": [
    "# App: Online"
   ]
  },
  {
   "cell_type": "markdown",
   "metadata": {},
   "source": [
    "Under construction"
   ]
  },
  {
   "cell_type": "code",
   "execution_count": 68,
   "metadata": {
    "collapsed": true,
    "jupyter": {
     "outputs_hidden": true
    },
    "tags": []
   },
   "outputs": [
    {
     "name": "stdout",
     "output_type": "stream",
     "text": [
      "Running locally at: http://127.0.0.1:7877/\n",
      "To create a public link, set `share=True` in `launch()`.\n",
      "Interface loading below...\n"
     ]
    },
    {
     "data": {
      "text/html": [
       "\n",
       "        <iframe\n",
       "            width=\"1000\"\n",
       "            height=\"500\"\n",
       "            src=\"http://127.0.0.1:7877/\"\n",
       "            frameborder=\"0\"\n",
       "            allowfullscreen\n",
       "        ></iframe>\n",
       "        "
      ],
      "text/plain": [
       "<IPython.lib.display.IFrame at 0x7fb7ecede750>"
      ]
     },
     "metadata": {},
     "output_type": "display_data"
    },
    {
     "ename": "KeyboardInterrupt",
     "evalue": "",
     "output_type": "error",
     "traceback": [
      "\u001b[0;31m------------------------------------------------------\u001b[0m",
      "\u001b[0;31mKeyboardInterrupt\u001b[0m    Traceback (most recent call last)",
      "\u001b[0;32m<ipython-input-68-f1ef13fe627c>\u001b[0m in \u001b[0;36m<module>\u001b[0;34m\u001b[0m\n\u001b[1;32m     30\u001b[0m )\n\u001b[1;32m     31\u001b[0m \u001b[0;34m\u001b[0m\u001b[0m\n\u001b[0;32m---> 32\u001b[0;31m \u001b[0miface\u001b[0m\u001b[0;34m.\u001b[0m\u001b[0mlaunch\u001b[0m\u001b[0;34m(\u001b[0m\u001b[0minline\u001b[0m\u001b[0;34m=\u001b[0m\u001b[0;32mTrue\u001b[0m\u001b[0;34m,\u001b[0m \u001b[0mdebug\u001b[0m\u001b[0;34m=\u001b[0m\u001b[0;32mTrue\u001b[0m\u001b[0;34m)\u001b[0m \u001b[0;31m# Change inline=False in script.py\u001b[0m\u001b[0;34m\u001b[0m\u001b[0;34m\u001b[0m\u001b[0m\n\u001b[0m",
      "\u001b[0;32m~/anaconda3/envs/venv2/lib/python3.7/site-packages/gradio/interface.py\u001b[0m in \u001b[0;36mlaunch\u001b[0;34m(self, inline, inbrowser, share, debug, auth)\u001b[0m\n\u001b[1;32m    456\u001b[0m             \u001b[0;32mwhile\u001b[0m \u001b[0;32mTrue\u001b[0m\u001b[0;34m:\u001b[0m\u001b[0;34m\u001b[0m\u001b[0;34m\u001b[0m\u001b[0m\n\u001b[1;32m    457\u001b[0m                 \u001b[0msys\u001b[0m\u001b[0;34m.\u001b[0m\u001b[0mstdout\u001b[0m\u001b[0;34m.\u001b[0m\u001b[0mflush\u001b[0m\u001b[0;34m(\u001b[0m\u001b[0;34m)\u001b[0m\u001b[0;34m\u001b[0m\u001b[0;34m\u001b[0m\u001b[0m\n\u001b[0;32m--> 458\u001b[0;31m                 \u001b[0mtime\u001b[0m\u001b[0;34m.\u001b[0m\u001b[0msleep\u001b[0m\u001b[0;34m(\u001b[0m\u001b[0;36m0.1\u001b[0m\u001b[0;34m)\u001b[0m\u001b[0;34m\u001b[0m\u001b[0;34m\u001b[0m\u001b[0m\n\u001b[0m\u001b[1;32m    459\u001b[0m         \u001b[0mis_in_interactive_mode\u001b[0m \u001b[0;34m=\u001b[0m \u001b[0mbool\u001b[0m\u001b[0;34m(\u001b[0m\u001b[0mgetattr\u001b[0m\u001b[0;34m(\u001b[0m\u001b[0msys\u001b[0m\u001b[0;34m,\u001b[0m \u001b[0;34m'ps1'\u001b[0m\u001b[0;34m,\u001b[0m \u001b[0msys\u001b[0m\u001b[0;34m.\u001b[0m\u001b[0mflags\u001b[0m\u001b[0;34m.\u001b[0m\u001b[0minteractive\u001b[0m\u001b[0;34m)\u001b[0m\u001b[0;34m)\u001b[0m\u001b[0;34m\u001b[0m\u001b[0;34m\u001b[0m\u001b[0m\n\u001b[1;32m    460\u001b[0m         \u001b[0;32mif\u001b[0m \u001b[0;32mnot\u001b[0m \u001b[0mis_in_interactive_mode\u001b[0m\u001b[0;34m:\u001b[0m\u001b[0;34m\u001b[0m\u001b[0;34m\u001b[0m\u001b[0m\n",
      "\u001b[0;31mKeyboardInterrupt\u001b[0m: "
     ]
    }
   ],
   "source": [
    "import gradio as gr\n",
    "import numpy as np\n",
    "import json\n",
    "# sys.path.insert(1,'../..')\n",
    "\n",
    "# from scanflow.deploy import Deploy\n",
    "\n",
    "# base_path = os.path.dirname(os.path.dirname(os.getcwd()))\n",
    "# app_dir = os.path.join(base_path, \"examples/demo_mnist/\")\n",
    "\n",
    "def classify(image):\n",
    "#     prediction = model.predict(image).tolist()[0]\n",
    "    prediction = np.random.randint(10)\n",
    "#     return {str(i): prediction[i] for i in range(10)}\n",
    "    return  prediction\n",
    "\n",
    "iface = gr.Interface(\n",
    "    classify, \n",
    "    gr.inputs.Image(shape=(100, 100)), \n",
    "    gr.outputs.Label(),\n",
    "    capture_session=True,\n",
    "#     interpretation=\"default\",\n",
    "    examples=[\n",
    "        [\"images/0/0-0.png\"],\n",
    "        [\"images/1/1-1.png\"],\n",
    "        [\"images/6/6-0.png\"],\n",
    "        [\"images/7/7-1.png\"],\n",
    "        [\"images/8/8-1.png\"]\n",
    "    ]\n",
    ")\n",
    "\n",
    "iface.launch(inline=True, debug=True) # Change inline=False in script.py"
   ]
  },
  {
   "cell_type": "markdown",
   "metadata": {},
   "source": [
    "# Agent Trigger Reactivity"
   ]
  },
  {
   "cell_type": "code",
   "execution_count": 88,
   "metadata": {},
   "outputs": [
    {
     "name": "stdout",
     "output_type": "stream",
     "text": [
      "{'feedback': {'inference_run_id': 'e021eb417262430c9357ca674bd34441', 'x_inference_artifact': 'x_inference.npy', 'y_inference_artifact': 'y_inference.npy', 'x_chosen_artifact': 'x_inference_chosen.npy', 'y_chosen_artifact': 'x_inference_chosen.npy', 'x_new_train_artifact': 'x_new_train.npy', 'y_new_train_artifact': 'y_new_train.npy', 'n_anomalies': 8, 'percentage_anomalies': 0.36363636363636365, 'checker_agent_run_id': 'c8cc82960c744dea80104ccf8c89724e'}, 'conclusions': {'action': 'Retraining the model using the new augmented data'}}\n"
     ]
    }
   ],
   "source": [
    "def trigger_mas():\n",
    "    import requests\n",
    "\n",
    "    url = 'http://localhost:8003/send/checker/anomaly'\n",
    "    response = requests.get(\n",
    "        url=url,\n",
    "        headers={\"accept\": \"application/json\"})\n",
    "\n",
    "    response_json = json.loads(response.text)\n",
    "    print(response_json)\n",
    "    \n",
    "trigger_mas()"
   ]
  },
  {
   "cell_type": "code",
   "execution_count": 85,
   "metadata": {},
   "outputs": [],
   "source": [
    "# !curl -X 'GET' \\\n",
    "#   'http://localhost:8003/send/checker/anomaly' \\\n",
    "#   -H 'accept: application/json'"
   ]
  },
  {
   "cell_type": "code",
   "execution_count": null,
   "metadata": {},
   "outputs": [],
   "source": [
    "x_test_sample_c, y_test_sample_c = utils.sample_test_mnist_c(corruption='stripe')\n",
    "utils.show_numbers(x_test_sample_c, y_test_sample_c, title=f\"MNIST stripe\")\n"
   ]
  },
  {
   "cell_type": "markdown",
   "metadata": {},
   "source": [
    "# Remove all the metadata"
   ]
  },
  {
   "cell_type": "code",
   "execution_count": 7,
   "metadata": {},
   "outputs": [],
   "source": [
    "import pandas as pd\n",
    "import os\n",
    "import sys\n",
    "sys.path.insert(0,'..')\n",
    "import scanflow\n",
    "from scanflow import track\n",
    "\n",
    "base_path = os.path.dirname(os.path.dirname(os.getcwd()))\n",
    "app_dir = os.path.join(base_path, \"examples/demo_mnist/\")\n",
    "tracker = track.Tracker(app_dir)\n",
    "# last_artifacts = tracker.list_artifacts(workflow_name='mnist')\n",
    "# print(last_artifacts.keys())\n"
   ]
  },
  {
   "cell_type": "code",
   "execution_count": 8,
   "metadata": {},
   "outputs": [
    {
     "name": "stdin",
     "output_type": "stream",
     "text": [
      "Are you sure you want to delete all the tracked data?. (yes/no) yes\n"
     ]
    },
    {
     "name": "stderr",
     "output_type": "stream",
     "text": [
      "12-Apr-21 23:12:28 -  INFO - [Tracker] /home/guess/Desktop/scanflow/examples/demo_mnist/stuff/tracker/backend.sqlite was removed successfully.\n",
      "12-Apr-21 23:12:28 -  INFO - [Tracker] /home/guess/Desktop/scanflow/examples/demo_mnist/stuff/tracker/mlruns was removed successfully.\n",
      "12-Apr-21 23:12:28 -  INFO - [Tracker] Please stop and run the workflows again.\n"
     ]
    }
   ],
   "source": [
    "tracker.delete_tracked_data()"
   ]
  }
 ],
 "metadata": {
  "kernelspec": {
   "display_name": "Python 3",
   "language": "python",
   "name": "python3"
  },
  "language_info": {
   "codemirror_mode": {
    "name": "ipython",
    "version": 3
   },
   "file_extension": ".py",
   "mimetype": "text/x-python",
   "name": "python",
   "nbconvert_exporter": "python",
   "pygments_lexer": "ipython3",
   "version": "3.7.5"
  },
  "toc-showtags": false
 },
 "nbformat": 4,
 "nbformat_minor": 4
}
